{
 "cells": [
  {
   "cell_type": "markdown",
   "metadata": {},
   "source": [
    "# Life Expectancy and GDP Analysis\n"
   ]
  },
  {
   "cell_type": "markdown",
   "metadata": {},
   "source": [
    "The goal of this project is to investigate the relation between the life expectancy of its citizens and the economic output of a country (GDP) across six countries; **Peru, Chile, Mexico, UK, China and United States of America**.\n"
   ]
  },
  {
   "cell_type": "markdown",
   "metadata": {},
   "source": [
    "- Has life expectancy increased over time in the six nations?\n",
    "- Has GDP increased over time in the six nations?\n",
    "- Is there a correlation between GDP and life expectancy of a country?\n",
    "- What is the average life expectancy in these nations?\n",
    "- What is the distribution of that life expectancy?\n"
   ]
  },
  {
   "cell_type": "markdown",
   "metadata": {},
   "source": [
    "Also we will try to conclude:\n"
   ]
  },
  {
   "cell_type": "markdown",
   "metadata": {},
   "source": [
    "- What did you learn throughout the process?\n",
    "- Are the results what you expected?\n",
    "- What are the key findings and takeaways?\n"
   ]
  },
  {
   "cell_type": "markdown",
   "metadata": {},
   "source": [
    "**Data sources**\n",
    "\n",
    "- GDP Source: [World Bank Group](https://data.worldbank.org/indicator/NY.GDP.MKTP.CD)\n",
    "\n",
    "- Life expectancy Data Source: [World Bank Group](https://data.worldbank.org/indicator/SP.DYN.LE00.IN)\n"
   ]
  },
  {
   "cell_type": "markdown",
   "metadata": {},
   "source": [
    "## Import libraries\n"
   ]
  },
  {
   "cell_type": "code",
   "execution_count": 214,
   "metadata": {},
   "outputs": [],
   "source": [
    "import numpy as np\n",
    "import pandas as pd\n",
    "import plotly.express as px\n",
    "from scipy.stats import pearsonr"
   ]
  },
  {
   "cell_type": "markdown",
   "metadata": {},
   "source": [
    "## Load csv\n"
   ]
  },
  {
   "cell_type": "code",
   "execution_count": 215,
   "metadata": {},
   "outputs": [],
   "source": [
    "df = pd.read_csv(\"filtered_gdp_lifeExp.csv\")"
   ]
  },
  {
   "cell_type": "markdown",
   "metadata": {},
   "source": [
    "## Inspect all data\n"
   ]
  },
  {
   "cell_type": "code",
   "execution_count": 216,
   "metadata": {},
   "outputs": [
    {
     "name": "stdout",
     "output_type": "stream",
     "text": [
      "<class 'pandas.core.frame.DataFrame'>\n",
      "RangeIndex: 384 entries, 0 to 383\n",
      "Data columns (total 7 columns):\n",
      " #   Column                  Non-Null Count  Dtype  \n",
      "---  ------                  --------------  -----  \n",
      " 0   Country Name            384 non-null    object \n",
      " 1   Country Code            384 non-null    object \n",
      " 2   Indicator Name GDP      384 non-null    object \n",
      " 3   Year                    384 non-null    int64  \n",
      " 4   GDP                     362 non-null    float64\n",
      " 5   Indicator Name LifeExp  384 non-null    object \n",
      " 6   Life Expectancy         378 non-null    float64\n",
      "dtypes: float64(2), int64(1), object(4)\n",
      "memory usage: 21.1+ KB\n"
     ]
    }
   ],
   "source": [
    "df.info()"
   ]
  },
  {
   "cell_type": "code",
   "execution_count": 217,
   "metadata": {},
   "outputs": [
    {
     "data": {
      "text/html": [
       "<div>\n",
       "<style scoped>\n",
       "    .dataframe tbody tr th:only-of-type {\n",
       "        vertical-align: middle;\n",
       "    }\n",
       "\n",
       "    .dataframe tbody tr th {\n",
       "        vertical-align: top;\n",
       "    }\n",
       "\n",
       "    .dataframe thead th {\n",
       "        text-align: right;\n",
       "    }\n",
       "</style>\n",
       "<table border=\"1\" class=\"dataframe\">\n",
       "  <thead>\n",
       "    <tr style=\"text-align: right;\">\n",
       "      <th></th>\n",
       "      <th>Country Name</th>\n",
       "      <th>Country Code</th>\n",
       "      <th>Indicator Name GDP</th>\n",
       "      <th>Year</th>\n",
       "      <th>GDP</th>\n",
       "      <th>Indicator Name LifeExp</th>\n",
       "      <th>Life Expectancy</th>\n",
       "    </tr>\n",
       "  </thead>\n",
       "  <tbody>\n",
       "    <tr>\n",
       "      <th>count</th>\n",
       "      <td>384</td>\n",
       "      <td>384</td>\n",
       "      <td>384</td>\n",
       "      <td>384.000000</td>\n",
       "      <td>3.620000e+02</td>\n",
       "      <td>384</td>\n",
       "      <td>378.000000</td>\n",
       "    </tr>\n",
       "    <tr>\n",
       "      <th>unique</th>\n",
       "      <td>6</td>\n",
       "      <td>6</td>\n",
       "      <td>1</td>\n",
       "      <td>NaN</td>\n",
       "      <td>NaN</td>\n",
       "      <td>1</td>\n",
       "      <td>NaN</td>\n",
       "    </tr>\n",
       "    <tr>\n",
       "      <th>top</th>\n",
       "      <td>Chile</td>\n",
       "      <td>CHL</td>\n",
       "      <td>GDP (current US$)</td>\n",
       "      <td>NaN</td>\n",
       "      <td>NaN</td>\n",
       "      <td>Life expectancy at birth, total (years)</td>\n",
       "      <td>NaN</td>\n",
       "    </tr>\n",
       "    <tr>\n",
       "      <th>freq</th>\n",
       "      <td>64</td>\n",
       "      <td>64</td>\n",
       "      <td>384</td>\n",
       "      <td>NaN</td>\n",
       "      <td>NaN</td>\n",
       "      <td>384</td>\n",
       "      <td>NaN</td>\n",
       "    </tr>\n",
       "    <tr>\n",
       "      <th>mean</th>\n",
       "      <td>NaN</td>\n",
       "      <td>NaN</td>\n",
       "      <td>NaN</td>\n",
       "      <td>1991.500000</td>\n",
       "      <td>2.452890e+12</td>\n",
       "      <td>NaN</td>\n",
       "      <td>70.392108</td>\n",
       "    </tr>\n",
       "    <tr>\n",
       "      <th>std</th>\n",
       "      <td>NaN</td>\n",
       "      <td>NaN</td>\n",
       "      <td>NaN</td>\n",
       "      <td>18.497054</td>\n",
       "      <td>4.885454e+12</td>\n",
       "      <td>NaN</td>\n",
       "      <td>7.931819</td>\n",
       "    </tr>\n",
       "    <tr>\n",
       "      <th>min</th>\n",
       "      <td>NaN</td>\n",
       "      <td>NaN</td>\n",
       "      <td>NaN</td>\n",
       "      <td>1960.000000</td>\n",
       "      <td>4.110000e+09</td>\n",
       "      <td>NaN</td>\n",
       "      <td>33.275000</td>\n",
       "    </tr>\n",
       "    <tr>\n",
       "      <th>25%</th>\n",
       "      <td>NaN</td>\n",
       "      <td>NaN</td>\n",
       "      <td>NaN</td>\n",
       "      <td>1975.750000</td>\n",
       "      <td>7.840084e+10</td>\n",
       "      <td>NaN</td>\n",
       "      <td>66.018500</td>\n",
       "    </tr>\n",
       "    <tr>\n",
       "      <th>50%</th>\n",
       "      <td>NaN</td>\n",
       "      <td>NaN</td>\n",
       "      <td>NaN</td>\n",
       "      <td>1991.500000</td>\n",
       "      <td>3.109208e+11</td>\n",
       "      <td>NaN</td>\n",
       "      <td>72.637000</td>\n",
       "    </tr>\n",
       "    <tr>\n",
       "      <th>75%</th>\n",
       "      <td>NaN</td>\n",
       "      <td>NaN</td>\n",
       "      <td>NaN</td>\n",
       "      <td>2007.250000</td>\n",
       "      <td>1.761255e+12</td>\n",
       "      <td>NaN</td>\n",
       "      <td>76.015750</td>\n",
       "    </tr>\n",
       "    <tr>\n",
       "      <th>max</th>\n",
       "      <td>NaN</td>\n",
       "      <td>NaN</td>\n",
       "      <td>NaN</td>\n",
       "      <td>2023.000000</td>\n",
       "      <td>2.736094e+13</td>\n",
       "      <td>NaN</td>\n",
       "      <td>82.058537</td>\n",
       "    </tr>\n",
       "  </tbody>\n",
       "</table>\n",
       "</div>"
      ],
      "text/plain": [
       "       Country Name Country Code Indicator Name GDP         Year  \\\n",
       "count           384          384                384   384.000000   \n",
       "unique            6            6                  1          NaN   \n",
       "top           Chile          CHL  GDP (current US$)          NaN   \n",
       "freq             64           64                384          NaN   \n",
       "mean            NaN          NaN                NaN  1991.500000   \n",
       "std             NaN          NaN                NaN    18.497054   \n",
       "min             NaN          NaN                NaN  1960.000000   \n",
       "25%             NaN          NaN                NaN  1975.750000   \n",
       "50%             NaN          NaN                NaN  1991.500000   \n",
       "75%             NaN          NaN                NaN  2007.250000   \n",
       "max             NaN          NaN                NaN  2023.000000   \n",
       "\n",
       "                 GDP                   Indicator Name LifeExp  Life Expectancy  \n",
       "count   3.620000e+02                                      384       378.000000  \n",
       "unique           NaN                                        1              NaN  \n",
       "top              NaN  Life expectancy at birth, total (years)              NaN  \n",
       "freq             NaN                                      384              NaN  \n",
       "mean    2.452890e+12                                      NaN        70.392108  \n",
       "std     4.885454e+12                                      NaN         7.931819  \n",
       "min     4.110000e+09                                      NaN        33.275000  \n",
       "25%     7.840084e+10                                      NaN        66.018500  \n",
       "50%     3.109208e+11                                      NaN        72.637000  \n",
       "75%     1.761255e+12                                      NaN        76.015750  \n",
       "max     2.736094e+13                                      NaN        82.058537  "
      ]
     },
     "execution_count": 217,
     "metadata": {},
     "output_type": "execute_result"
    }
   ],
   "source": [
    "df.describe(include=\"all\")"
   ]
  },
  {
   "cell_type": "markdown",
   "metadata": {},
   "source": [
    "## Create a function to display information over time"
   ]
  },
  {
   "cell_type": "code",
   "execution_count": 218,
   "metadata": {},
   "outputs": [],
   "source": [
    "def point_plot(df, feature, countries):\n",
    "  # Filter out the countries of interest\n",
    "  filtered_df = df[df['Country Name'].isin(countries)].dropna(subset=[feature])\n",
    "\n",
    "  # Create a new column for the GDP in Trillions values\n",
    "  filtered_df['GDP in Trillions'] = filtered_df[feature].apply(lambda x: f\"${x/1e12:.2f}T\")\n",
    "\n",
    "  feature_info = {'GDP in Trillions': True, feature: False} if feature == \"GDP\" else {feature: True}\n",
    "\n",
    "  # Create the plot\n",
    "  fig = px.line(\n",
    "    filtered_df, x='Year', y=feature, color='Country Name', \n",
    "    hover_data={'Country Name': True, 'Year': True, **feature_info},\n",
    "    markers=True\n",
    "  )\n",
    "\n",
    "  # Update layout for rotated x-axis labels and increased height\n",
    "  fig.update_layout(\n",
    "    xaxis=dict(tickmode='array', tickvals=filtered_df['Year'].unique(), tickangle=-70),\n",
    "    yaxis_title=\"GDP in Trillions of U.S. Dollars\" if feature == \"GDP\" else \"Life expectancy at birth (years)\",\n",
    "    xaxis_title=\"Year\",\n",
    "    title=dict(text= f\"{feature} Over Time for Different Countries\", x=0.5),\n",
    "    legend_title=\"Country\",\n",
    "    height=1000\n",
    "  )\n",
    "\n",
    "  fig.update_traces(marker=dict(size=13))\n",
    "\n",
    "  return fig.show()"
   ]
  },
  {
   "cell_type": "markdown",
   "metadata": {},
   "source": [
    "## Inspect GDP and Life Expectancy data"
   ]
  },
  {
   "cell_type": "code",
   "execution_count": 219,
   "metadata": {},
   "outputs": [
    {
     "data": {
      "application/vnd.plotly.v1+json": {
       "config": {
        "plotlyServerURL": "https://plot.ly"
       },
       "data": [
        {
         "customdata": [
          [
           "Chile",
           "$0.00T"
          ],
          [
           "Chile",
           "$0.00T"
          ],
          [
           "Chile",
           "$0.01T"
          ],
          [
           "Chile",
           "$0.01T"
          ],
          [
           "Chile",
           "$0.01T"
          ],
          [
           "Chile",
           "$0.01T"
          ],
          [
           "Chile",
           "$0.01T"
          ],
          [
           "Chile",
           "$0.01T"
          ],
          [
           "Chile",
           "$0.01T"
          ],
          [
           "Chile",
           "$0.01T"
          ],
          [
           "Chile",
           "$0.01T"
          ],
          [
           "Chile",
           "$0.01T"
          ],
          [
           "Chile",
           "$0.01T"
          ],
          [
           "Chile",
           "$0.02T"
          ],
          [
           "Chile",
           "$0.02T"
          ],
          [
           "Chile",
           "$0.01T"
          ],
          [
           "Chile",
           "$0.01T"
          ],
          [
           "Chile",
           "$0.01T"
          ],
          [
           "Chile",
           "$0.02T"
          ],
          [
           "Chile",
           "$0.02T"
          ],
          [
           "Chile",
           "$0.03T"
          ],
          [
           "Chile",
           "$0.03T"
          ],
          [
           "Chile",
           "$0.02T"
          ],
          [
           "Chile",
           "$0.02T"
          ],
          [
           "Chile",
           "$0.02T"
          ],
          [
           "Chile",
           "$0.02T"
          ],
          [
           "Chile",
           "$0.02T"
          ],
          [
           "Chile",
           "$0.02T"
          ],
          [
           "Chile",
           "$0.03T"
          ],
          [
           "Chile",
           "$0.03T"
          ],
          [
           "Chile",
           "$0.03T"
          ],
          [
           "Chile",
           "$0.04T"
          ],
          [
           "Chile",
           "$0.05T"
          ],
          [
           "Chile",
           "$0.05T"
          ],
          [
           "Chile",
           "$0.06T"
          ],
          [
           "Chile",
           "$0.07T"
          ],
          [
           "Chile",
           "$0.08T"
          ],
          [
           "Chile",
           "$0.09T"
          ],
          [
           "Chile",
           "$0.08T"
          ],
          [
           "Chile",
           "$0.08T"
          ],
          [
           "Chile",
           "$0.08T"
          ],
          [
           "Chile",
           "$0.07T"
          ],
          [
           "Chile",
           "$0.07T"
          ],
          [
           "Chile",
           "$0.08T"
          ],
          [
           "Chile",
           "$0.10T"
          ],
          [
           "Chile",
           "$0.12T"
          ],
          [
           "Chile",
           "$0.15T"
          ],
          [
           "Chile",
           "$0.17T"
          ],
          [
           "Chile",
           "$0.18T"
          ],
          [
           "Chile",
           "$0.17T"
          ],
          [
           "Chile",
           "$0.22T"
          ],
          [
           "Chile",
           "$0.25T"
          ],
          [
           "Chile",
           "$0.27T"
          ],
          [
           "Chile",
           "$0.28T"
          ],
          [
           "Chile",
           "$0.26T"
          ],
          [
           "Chile",
           "$0.24T"
          ],
          [
           "Chile",
           "$0.25T"
          ],
          [
           "Chile",
           "$0.28T"
          ],
          [
           "Chile",
           "$0.30T"
          ],
          [
           "Chile",
           "$0.28T"
          ],
          [
           "Chile",
           "$0.25T"
          ],
          [
           "Chile",
           "$0.32T"
          ],
          [
           "Chile",
           "$0.30T"
          ],
          [
           "Chile",
           "$0.34T"
          ]
         ],
         "hovertemplate": "Country Name=%{customdata[0]}<br>Year=%{x}<br>GDP in Trillions=%{customdata[1]}<extra></extra>",
         "legendgroup": "Chile",
         "line": {
          "color": "#636efa",
          "dash": "solid"
         },
         "marker": {
          "size": 13,
          "symbol": "circle"
         },
         "mode": "lines+markers",
         "name": "Chile",
         "orientation": "v",
         "showlegend": true,
         "type": "scatter",
         "x": [
          1960,
          1961,
          1962,
          1963,
          1964,
          1965,
          1966,
          1967,
          1968,
          1969,
          1970,
          1971,
          1972,
          1973,
          1974,
          1975,
          1976,
          1977,
          1978,
          1979,
          1980,
          1981,
          1982,
          1983,
          1984,
          1985,
          1986,
          1987,
          1988,
          1989,
          1990,
          1991,
          1992,
          1993,
          1994,
          1995,
          1996,
          1997,
          1998,
          1999,
          2000,
          2001,
          2002,
          2003,
          2004,
          2005,
          2006,
          2007,
          2008,
          2009,
          2010,
          2011,
          2012,
          2013,
          2014,
          2015,
          2016,
          2017,
          2018,
          2019,
          2020,
          2021,
          2022,
          2023
         ],
         "xaxis": "x",
         "y": [
          4110000000,
          4829238095.2381,
          5631285444.2344,
          5591307028.36005,
          5964195925.4443,
          6108679125.7523,
          7162633082.31628,
          7057478295.18548,
          7192102966.84119,
          8359596194.01253,
          9144112431.28214,
          10876091407.9777,
          11833904487.641,
          16826390943.8597,
          16209693232.0782,
          7621570062.17598,
          10338624019.4415,
          13965595122.3247,
          15992038535.2046,
          21806136345.5074,
          29036709871.7949,
          34509878043.5897,
          19529291464.7274,
          20362016672.278,
          19671768024.4581,
          17717662227.8036,
          18897110625.5242,
          22250729666.7937,
          26042571615.5987,
          29936735491.4427,
          33137824762.0173,
          37846188228.2702,
          45949608551.8086,
          49287378599.1612,
          56998601183.5492,
          73444831671.0169,
          78584098982.9097,
          85741415285.4035,
          81990010703.843,
          75578685735.5219,
          78339750721.7352,
          71574739561.4329,
          70264045939.1322,
          76492579644.0605,
          99075985773.176,
          122294145162.835,
          153843518171.43,
          172491076033.863,
          179894594475.98,
          171777900623.177,
          217051209240.298,
          251382573885.594,
          267024782480.28,
          277395018837.366,
          259560978231.552,
          242450355827.827,
          249344863933.461,
          276154259987.103,
          295857562991.709,
          278285058719.466,
          254042159309.311,
          315515014838.539,
          302116539409.03,
          335533331669.219
         ],
         "yaxis": "y"
        },
        {
         "customdata": [
          [
           "China",
           "$0.06T"
          ],
          [
           "China",
           "$0.05T"
          ],
          [
           "China",
           "$0.05T"
          ],
          [
           "China",
           "$0.05T"
          ],
          [
           "China",
           "$0.06T"
          ],
          [
           "China",
           "$0.07T"
          ],
          [
           "China",
           "$0.08T"
          ],
          [
           "China",
           "$0.07T"
          ],
          [
           "China",
           "$0.07T"
          ],
          [
           "China",
           "$0.08T"
          ],
          [
           "China",
           "$0.09T"
          ],
          [
           "China",
           "$0.10T"
          ],
          [
           "China",
           "$0.11T"
          ],
          [
           "China",
           "$0.14T"
          ],
          [
           "China",
           "$0.14T"
          ],
          [
           "China",
           "$0.16T"
          ],
          [
           "China",
           "$0.15T"
          ],
          [
           "China",
           "$0.17T"
          ],
          [
           "China",
           "$0.15T"
          ],
          [
           "China",
           "$0.18T"
          ],
          [
           "China",
           "$0.19T"
          ],
          [
           "China",
           "$0.20T"
          ],
          [
           "China",
           "$0.21T"
          ],
          [
           "China",
           "$0.23T"
          ],
          [
           "China",
           "$0.26T"
          ],
          [
           "China",
           "$0.31T"
          ],
          [
           "China",
           "$0.30T"
          ],
          [
           "China",
           "$0.27T"
          ],
          [
           "China",
           "$0.31T"
          ],
          [
           "China",
           "$0.35T"
          ],
          [
           "China",
           "$0.36T"
          ],
          [
           "China",
           "$0.38T"
          ],
          [
           "China",
           "$0.43T"
          ],
          [
           "China",
           "$0.44T"
          ],
          [
           "China",
           "$0.56T"
          ],
          [
           "China",
           "$0.73T"
          ],
          [
           "China",
           "$0.86T"
          ],
          [
           "China",
           "$0.96T"
          ],
          [
           "China",
           "$1.03T"
          ],
          [
           "China",
           "$1.09T"
          ],
          [
           "China",
           "$1.21T"
          ],
          [
           "China",
           "$1.34T"
          ],
          [
           "China",
           "$1.47T"
          ],
          [
           "China",
           "$1.66T"
          ],
          [
           "China",
           "$1.96T"
          ],
          [
           "China",
           "$2.29T"
          ],
          [
           "China",
           "$2.75T"
          ],
          [
           "China",
           "$3.55T"
          ],
          [
           "China",
           "$4.59T"
          ],
          [
           "China",
           "$5.10T"
          ],
          [
           "China",
           "$6.09T"
          ],
          [
           "China",
           "$7.55T"
          ],
          [
           "China",
           "$8.53T"
          ],
          [
           "China",
           "$9.57T"
          ],
          [
           "China",
           "$10.48T"
          ],
          [
           "China",
           "$11.06T"
          ],
          [
           "China",
           "$11.23T"
          ],
          [
           "China",
           "$12.31T"
          ],
          [
           "China",
           "$13.89T"
          ],
          [
           "China",
           "$14.28T"
          ],
          [
           "China",
           "$14.69T"
          ],
          [
           "China",
           "$17.82T"
          ],
          [
           "China",
           "$17.88T"
          ],
          [
           "China",
           "$17.79T"
          ]
         ],
         "hovertemplate": "Country Name=%{customdata[0]}<br>Year=%{x}<br>GDP in Trillions=%{customdata[1]}<extra></extra>",
         "legendgroup": "China",
         "line": {
          "color": "#EF553B",
          "dash": "solid"
         },
         "marker": {
          "size": 13,
          "symbol": "circle"
         },
         "mode": "lines+markers",
         "name": "China",
         "orientation": "v",
         "showlegend": true,
         "type": "scatter",
         "x": [
          1960,
          1961,
          1962,
          1963,
          1964,
          1965,
          1966,
          1967,
          1968,
          1969,
          1970,
          1971,
          1972,
          1973,
          1974,
          1975,
          1976,
          1977,
          1978,
          1979,
          1980,
          1981,
          1982,
          1983,
          1984,
          1985,
          1986,
          1987,
          1988,
          1989,
          1990,
          1991,
          1992,
          1993,
          1994,
          1995,
          1996,
          1997,
          1998,
          1999,
          2000,
          2001,
          2002,
          2003,
          2004,
          2005,
          2006,
          2007,
          2008,
          2009,
          2010,
          2011,
          2012,
          2013,
          2014,
          2015,
          2016,
          2017,
          2018,
          2019,
          2020,
          2021,
          2022,
          2023
         ],
         "xaxis": "x",
         "y": [
          59716249310.9742,
          50056685957.359,
          47209186415.3555,
          50706614526.1472,
          59708125203.8643,
          70436008642.4251,
          76720005491.8964,
          72881364882.4909,
          70846276051.4727,
          79705614854.7674,
          92602634891.6589,
          99800593790.9886,
          113689308020.343,
          138543170458.064,
          144188970821.072,
          163429530659.638,
          153939265947.775,
          174935933078.663,
          149540752829.268,
          178280594413.043,
          191149211575,
          195866382432.54,
          205089699858.779,
          230686747153.257,
          259946510957.143,
          309488028132.653,
          300758100107.246,
          272972974764.574,
          312353631207.819,
          347768051311.741,
          360857912565.966,
          383373318083.624,
          426915712715.856,
          444731282435.515,
          564321854521.013,
          734484834573.582,
          863749314718.538,
          961601980984.623,
          1029060747620.65,
          1094003874937.34,
          1211331651866.09,
          1339400897105.11,
          1470557654799.95,
          1660280543846.79,
          1955346768721.39,
          2285961149879.85,
          2752118657184.02,
          3550327802998.4,
          4594336785737.67,
          5101691124285.21,
          6087191746679.49,
          7551545703440.75,
          8532185381680.59,
          9570471111831.68,
          10475624944355.2,
          11061572618578.7,
          11233313730348.7,
          12310491333980.9,
          13894907857880.6,
          14279968506271.7,
          14687744162801,
          17820459508852.2,
          17881783387000.9,
          17794781986104.5
         ],
         "yaxis": "y"
        },
        {
         "customdata": [
          [
           "United Kingdom",
           "$0.07T"
          ],
          [
           "United Kingdom",
           "$0.08T"
          ],
          [
           "United Kingdom",
           "$0.08T"
          ],
          [
           "United Kingdom",
           "$0.09T"
          ],
          [
           "United Kingdom",
           "$0.09T"
          ],
          [
           "United Kingdom",
           "$0.10T"
          ],
          [
           "United Kingdom",
           "$0.11T"
          ],
          [
           "United Kingdom",
           "$0.11T"
          ],
          [
           "United Kingdom",
           "$0.11T"
          ],
          [
           "United Kingdom",
           "$0.12T"
          ],
          [
           "United Kingdom",
           "$0.13T"
          ],
          [
           "United Kingdom",
           "$0.15T"
          ],
          [
           "United Kingdom",
           "$0.17T"
          ],
          [
           "United Kingdom",
           "$0.19T"
          ],
          [
           "United Kingdom",
           "$0.21T"
          ],
          [
           "United Kingdom",
           "$0.24T"
          ],
          [
           "United Kingdom",
           "$0.23T"
          ],
          [
           "United Kingdom",
           "$0.26T"
          ],
          [
           "United Kingdom",
           "$0.34T"
          ],
          [
           "United Kingdom",
           "$0.44T"
          ],
          [
           "United Kingdom",
           "$0.56T"
          ],
          [
           "United Kingdom",
           "$0.54T"
          ],
          [
           "United Kingdom",
           "$0.52T"
          ],
          [
           "United Kingdom",
           "$0.49T"
          ],
          [
           "United Kingdom",
           "$0.46T"
          ],
          [
           "United Kingdom",
           "$0.49T"
          ],
          [
           "United Kingdom",
           "$0.60T"
          ],
          [
           "United Kingdom",
           "$0.75T"
          ],
          [
           "United Kingdom",
           "$0.91T"
          ],
          [
           "United Kingdom",
           "$0.93T"
          ],
          [
           "United Kingdom",
           "$1.09T"
          ],
          [
           "United Kingdom",
           "$1.14T"
          ],
          [
           "United Kingdom",
           "$1.18T"
          ],
          [
           "United Kingdom",
           "$1.06T"
          ],
          [
           "United Kingdom",
           "$1.14T"
          ],
          [
           "United Kingdom",
           "$1.34T"
          ],
          [
           "United Kingdom",
           "$1.42T"
          ],
          [
           "United Kingdom",
           "$1.56T"
          ],
          [
           "United Kingdom",
           "$1.65T"
          ],
          [
           "United Kingdom",
           "$1.69T"
          ],
          [
           "United Kingdom",
           "$1.67T"
          ],
          [
           "United Kingdom",
           "$1.65T"
          ],
          [
           "United Kingdom",
           "$1.79T"
          ],
          [
           "United Kingdom",
           "$2.05T"
          ],
          [
           "United Kingdom",
           "$2.42T"
          ],
          [
           "United Kingdom",
           "$2.54T"
          ],
          [
           "United Kingdom",
           "$2.71T"
          ],
          [
           "United Kingdom",
           "$3.09T"
          ],
          [
           "United Kingdom",
           "$2.93T"
          ],
          [
           "United Kingdom",
           "$2.41T"
          ],
          [
           "United Kingdom",
           "$2.49T"
          ],
          [
           "United Kingdom",
           "$2.66T"
          ],
          [
           "United Kingdom",
           "$2.71T"
          ],
          [
           "United Kingdom",
           "$2.78T"
          ],
          [
           "United Kingdom",
           "$3.06T"
          ],
          [
           "United Kingdom",
           "$2.93T"
          ],
          [
           "United Kingdom",
           "$2.69T"
          ],
          [
           "United Kingdom",
           "$2.68T"
          ],
          [
           "United Kingdom",
           "$2.87T"
          ],
          [
           "United Kingdom",
           "$2.85T"
          ],
          [
           "United Kingdom",
           "$2.70T"
          ],
          [
           "United Kingdom",
           "$3.14T"
          ],
          [
           "United Kingdom",
           "$3.09T"
          ],
          [
           "United Kingdom",
           "$3.34T"
          ]
         ],
         "hovertemplate": "Country Name=%{customdata[0]}<br>Year=%{x}<br>GDP in Trillions=%{customdata[1]}<extra></extra>",
         "legendgroup": "United Kingdom",
         "line": {
          "color": "#00cc96",
          "dash": "solid"
         },
         "marker": {
          "size": 13,
          "symbol": "circle"
         },
         "mode": "lines+markers",
         "name": "United Kingdom",
         "orientation": "v",
         "showlegend": true,
         "type": "scatter",
         "x": [
          1960,
          1961,
          1962,
          1963,
          1964,
          1965,
          1966,
          1967,
          1968,
          1969,
          1970,
          1971,
          1972,
          1973,
          1974,
          1975,
          1976,
          1977,
          1978,
          1979,
          1980,
          1981,
          1982,
          1983,
          1984,
          1985,
          1986,
          1987,
          1988,
          1989,
          1990,
          1991,
          1992,
          1993,
          1994,
          1995,
          1996,
          1997,
          1998,
          1999,
          2000,
          2001,
          2002,
          2003,
          2004,
          2005,
          2006,
          2007,
          2008,
          2009,
          2010,
          2011,
          2012,
          2013,
          2014,
          2015,
          2016,
          2017,
          2018,
          2019,
          2020,
          2021,
          2022,
          2023
         ],
         "xaxis": "x",
         "y": [
          73233967692.1028,
          77741965703.3544,
          81247564156.8246,
          86561961812.3249,
          94407558351.1616,
          101824755078.991,
          108572752102.045,
          113116888210.787,
          107759910067.889,
          116464702803.218,
          130671946244.3,
          148113896325.14,
          169965034965.035,
          192537971582.558,
          206131369798.971,
          241756637168.142,
          232614555256.065,
          263066457352.172,
          335883029721.956,
          438994070309.191,
          564947710899.373,
          540765675241.158,
          515048916841.37,
          489618008185.539,
          461487097632.349,
          489285164271.047,
          601452653180.885,
          745162608269.325,
          910122732123.799,
          926884816753.927,
          1093169389204.55,
          1142797178130.51,
          1179659529659.53,
          1061388722255.55,
          1140489745944.29,
          1344240176739.78,
          1419645865834.63,
          1560911918795.02,
          1653694932096.72,
          1687830448147.55,
          1665534876683.31,
          1649827263567.01,
          1785729916067.15,
          2054422857142.86,
          2421525082387.4,
          2543180000000,
          2708441582336.71,
          3090510204081.63,
          2929411764705.88,
          2412840006231.5,
          2485482596184.71,
          2663805834828.07,
          2707089726614.64,
          2784853502534.29,
          3064708247921.43,
          2927911140916.73,
          2689106566899.61,
          2680148052335.3,
          2871340347581.79,
          2851407164907.81,
          2697806592293.86,
          3141506156618.7,
          3088839763445.02,
          3340032380668.04
         ],
         "yaxis": "y"
        },
        {
         "customdata": [
          [
           "Mexico",
           "$0.01T"
          ],
          [
           "Mexico",
           "$0.01T"
          ],
          [
           "Mexico",
           "$0.02T"
          ],
          [
           "Mexico",
           "$0.02T"
          ],
          [
           "Mexico",
           "$0.02T"
          ],
          [
           "Mexico",
           "$0.02T"
          ],
          [
           "Mexico",
           "$0.02T"
          ],
          [
           "Mexico",
           "$0.03T"
          ],
          [
           "Mexico",
           "$0.03T"
          ],
          [
           "Mexico",
           "$0.03T"
          ],
          [
           "Mexico",
           "$0.04T"
          ],
          [
           "Mexico",
           "$0.04T"
          ],
          [
           "Mexico",
           "$0.05T"
          ],
          [
           "Mexico",
           "$0.06T"
          ],
          [
           "Mexico",
           "$0.07T"
          ],
          [
           "Mexico",
           "$0.09T"
          ],
          [
           "Mexico",
           "$0.09T"
          ],
          [
           "Mexico",
           "$0.08T"
          ],
          [
           "Mexico",
           "$0.10T"
          ],
          [
           "Mexico",
           "$0.13T"
          ],
          [
           "Mexico",
           "$0.21T"
          ],
          [
           "Mexico",
           "$0.26T"
          ],
          [
           "Mexico",
           "$0.18T"
          ],
          [
           "Mexico",
           "$0.16T"
          ],
          [
           "Mexico",
           "$0.18T"
          ],
          [
           "Mexico",
           "$0.20T"
          ],
          [
           "Mexico",
           "$0.13T"
          ],
          [
           "Mexico",
           "$0.15T"
          ],
          [
           "Mexico",
           "$0.18T"
          ],
          [
           "Mexico",
           "$0.22T"
          ],
          [
           "Mexico",
           "$0.26T"
          ],
          [
           "Mexico",
           "$0.31T"
          ],
          [
           "Mexico",
           "$0.36T"
          ],
          [
           "Mexico",
           "$0.53T"
          ],
          [
           "Mexico",
           "$0.55T"
          ],
          [
           "Mexico",
           "$0.38T"
          ],
          [
           "Mexico",
           "$0.43T"
          ],
          [
           "Mexico",
           "$0.52T"
          ],
          [
           "Mexico",
           "$0.56T"
          ],
          [
           "Mexico",
           "$0.63T"
          ],
          [
           "Mexico",
           "$0.74T"
          ],
          [
           "Mexico",
           "$0.80T"
          ],
          [
           "Mexico",
           "$0.81T"
          ],
          [
           "Mexico",
           "$0.77T"
          ],
          [
           "Mexico",
           "$0.82T"
          ],
          [
           "Mexico",
           "$0.92T"
          ],
          [
           "Mexico",
           "$1.02T"
          ],
          [
           "Mexico",
           "$1.10T"
          ],
          [
           "Mexico",
           "$1.16T"
          ],
          [
           "Mexico",
           "$0.94T"
          ],
          [
           "Mexico",
           "$1.11T"
          ],
          [
           "Mexico",
           "$1.23T"
          ],
          [
           "Mexico",
           "$1.26T"
          ],
          [
           "Mexico",
           "$1.33T"
          ],
          [
           "Mexico",
           "$1.36T"
          ],
          [
           "Mexico",
           "$1.21T"
          ],
          [
           "Mexico",
           "$1.11T"
          ],
          [
           "Mexico",
           "$1.19T"
          ],
          [
           "Mexico",
           "$1.26T"
          ],
          [
           "Mexico",
           "$1.31T"
          ],
          [
           "Mexico",
           "$1.12T"
          ],
          [
           "Mexico",
           "$1.31T"
          ],
          [
           "Mexico",
           "$1.46T"
          ],
          [
           "Mexico",
           "$1.79T"
          ]
         ],
         "hovertemplate": "Country Name=%{customdata[0]}<br>Year=%{x}<br>GDP in Trillions=%{customdata[1]}<extra></extra>",
         "legendgroup": "Mexico",
         "line": {
          "color": "#ab63fa",
          "dash": "solid"
         },
         "marker": {
          "size": 13,
          "symbol": "circle"
         },
         "mode": "lines+markers",
         "name": "Mexico",
         "orientation": "v",
         "showlegend": true,
         "type": "scatter",
         "x": [
          1960,
          1961,
          1962,
          1963,
          1964,
          1965,
          1966,
          1967,
          1968,
          1969,
          1970,
          1971,
          1972,
          1973,
          1974,
          1975,
          1976,
          1977,
          1978,
          1979,
          1980,
          1981,
          1982,
          1983,
          1984,
          1985,
          1986,
          1987,
          1988,
          1989,
          1990,
          1991,
          1992,
          1993,
          1994,
          1995,
          1996,
          1997,
          1998,
          1999,
          2000,
          2001,
          2002,
          2003,
          2004,
          2005,
          2006,
          2007,
          2008,
          2009,
          2010,
          2011,
          2012,
          2013,
          2014,
          2015,
          2016,
          2017,
          2018,
          2019,
          2020,
          2021,
          2022,
          2023
         ],
         "xaxis": "x",
         "y": [
          13040000000,
          14160000000,
          15200000000,
          16960000000,
          20080000000,
          21840000000,
          24320000000,
          26560000000,
          29360000000,
          32480000000,
          35520000000,
          39200000000,
          45200000000,
          55280000000,
          72000000000,
          88000000000,
          88875923765.072,
          81912018783.5024,
          102648570299.117,
          134531900898.926,
          205577055465.993,
          263797827860.494,
          184602611609.517,
          156167000432.994,
          184230754105.394,
          195241069482.077,
          134556034672.991,
          147542558208.888,
          181611150496.787,
          221403098266.77,
          261253675692.838,
          313139656145.745,
          363157832923.734,
          530160763983.506,
          553618247900.74,
          380157469866.849,
          432157945024.428,
          523449530464.257,
          557461102630.658,
          631249359702.389,
          742061329643.37,
          796064590656.176,
          810666116505.478,
          765549967703.273,
          819459227375.022,
          917571853529.104,
          1020265057882.01,
          1102355554971.95,
          1161553459715.1,
          943437415024.633,
          1105424238731.09,
          1229013703416.76,
          1255110424817.79,
          1327436290282.67,
          1364507717614.13,
          1213294467716.88,
          1112233497452.7,
          1190721475906,
          1256300182879.73,
          1305211135822.61,
          1120832412468.85,
          1313069763986.6,
          1463323889036.56,
          1788886821046.81
         ],
         "yaxis": "y"
        },
        {
         "customdata": [
          [
           "United States",
           "$0.54T"
          ],
          [
           "United States",
           "$0.56T"
          ],
          [
           "United States",
           "$0.60T"
          ],
          [
           "United States",
           "$0.64T"
          ],
          [
           "United States",
           "$0.68T"
          ],
          [
           "United States",
           "$0.74T"
          ],
          [
           "United States",
           "$0.81T"
          ],
          [
           "United States",
           "$0.86T"
          ],
          [
           "United States",
           "$0.94T"
          ],
          [
           "United States",
           "$1.02T"
          ],
          [
           "United States",
           "$1.07T"
          ],
          [
           "United States",
           "$1.16T"
          ],
          [
           "United States",
           "$1.28T"
          ],
          [
           "United States",
           "$1.43T"
          ],
          [
           "United States",
           "$1.55T"
          ],
          [
           "United States",
           "$1.68T"
          ],
          [
           "United States",
           "$1.87T"
          ],
          [
           "United States",
           "$2.08T"
          ],
          [
           "United States",
           "$2.35T"
          ],
          [
           "United States",
           "$2.63T"
          ],
          [
           "United States",
           "$2.86T"
          ],
          [
           "United States",
           "$3.21T"
          ],
          [
           "United States",
           "$3.34T"
          ],
          [
           "United States",
           "$3.63T"
          ],
          [
           "United States",
           "$4.04T"
          ],
          [
           "United States",
           "$4.34T"
          ],
          [
           "United States",
           "$4.58T"
          ],
          [
           "United States",
           "$4.86T"
          ],
          [
           "United States",
           "$5.24T"
          ],
          [
           "United States",
           "$5.64T"
          ],
          [
           "United States",
           "$5.96T"
          ],
          [
           "United States",
           "$6.16T"
          ],
          [
           "United States",
           "$6.52T"
          ],
          [
           "United States",
           "$6.86T"
          ],
          [
           "United States",
           "$7.29T"
          ],
          [
           "United States",
           "$7.64T"
          ],
          [
           "United States",
           "$8.07T"
          ],
          [
           "United States",
           "$8.58T"
          ],
          [
           "United States",
           "$9.06T"
          ],
          [
           "United States",
           "$9.63T"
          ],
          [
           "United States",
           "$10.25T"
          ],
          [
           "United States",
           "$10.58T"
          ],
          [
           "United States",
           "$10.93T"
          ],
          [
           "United States",
           "$11.46T"
          ],
          [
           "United States",
           "$12.22T"
          ],
          [
           "United States",
           "$13.04T"
          ],
          [
           "United States",
           "$13.82T"
          ],
          [
           "United States",
           "$14.47T"
          ],
          [
           "United States",
           "$14.77T"
          ],
          [
           "United States",
           "$14.48T"
          ],
          [
           "United States",
           "$15.05T"
          ],
          [
           "United States",
           "$15.60T"
          ],
          [
           "United States",
           "$16.25T"
          ],
          [
           "United States",
           "$16.88T"
          ],
          [
           "United States",
           "$17.61T"
          ],
          [
           "United States",
           "$18.30T"
          ],
          [
           "United States",
           "$18.80T"
          ],
          [
           "United States",
           "$19.61T"
          ],
          [
           "United States",
           "$20.66T"
          ],
          [
           "United States",
           "$21.52T"
          ],
          [
           "United States",
           "$21.32T"
          ],
          [
           "United States",
           "$23.59T"
          ],
          [
           "United States",
           "$25.74T"
          ],
          [
           "United States",
           "$27.36T"
          ]
         ],
         "hovertemplate": "Country Name=%{customdata[0]}<br>Year=%{x}<br>GDP in Trillions=%{customdata[1]}<extra></extra>",
         "legendgroup": "United States",
         "line": {
          "color": "#FFA15A",
          "dash": "solid"
         },
         "marker": {
          "size": 13,
          "symbol": "circle"
         },
         "mode": "lines+markers",
         "name": "United States",
         "orientation": "v",
         "showlegend": true,
         "type": "scatter",
         "x": [
          1960,
          1961,
          1962,
          1963,
          1964,
          1965,
          1966,
          1967,
          1968,
          1969,
          1970,
          1971,
          1972,
          1973,
          1974,
          1975,
          1976,
          1977,
          1978,
          1979,
          1980,
          1981,
          1982,
          1983,
          1984,
          1985,
          1986,
          1987,
          1988,
          1989,
          1990,
          1991,
          1992,
          1993,
          1994,
          1995,
          1996,
          1997,
          1998,
          1999,
          2000,
          2001,
          2002,
          2003,
          2004,
          2005,
          2006,
          2007,
          2008,
          2009,
          2010,
          2011,
          2012,
          2013,
          2014,
          2015,
          2016,
          2017,
          2018,
          2019,
          2020,
          2021,
          2022,
          2023
         ],
         "xaxis": "x",
         "y": [
          541988586206.897,
          561940310344.828,
          603639413793.103,
          637058551724.138,
          684144620689.655,
          741904862068.965,
          813032758620.69,
          859620034482.759,
          940225000000,
          1017438172413.79,
          1073303000000,
          1164850000000,
          1279110000000,
          1425376000000,
          1545243000000,
          1684904000000,
          1873412000000,
          2081826000000,
          2351599000000,
          2627333000000,
          2857307000000,
          3207041000000,
          3343789000000,
          3634038000000,
          4037613000000,
          4338979000000,
          4579631000000,
          4855215000000,
          5236438000000,
          5641580000000,
          5963144000000,
          6158129000000,
          6520327000000,
          6858559000000,
          7287236000000,
          7639749000000,
          8073122000000,
          8577552000000,
          9062817000000,
          9631172000000,
          10250952000000,
          10581929000000,
          10929108000000,
          11456450000000,
          12217196000000,
          13039197000000,
          13815583000000,
          14474228000000,
          14769862000000,
          14478067000000,
          15048971000000,
          15599732000000,
          16253970000000,
          16880683000000,
          17608138000000,
          18295019000000,
          18804913000000,
          19612102000000,
          20656516000000,
          21521395000000,
          21322950000000,
          23594031000000,
          25744108000000,
          27360935000000
         ],
         "yaxis": "y"
        },
        {
         "customdata": [
          [
           "Peru",
           "$0.02T"
          ],
          [
           "Peru",
           "$0.01T"
          ],
          [
           "Peru",
           "$0.02T"
          ],
          [
           "Peru",
           "$0.02T"
          ],
          [
           "Peru",
           "$0.02T"
          ],
          [
           "Peru",
           "$0.04T"
          ],
          [
           "Peru",
           "$0.02T"
          ],
          [
           "Peru",
           "$0.02T"
          ],
          [
           "Peru",
           "$0.03T"
          ],
          [
           "Peru",
           "$0.03T"
          ],
          [
           "Peru",
           "$0.04T"
          ],
          [
           "Peru",
           "$0.03T"
          ],
          [
           "Peru",
           "$0.04T"
          ],
          [
           "Peru",
           "$0.05T"
          ],
          [
           "Peru",
           "$0.06T"
          ],
          [
           "Peru",
           "$0.06T"
          ],
          [
           "Peru",
           "$0.06T"
          ],
          [
           "Peru",
           "$0.05T"
          ],
          [
           "Peru",
           "$0.05T"
          ],
          [
           "Peru",
           "$0.05T"
          ],
          [
           "Peru",
           "$0.05T"
          ],
          [
           "Peru",
           "$0.06T"
          ],
          [
           "Peru",
           "$0.07T"
          ],
          [
           "Peru",
           "$0.08T"
          ],
          [
           "Peru",
           "$0.09T"
          ],
          [
           "Peru",
           "$0.10T"
          ],
          [
           "Peru",
           "$0.12T"
          ],
          [
           "Peru",
           "$0.12T"
          ],
          [
           "Peru",
           "$0.15T"
          ],
          [
           "Peru",
           "$0.17T"
          ],
          [
           "Peru",
           "$0.19T"
          ],
          [
           "Peru",
           "$0.20T"
          ],
          [
           "Peru",
           "$0.20T"
          ],
          [
           "Peru",
           "$0.19T"
          ],
          [
           "Peru",
           "$0.19T"
          ],
          [
           "Peru",
           "$0.21T"
          ],
          [
           "Peru",
           "$0.22T"
          ],
          [
           "Peru",
           "$0.23T"
          ],
          [
           "Peru",
           "$0.20T"
          ],
          [
           "Peru",
           "$0.23T"
          ],
          [
           "Peru",
           "$0.25T"
          ],
          [
           "Peru",
           "$0.27T"
          ]
         ],
         "hovertemplate": "Country Name=%{customdata[0]}<br>Year=%{x}<br>GDP in Trillions=%{customdata[1]}<extra></extra>",
         "legendgroup": "Peru",
         "line": {
          "color": "#19d3f3",
          "dash": "solid"
         },
         "marker": {
          "size": 13,
          "symbol": "circle"
         },
         "mode": "lines+markers",
         "name": "Peru",
         "orientation": "v",
         "showlegend": true,
         "type": "scatter",
         "x": [
          1982,
          1983,
          1984,
          1985,
          1986,
          1987,
          1988,
          1989,
          1990,
          1991,
          1992,
          1993,
          1994,
          1995,
          1996,
          1997,
          1998,
          1999,
          2000,
          2001,
          2002,
          2003,
          2004,
          2005,
          2006,
          2007,
          2008,
          2009,
          2010,
          2011,
          2012,
          2013,
          2014,
          2015,
          2016,
          2017,
          2018,
          2019,
          2020,
          2021,
          2022,
          2023
         ],
         "xaxis": "x",
         "y": [
          15203143381,
          14124541992.5,
          20339340469.3333,
          15044388198.1818,
          21777475654.2857,
          36533467759.4118,
          15439408447.2,
          22499558526.3682,
          26410386962.8019,
          34341465998.2003,
          35966302303.263,
          34832077220.8537,
          44882079766.8913,
          53312793687.3836,
          55252414130.3019,
          58147522522.5225,
          55501467877.381,
          50187324567.883,
          51744749133.213,
          52030158775.4055,
          54777553515.0809,
          58731030121.8671,
          66768703497.5687,
          76060606060.6061,
          88643193061.748,
          102170981144.136,
          120550599815.441,
          120822986521.479,
          147527631520.729,
          171761737046.585,
          192650021648.583,
          201175543571.392,
          200786250582.943,
          189802976285.619,
          191898104390.379,
          211007984080.911,
          222597009739.235,
          228346006003.648,
          201409694755.934,
          226354278280.885,
          246488757636.211,
          267603248655.253
         ],
         "yaxis": "y"
        }
       ],
       "layout": {
        "height": 1000,
        "legend": {
         "title": {
          "text": "Country"
         },
         "tracegroupgap": 0
        },
        "margin": {
         "t": 60
        },
        "template": {
         "data": {
          "bar": [
           {
            "error_x": {
             "color": "#2a3f5f"
            },
            "error_y": {
             "color": "#2a3f5f"
            },
            "marker": {
             "line": {
              "color": "#E5ECF6",
              "width": 0.5
             },
             "pattern": {
              "fillmode": "overlay",
              "size": 10,
              "solidity": 0.2
             }
            },
            "type": "bar"
           }
          ],
          "barpolar": [
           {
            "marker": {
             "line": {
              "color": "#E5ECF6",
              "width": 0.5
             },
             "pattern": {
              "fillmode": "overlay",
              "size": 10,
              "solidity": 0.2
             }
            },
            "type": "barpolar"
           }
          ],
          "carpet": [
           {
            "aaxis": {
             "endlinecolor": "#2a3f5f",
             "gridcolor": "white",
             "linecolor": "white",
             "minorgridcolor": "white",
             "startlinecolor": "#2a3f5f"
            },
            "baxis": {
             "endlinecolor": "#2a3f5f",
             "gridcolor": "white",
             "linecolor": "white",
             "minorgridcolor": "white",
             "startlinecolor": "#2a3f5f"
            },
            "type": "carpet"
           }
          ],
          "choropleth": [
           {
            "colorbar": {
             "outlinewidth": 0,
             "ticks": ""
            },
            "type": "choropleth"
           }
          ],
          "contour": [
           {
            "colorbar": {
             "outlinewidth": 0,
             "ticks": ""
            },
            "colorscale": [
             [
              0,
              "#0d0887"
             ],
             [
              0.1111111111111111,
              "#46039f"
             ],
             [
              0.2222222222222222,
              "#7201a8"
             ],
             [
              0.3333333333333333,
              "#9c179e"
             ],
             [
              0.4444444444444444,
              "#bd3786"
             ],
             [
              0.5555555555555556,
              "#d8576b"
             ],
             [
              0.6666666666666666,
              "#ed7953"
             ],
             [
              0.7777777777777778,
              "#fb9f3a"
             ],
             [
              0.8888888888888888,
              "#fdca26"
             ],
             [
              1,
              "#f0f921"
             ]
            ],
            "type": "contour"
           }
          ],
          "contourcarpet": [
           {
            "colorbar": {
             "outlinewidth": 0,
             "ticks": ""
            },
            "type": "contourcarpet"
           }
          ],
          "heatmap": [
           {
            "colorbar": {
             "outlinewidth": 0,
             "ticks": ""
            },
            "colorscale": [
             [
              0,
              "#0d0887"
             ],
             [
              0.1111111111111111,
              "#46039f"
             ],
             [
              0.2222222222222222,
              "#7201a8"
             ],
             [
              0.3333333333333333,
              "#9c179e"
             ],
             [
              0.4444444444444444,
              "#bd3786"
             ],
             [
              0.5555555555555556,
              "#d8576b"
             ],
             [
              0.6666666666666666,
              "#ed7953"
             ],
             [
              0.7777777777777778,
              "#fb9f3a"
             ],
             [
              0.8888888888888888,
              "#fdca26"
             ],
             [
              1,
              "#f0f921"
             ]
            ],
            "type": "heatmap"
           }
          ],
          "heatmapgl": [
           {
            "colorbar": {
             "outlinewidth": 0,
             "ticks": ""
            },
            "colorscale": [
             [
              0,
              "#0d0887"
             ],
             [
              0.1111111111111111,
              "#46039f"
             ],
             [
              0.2222222222222222,
              "#7201a8"
             ],
             [
              0.3333333333333333,
              "#9c179e"
             ],
             [
              0.4444444444444444,
              "#bd3786"
             ],
             [
              0.5555555555555556,
              "#d8576b"
             ],
             [
              0.6666666666666666,
              "#ed7953"
             ],
             [
              0.7777777777777778,
              "#fb9f3a"
             ],
             [
              0.8888888888888888,
              "#fdca26"
             ],
             [
              1,
              "#f0f921"
             ]
            ],
            "type": "heatmapgl"
           }
          ],
          "histogram": [
           {
            "marker": {
             "pattern": {
              "fillmode": "overlay",
              "size": 10,
              "solidity": 0.2
             }
            },
            "type": "histogram"
           }
          ],
          "histogram2d": [
           {
            "colorbar": {
             "outlinewidth": 0,
             "ticks": ""
            },
            "colorscale": [
             [
              0,
              "#0d0887"
             ],
             [
              0.1111111111111111,
              "#46039f"
             ],
             [
              0.2222222222222222,
              "#7201a8"
             ],
             [
              0.3333333333333333,
              "#9c179e"
             ],
             [
              0.4444444444444444,
              "#bd3786"
             ],
             [
              0.5555555555555556,
              "#d8576b"
             ],
             [
              0.6666666666666666,
              "#ed7953"
             ],
             [
              0.7777777777777778,
              "#fb9f3a"
             ],
             [
              0.8888888888888888,
              "#fdca26"
             ],
             [
              1,
              "#f0f921"
             ]
            ],
            "type": "histogram2d"
           }
          ],
          "histogram2dcontour": [
           {
            "colorbar": {
             "outlinewidth": 0,
             "ticks": ""
            },
            "colorscale": [
             [
              0,
              "#0d0887"
             ],
             [
              0.1111111111111111,
              "#46039f"
             ],
             [
              0.2222222222222222,
              "#7201a8"
             ],
             [
              0.3333333333333333,
              "#9c179e"
             ],
             [
              0.4444444444444444,
              "#bd3786"
             ],
             [
              0.5555555555555556,
              "#d8576b"
             ],
             [
              0.6666666666666666,
              "#ed7953"
             ],
             [
              0.7777777777777778,
              "#fb9f3a"
             ],
             [
              0.8888888888888888,
              "#fdca26"
             ],
             [
              1,
              "#f0f921"
             ]
            ],
            "type": "histogram2dcontour"
           }
          ],
          "mesh3d": [
           {
            "colorbar": {
             "outlinewidth": 0,
             "ticks": ""
            },
            "type": "mesh3d"
           }
          ],
          "parcoords": [
           {
            "line": {
             "colorbar": {
              "outlinewidth": 0,
              "ticks": ""
             }
            },
            "type": "parcoords"
           }
          ],
          "pie": [
           {
            "automargin": true,
            "type": "pie"
           }
          ],
          "scatter": [
           {
            "fillpattern": {
             "fillmode": "overlay",
             "size": 10,
             "solidity": 0.2
            },
            "type": "scatter"
           }
          ],
          "scatter3d": [
           {
            "line": {
             "colorbar": {
              "outlinewidth": 0,
              "ticks": ""
             }
            },
            "marker": {
             "colorbar": {
              "outlinewidth": 0,
              "ticks": ""
             }
            },
            "type": "scatter3d"
           }
          ],
          "scattercarpet": [
           {
            "marker": {
             "colorbar": {
              "outlinewidth": 0,
              "ticks": ""
             }
            },
            "type": "scattercarpet"
           }
          ],
          "scattergeo": [
           {
            "marker": {
             "colorbar": {
              "outlinewidth": 0,
              "ticks": ""
             }
            },
            "type": "scattergeo"
           }
          ],
          "scattergl": [
           {
            "marker": {
             "colorbar": {
              "outlinewidth": 0,
              "ticks": ""
             }
            },
            "type": "scattergl"
           }
          ],
          "scattermapbox": [
           {
            "marker": {
             "colorbar": {
              "outlinewidth": 0,
              "ticks": ""
             }
            },
            "type": "scattermapbox"
           }
          ],
          "scatterpolar": [
           {
            "marker": {
             "colorbar": {
              "outlinewidth": 0,
              "ticks": ""
             }
            },
            "type": "scatterpolar"
           }
          ],
          "scatterpolargl": [
           {
            "marker": {
             "colorbar": {
              "outlinewidth": 0,
              "ticks": ""
             }
            },
            "type": "scatterpolargl"
           }
          ],
          "scatterternary": [
           {
            "marker": {
             "colorbar": {
              "outlinewidth": 0,
              "ticks": ""
             }
            },
            "type": "scatterternary"
           }
          ],
          "surface": [
           {
            "colorbar": {
             "outlinewidth": 0,
             "ticks": ""
            },
            "colorscale": [
             [
              0,
              "#0d0887"
             ],
             [
              0.1111111111111111,
              "#46039f"
             ],
             [
              0.2222222222222222,
              "#7201a8"
             ],
             [
              0.3333333333333333,
              "#9c179e"
             ],
             [
              0.4444444444444444,
              "#bd3786"
             ],
             [
              0.5555555555555556,
              "#d8576b"
             ],
             [
              0.6666666666666666,
              "#ed7953"
             ],
             [
              0.7777777777777778,
              "#fb9f3a"
             ],
             [
              0.8888888888888888,
              "#fdca26"
             ],
             [
              1,
              "#f0f921"
             ]
            ],
            "type": "surface"
           }
          ],
          "table": [
           {
            "cells": {
             "fill": {
              "color": "#EBF0F8"
             },
             "line": {
              "color": "white"
             }
            },
            "header": {
             "fill": {
              "color": "#C8D4E3"
             },
             "line": {
              "color": "white"
             }
            },
            "type": "table"
           }
          ]
         },
         "layout": {
          "annotationdefaults": {
           "arrowcolor": "#2a3f5f",
           "arrowhead": 0,
           "arrowwidth": 1
          },
          "autotypenumbers": "strict",
          "coloraxis": {
           "colorbar": {
            "outlinewidth": 0,
            "ticks": ""
           }
          },
          "colorscale": {
           "diverging": [
            [
             0,
             "#8e0152"
            ],
            [
             0.1,
             "#c51b7d"
            ],
            [
             0.2,
             "#de77ae"
            ],
            [
             0.3,
             "#f1b6da"
            ],
            [
             0.4,
             "#fde0ef"
            ],
            [
             0.5,
             "#f7f7f7"
            ],
            [
             0.6,
             "#e6f5d0"
            ],
            [
             0.7,
             "#b8e186"
            ],
            [
             0.8,
             "#7fbc41"
            ],
            [
             0.9,
             "#4d9221"
            ],
            [
             1,
             "#276419"
            ]
           ],
           "sequential": [
            [
             0,
             "#0d0887"
            ],
            [
             0.1111111111111111,
             "#46039f"
            ],
            [
             0.2222222222222222,
             "#7201a8"
            ],
            [
             0.3333333333333333,
             "#9c179e"
            ],
            [
             0.4444444444444444,
             "#bd3786"
            ],
            [
             0.5555555555555556,
             "#d8576b"
            ],
            [
             0.6666666666666666,
             "#ed7953"
            ],
            [
             0.7777777777777778,
             "#fb9f3a"
            ],
            [
             0.8888888888888888,
             "#fdca26"
            ],
            [
             1,
             "#f0f921"
            ]
           ],
           "sequentialminus": [
            [
             0,
             "#0d0887"
            ],
            [
             0.1111111111111111,
             "#46039f"
            ],
            [
             0.2222222222222222,
             "#7201a8"
            ],
            [
             0.3333333333333333,
             "#9c179e"
            ],
            [
             0.4444444444444444,
             "#bd3786"
            ],
            [
             0.5555555555555556,
             "#d8576b"
            ],
            [
             0.6666666666666666,
             "#ed7953"
            ],
            [
             0.7777777777777778,
             "#fb9f3a"
            ],
            [
             0.8888888888888888,
             "#fdca26"
            ],
            [
             1,
             "#f0f921"
            ]
           ]
          },
          "colorway": [
           "#636efa",
           "#EF553B",
           "#00cc96",
           "#ab63fa",
           "#FFA15A",
           "#19d3f3",
           "#FF6692",
           "#B6E880",
           "#FF97FF",
           "#FECB52"
          ],
          "font": {
           "color": "#2a3f5f"
          },
          "geo": {
           "bgcolor": "white",
           "lakecolor": "white",
           "landcolor": "#E5ECF6",
           "showlakes": true,
           "showland": true,
           "subunitcolor": "white"
          },
          "hoverlabel": {
           "align": "left"
          },
          "hovermode": "closest",
          "mapbox": {
           "style": "light"
          },
          "paper_bgcolor": "white",
          "plot_bgcolor": "#E5ECF6",
          "polar": {
           "angularaxis": {
            "gridcolor": "white",
            "linecolor": "white",
            "ticks": ""
           },
           "bgcolor": "#E5ECF6",
           "radialaxis": {
            "gridcolor": "white",
            "linecolor": "white",
            "ticks": ""
           }
          },
          "scene": {
           "xaxis": {
            "backgroundcolor": "#E5ECF6",
            "gridcolor": "white",
            "gridwidth": 2,
            "linecolor": "white",
            "showbackground": true,
            "ticks": "",
            "zerolinecolor": "white"
           },
           "yaxis": {
            "backgroundcolor": "#E5ECF6",
            "gridcolor": "white",
            "gridwidth": 2,
            "linecolor": "white",
            "showbackground": true,
            "ticks": "",
            "zerolinecolor": "white"
           },
           "zaxis": {
            "backgroundcolor": "#E5ECF6",
            "gridcolor": "white",
            "gridwidth": 2,
            "linecolor": "white",
            "showbackground": true,
            "ticks": "",
            "zerolinecolor": "white"
           }
          },
          "shapedefaults": {
           "line": {
            "color": "#2a3f5f"
           }
          },
          "ternary": {
           "aaxis": {
            "gridcolor": "white",
            "linecolor": "white",
            "ticks": ""
           },
           "baxis": {
            "gridcolor": "white",
            "linecolor": "white",
            "ticks": ""
           },
           "bgcolor": "#E5ECF6",
           "caxis": {
            "gridcolor": "white",
            "linecolor": "white",
            "ticks": ""
           }
          },
          "title": {
           "x": 0.05
          },
          "xaxis": {
           "automargin": true,
           "gridcolor": "white",
           "linecolor": "white",
           "ticks": "",
           "title": {
            "standoff": 15
           },
           "zerolinecolor": "white",
           "zerolinewidth": 2
          },
          "yaxis": {
           "automargin": true,
           "gridcolor": "white",
           "linecolor": "white",
           "ticks": "",
           "title": {
            "standoff": 15
           },
           "zerolinecolor": "white",
           "zerolinewidth": 2
          }
         }
        },
        "title": {
         "text": "GDP Over Time for Different Countries",
         "x": 0.5
        },
        "xaxis": {
         "anchor": "y",
         "domain": [
          0,
          1
         ],
         "tickangle": -70,
         "tickmode": "array",
         "tickvals": [
          1960,
          1961,
          1962,
          1963,
          1964,
          1965,
          1966,
          1967,
          1968,
          1969,
          1970,
          1971,
          1972,
          1973,
          1974,
          1975,
          1976,
          1977,
          1978,
          1979,
          1980,
          1981,
          1982,
          1983,
          1984,
          1985,
          1986,
          1987,
          1988,
          1989,
          1990,
          1991,
          1992,
          1993,
          1994,
          1995,
          1996,
          1997,
          1998,
          1999,
          2000,
          2001,
          2002,
          2003,
          2004,
          2005,
          2006,
          2007,
          2008,
          2009,
          2010,
          2011,
          2012,
          2013,
          2014,
          2015,
          2016,
          2017,
          2018,
          2019,
          2020,
          2021,
          2022,
          2023
         ],
         "title": {
          "text": "Year"
         }
        },
        "yaxis": {
         "anchor": "x",
         "domain": [
          0,
          1
         ],
         "title": {
          "text": "GDP in Trillions of U.S. Dollars"
         }
        }
       }
      }
     },
     "metadata": {},
     "output_type": "display_data"
    },
    {
     "data": {
      "application/vnd.plotly.v1+json": {
       "config": {
        "plotlyServerURL": "https://plot.ly"
       },
       "data": [
        {
         "customdata": [
          [
           "Chile"
          ],
          [
           "Chile"
          ],
          [
           "Chile"
          ],
          [
           "Chile"
          ],
          [
           "Chile"
          ],
          [
           "Chile"
          ],
          [
           "Chile"
          ],
          [
           "Chile"
          ],
          [
           "Chile"
          ],
          [
           "Chile"
          ],
          [
           "Chile"
          ],
          [
           "Chile"
          ],
          [
           "Chile"
          ],
          [
           "Chile"
          ],
          [
           "Chile"
          ],
          [
           "Chile"
          ],
          [
           "Chile"
          ],
          [
           "Chile"
          ],
          [
           "Chile"
          ],
          [
           "Chile"
          ],
          [
           "Chile"
          ],
          [
           "Chile"
          ],
          [
           "Chile"
          ],
          [
           "Chile"
          ],
          [
           "Chile"
          ],
          [
           "Chile"
          ],
          [
           "Chile"
          ],
          [
           "Chile"
          ],
          [
           "Chile"
          ],
          [
           "Chile"
          ],
          [
           "Chile"
          ],
          [
           "Chile"
          ],
          [
           "Chile"
          ],
          [
           "Chile"
          ],
          [
           "Chile"
          ],
          [
           "Chile"
          ],
          [
           "Chile"
          ],
          [
           "Chile"
          ],
          [
           "Chile"
          ],
          [
           "Chile"
          ],
          [
           "Chile"
          ],
          [
           "Chile"
          ],
          [
           "Chile"
          ],
          [
           "Chile"
          ],
          [
           "Chile"
          ],
          [
           "Chile"
          ],
          [
           "Chile"
          ],
          [
           "Chile"
          ],
          [
           "Chile"
          ],
          [
           "Chile"
          ],
          [
           "Chile"
          ],
          [
           "Chile"
          ],
          [
           "Chile"
          ],
          [
           "Chile"
          ],
          [
           "Chile"
          ],
          [
           "Chile"
          ],
          [
           "Chile"
          ],
          [
           "Chile"
          ],
          [
           "Chile"
          ],
          [
           "Chile"
          ],
          [
           "Chile"
          ],
          [
           "Chile"
          ],
          [
           "Chile"
          ]
         ],
         "hovertemplate": "Country Name=%{customdata[0]}<br>Year=%{x}<br>Life Expectancy=%{y}<extra></extra>",
         "legendgroup": "Chile",
         "line": {
          "color": "#636efa",
          "dash": "solid"
         },
         "marker": {
          "size": 13,
          "symbol": "circle"
         },
         "mode": "lines+markers",
         "name": "Chile",
         "orientation": "v",
         "showlegend": true,
         "type": "scatter",
         "x": [
          1960,
          1961,
          1962,
          1963,
          1964,
          1965,
          1966,
          1967,
          1968,
          1969,
          1970,
          1971,
          1972,
          1973,
          1974,
          1975,
          1976,
          1977,
          1978,
          1979,
          1980,
          1981,
          1982,
          1983,
          1984,
          1985,
          1986,
          1987,
          1988,
          1989,
          1990,
          1991,
          1992,
          1993,
          1994,
          1995,
          1996,
          1997,
          1998,
          1999,
          2000,
          2001,
          2002,
          2003,
          2004,
          2005,
          2006,
          2007,
          2008,
          2009,
          2010,
          2011,
          2012,
          2013,
          2014,
          2015,
          2016,
          2017,
          2018,
          2019,
          2020,
          2021,
          2022
         ],
         "xaxis": "x",
         "y": [
          57.015,
          57.537,
          57.771,
          57.15,
          58.738,
          59.455,
          59.689,
          60.72,
          61.63,
          61.905,
          62.491,
          62.732,
          62.281,
          63.905,
          64.901,
          66.279,
          65.855,
          67.402,
          68.074,
          68.186,
          68.84,
          69.909,
          70.299,
          70.011,
          70.46,
          71.176,
          71.81,
          72.54,
          72.456,
          72.467,
          72.574,
          73.574,
          74.135,
          74.195,
          74.614,
          74.609,
          74.899,
          75.596,
          75.669,
          76.018,
          76.87,
          76.773,
          77.445,
          77.387,
          77.616,
          78.016,
          78.261,
          77.826,
          78.484,
          78.741,
          78.501,
          79.11,
          79.023,
          79.339,
          79.473,
          79.746,
          80.079,
          80.35,
          80.133,
          80.326,
          79.377,
          78.944,
          79.519
         ],
         "yaxis": "y"
        },
        {
         "customdata": [
          [
           "China"
          ],
          [
           "China"
          ],
          [
           "China"
          ],
          [
           "China"
          ],
          [
           "China"
          ],
          [
           "China"
          ],
          [
           "China"
          ],
          [
           "China"
          ],
          [
           "China"
          ],
          [
           "China"
          ],
          [
           "China"
          ],
          [
           "China"
          ],
          [
           "China"
          ],
          [
           "China"
          ],
          [
           "China"
          ],
          [
           "China"
          ],
          [
           "China"
          ],
          [
           "China"
          ],
          [
           "China"
          ],
          [
           "China"
          ],
          [
           "China"
          ],
          [
           "China"
          ],
          [
           "China"
          ],
          [
           "China"
          ],
          [
           "China"
          ],
          [
           "China"
          ],
          [
           "China"
          ],
          [
           "China"
          ],
          [
           "China"
          ],
          [
           "China"
          ],
          [
           "China"
          ],
          [
           "China"
          ],
          [
           "China"
          ],
          [
           "China"
          ],
          [
           "China"
          ],
          [
           "China"
          ],
          [
           "China"
          ],
          [
           "China"
          ],
          [
           "China"
          ],
          [
           "China"
          ],
          [
           "China"
          ],
          [
           "China"
          ],
          [
           "China"
          ],
          [
           "China"
          ],
          [
           "China"
          ],
          [
           "China"
          ],
          [
           "China"
          ],
          [
           "China"
          ],
          [
           "China"
          ],
          [
           "China"
          ],
          [
           "China"
          ],
          [
           "China"
          ],
          [
           "China"
          ],
          [
           "China"
          ],
          [
           "China"
          ],
          [
           "China"
          ],
          [
           "China"
          ],
          [
           "China"
          ],
          [
           "China"
          ],
          [
           "China"
          ],
          [
           "China"
          ],
          [
           "China"
          ],
          [
           "China"
          ]
         ],
         "hovertemplate": "Country Name=%{customdata[0]}<br>Year=%{x}<br>Life Expectancy=%{y}<extra></extra>",
         "legendgroup": "China",
         "line": {
          "color": "#EF553B",
          "dash": "solid"
         },
         "marker": {
          "size": 13,
          "symbol": "circle"
         },
         "mode": "lines+markers",
         "name": "China",
         "orientation": "v",
         "showlegend": true,
         "type": "scatter",
         "x": [
          1960,
          1961,
          1962,
          1963,
          1964,
          1965,
          1966,
          1967,
          1968,
          1969,
          1970,
          1971,
          1972,
          1973,
          1974,
          1975,
          1976,
          1977,
          1978,
          1979,
          1980,
          1981,
          1982,
          1983,
          1984,
          1985,
          1986,
          1987,
          1988,
          1989,
          1990,
          1991,
          1992,
          1993,
          1994,
          1995,
          1996,
          1997,
          1998,
          1999,
          2000,
          2001,
          2002,
          2003,
          2004,
          2005,
          2006,
          2007,
          2008,
          2009,
          2010,
          2011,
          2012,
          2013,
          2014,
          2015,
          2016,
          2017,
          2018,
          2019,
          2020,
          2021,
          2022
         ],
         "xaxis": "x",
         "y": [
          33.275,
          40.468,
          50.818,
          51.408,
          52.156,
          52.912,
          53.637,
          54.351,
          55.057,
          55.738,
          56.607,
          57.565,
          58.418,
          59.389,
          60.168,
          60.917,
          61.796,
          62.538,
          63.218,
          63.865,
          64.42,
          64.975,
          65.463,
          65.904,
          66.3,
          66.643,
          66.97,
          67.288,
          67.581,
          67.838,
          68.005,
          68.169,
          68.734,
          69.216,
          69.52,
          70.008,
          70.266,
          70.672,
          71.172,
          71.419,
          71.881,
          72.606,
          72.985,
          73.371,
          73.748,
          74.111,
          74.504,
          74.762,
          74.872,
          75.343,
          75.599,
          75.903,
          76.192,
          76.452,
          76.717,
          76.977,
          77.218,
          77.248,
          77.744,
          77.968,
          78.077,
          78.211,
          78.587
         ],
         "yaxis": "y"
        },
        {
         "customdata": [
          [
           "United Kingdom"
          ],
          [
           "United Kingdom"
          ],
          [
           "United Kingdom"
          ],
          [
           "United Kingdom"
          ],
          [
           "United Kingdom"
          ],
          [
           "United Kingdom"
          ],
          [
           "United Kingdom"
          ],
          [
           "United Kingdom"
          ],
          [
           "United Kingdom"
          ],
          [
           "United Kingdom"
          ],
          [
           "United Kingdom"
          ],
          [
           "United Kingdom"
          ],
          [
           "United Kingdom"
          ],
          [
           "United Kingdom"
          ],
          [
           "United Kingdom"
          ],
          [
           "United Kingdom"
          ],
          [
           "United Kingdom"
          ],
          [
           "United Kingdom"
          ],
          [
           "United Kingdom"
          ],
          [
           "United Kingdom"
          ],
          [
           "United Kingdom"
          ],
          [
           "United Kingdom"
          ],
          [
           "United Kingdom"
          ],
          [
           "United Kingdom"
          ],
          [
           "United Kingdom"
          ],
          [
           "United Kingdom"
          ],
          [
           "United Kingdom"
          ],
          [
           "United Kingdom"
          ],
          [
           "United Kingdom"
          ],
          [
           "United Kingdom"
          ],
          [
           "United Kingdom"
          ],
          [
           "United Kingdom"
          ],
          [
           "United Kingdom"
          ],
          [
           "United Kingdom"
          ],
          [
           "United Kingdom"
          ],
          [
           "United Kingdom"
          ],
          [
           "United Kingdom"
          ],
          [
           "United Kingdom"
          ],
          [
           "United Kingdom"
          ],
          [
           "United Kingdom"
          ],
          [
           "United Kingdom"
          ],
          [
           "United Kingdom"
          ],
          [
           "United Kingdom"
          ],
          [
           "United Kingdom"
          ],
          [
           "United Kingdom"
          ],
          [
           "United Kingdom"
          ],
          [
           "United Kingdom"
          ],
          [
           "United Kingdom"
          ],
          [
           "United Kingdom"
          ],
          [
           "United Kingdom"
          ],
          [
           "United Kingdom"
          ],
          [
           "United Kingdom"
          ],
          [
           "United Kingdom"
          ],
          [
           "United Kingdom"
          ],
          [
           "United Kingdom"
          ],
          [
           "United Kingdom"
          ],
          [
           "United Kingdom"
          ],
          [
           "United Kingdom"
          ],
          [
           "United Kingdom"
          ],
          [
           "United Kingdom"
          ],
          [
           "United Kingdom"
          ],
          [
           "United Kingdom"
          ],
          [
           "United Kingdom"
          ]
         ],
         "hovertemplate": "Country Name=%{customdata[0]}<br>Year=%{x}<br>Life Expectancy=%{y}<extra></extra>",
         "legendgroup": "United Kingdom",
         "line": {
          "color": "#00cc96",
          "dash": "solid"
         },
         "marker": {
          "size": 13,
          "symbol": "circle"
         },
         "mode": "lines+markers",
         "name": "United Kingdom",
         "orientation": "v",
         "showlegend": true,
         "type": "scatter",
         "x": [
          1960,
          1961,
          1962,
          1963,
          1964,
          1965,
          1966,
          1967,
          1968,
          1969,
          1970,
          1971,
          1972,
          1973,
          1974,
          1975,
          1976,
          1977,
          1978,
          1979,
          1980,
          1981,
          1982,
          1983,
          1984,
          1985,
          1986,
          1987,
          1988,
          1989,
          1990,
          1991,
          1992,
          1993,
          1994,
          1995,
          1996,
          1997,
          1998,
          1999,
          2000,
          2001,
          2002,
          2003,
          2004,
          2005,
          2006,
          2007,
          2008,
          2009,
          2010,
          2011,
          2012,
          2013,
          2014,
          2015,
          2016,
          2017,
          2018,
          2019,
          2020,
          2021,
          2022
         ],
         "xaxis": "x",
         "y": [
          71.1268292682927,
          70.8780487804878,
          70.9268292682927,
          70.8268292682927,
          71.6243902439024,
          71.6243902439024,
          71.5731707317073,
          72.1243902439024,
          71.7243902439025,
          71.7219512195122,
          71.9731707317073,
          72.2731707317073,
          72.1243902439024,
          72.3243902439024,
          72.5243902439024,
          72.7243902439024,
          72.7756097560976,
          73.2243902439024,
          73.1756097560976,
          73.2756097560976,
          73.6756097560976,
          74.0268292682927,
          74.1780487804878,
          74.3780487804878,
          74.7780487804878,
          74.6292682926829,
          74.9292682926829,
          75.280487804878,
          75.3804878048781,
          75.5829268292683,
          75.8804878048781,
          76.0829268292683,
          76.4341463414634,
          76.3853658536585,
          76.8853658536585,
          76.8365853658537,
          77.0878048780488,
          77.2109756097561,
          77.190243902439,
          77.390243902439,
          77.7414634146342,
          77.9926829268293,
          78.1439024390244,
          78.4463414634146,
          78.7463414634146,
          79.0487804878049,
          79.2487804878049,
          79.4487804878049,
          79.6,
          80.0512195121951,
          80.4024390243902,
          80.9512195121951,
          80.9048780487805,
          81.0048780487805,
          81.3048780487805,
          80.9560975609756,
          81.1560975609756,
          81.2560975609756,
          81.2560975609756,
          81.4048780487805,
          80.3512195121951,
          80.7,
          82.0585365853659
         ],
         "yaxis": "y"
        },
        {
         "customdata": [
          [
           "Mexico"
          ],
          [
           "Mexico"
          ],
          [
           "Mexico"
          ],
          [
           "Mexico"
          ],
          [
           "Mexico"
          ],
          [
           "Mexico"
          ],
          [
           "Mexico"
          ],
          [
           "Mexico"
          ],
          [
           "Mexico"
          ],
          [
           "Mexico"
          ],
          [
           "Mexico"
          ],
          [
           "Mexico"
          ],
          [
           "Mexico"
          ],
          [
           "Mexico"
          ],
          [
           "Mexico"
          ],
          [
           "Mexico"
          ],
          [
           "Mexico"
          ],
          [
           "Mexico"
          ],
          [
           "Mexico"
          ],
          [
           "Mexico"
          ],
          [
           "Mexico"
          ],
          [
           "Mexico"
          ],
          [
           "Mexico"
          ],
          [
           "Mexico"
          ],
          [
           "Mexico"
          ],
          [
           "Mexico"
          ],
          [
           "Mexico"
          ],
          [
           "Mexico"
          ],
          [
           "Mexico"
          ],
          [
           "Mexico"
          ],
          [
           "Mexico"
          ],
          [
           "Mexico"
          ],
          [
           "Mexico"
          ],
          [
           "Mexico"
          ],
          [
           "Mexico"
          ],
          [
           "Mexico"
          ],
          [
           "Mexico"
          ],
          [
           "Mexico"
          ],
          [
           "Mexico"
          ],
          [
           "Mexico"
          ],
          [
           "Mexico"
          ],
          [
           "Mexico"
          ],
          [
           "Mexico"
          ],
          [
           "Mexico"
          ],
          [
           "Mexico"
          ],
          [
           "Mexico"
          ],
          [
           "Mexico"
          ],
          [
           "Mexico"
          ],
          [
           "Mexico"
          ],
          [
           "Mexico"
          ],
          [
           "Mexico"
          ],
          [
           "Mexico"
          ],
          [
           "Mexico"
          ],
          [
           "Mexico"
          ],
          [
           "Mexico"
          ],
          [
           "Mexico"
          ],
          [
           "Mexico"
          ],
          [
           "Mexico"
          ],
          [
           "Mexico"
          ],
          [
           "Mexico"
          ],
          [
           "Mexico"
          ],
          [
           "Mexico"
          ],
          [
           "Mexico"
          ]
         ],
         "hovertemplate": "Country Name=%{customdata[0]}<br>Year=%{x}<br>Life Expectancy=%{y}<extra></extra>",
         "legendgroup": "Mexico",
         "line": {
          "color": "#ab63fa",
          "dash": "solid"
         },
         "marker": {
          "size": 13,
          "symbol": "circle"
         },
         "mode": "lines+markers",
         "name": "Mexico",
         "orientation": "v",
         "showlegend": true,
         "type": "scatter",
         "x": [
          1960,
          1961,
          1962,
          1963,
          1964,
          1965,
          1966,
          1967,
          1968,
          1969,
          1970,
          1971,
          1972,
          1973,
          1974,
          1975,
          1976,
          1977,
          1978,
          1979,
          1980,
          1981,
          1982,
          1983,
          1984,
          1985,
          1986,
          1987,
          1988,
          1989,
          1990,
          1991,
          1992,
          1993,
          1994,
          1995,
          1996,
          1997,
          1998,
          1999,
          2000,
          2001,
          2002,
          2003,
          2004,
          2005,
          2006,
          2007,
          2008,
          2009,
          2010,
          2011,
          2012,
          2013,
          2014,
          2015,
          2016,
          2017,
          2018,
          2019,
          2020,
          2021,
          2022
         ],
         "xaxis": "x",
         "y": [
          55.017,
          55.831,
          56.599,
          57.31,
          57.947,
          58.499,
          58.981,
          59.42,
          59.835,
          60.25,
          60.69,
          61.155,
          61.614,
          62.055,
          62.459,
          62.81,
          63.123,
          63.434,
          63.778,
          64.189,
          64.703,
          65.313,
          65.975,
          66.644,
          67.29,
          67.874,
          68.388,
          68.844,
          69.253,
          69.623,
          69.971,
          70.298,
          70.616,
          70.942,
          71.279,
          71.646,
          72.037,
          72.445,
          72.845,
          73.225,
          73.569,
          73.867,
          74.106,
          74.274,
          74.372,
          74.376,
          74.331,
          74.238,
          74.152,
          74.119,
          74.19,
          74.365,
          74.574,
          74.739,
          74.797,
          74.682,
          74.412,
          74.138,
          74.015,
          74.202,
          70.133,
          70.213,
          74.832
         ],
         "yaxis": "y"
        },
        {
         "customdata": [
          [
           "Peru"
          ],
          [
           "Peru"
          ],
          [
           "Peru"
          ],
          [
           "Peru"
          ],
          [
           "Peru"
          ],
          [
           "Peru"
          ],
          [
           "Peru"
          ],
          [
           "Peru"
          ],
          [
           "Peru"
          ],
          [
           "Peru"
          ],
          [
           "Peru"
          ],
          [
           "Peru"
          ],
          [
           "Peru"
          ],
          [
           "Peru"
          ],
          [
           "Peru"
          ],
          [
           "Peru"
          ],
          [
           "Peru"
          ],
          [
           "Peru"
          ],
          [
           "Peru"
          ],
          [
           "Peru"
          ],
          [
           "Peru"
          ],
          [
           "Peru"
          ],
          [
           "Peru"
          ],
          [
           "Peru"
          ],
          [
           "Peru"
          ],
          [
           "Peru"
          ],
          [
           "Peru"
          ],
          [
           "Peru"
          ],
          [
           "Peru"
          ],
          [
           "Peru"
          ],
          [
           "Peru"
          ],
          [
           "Peru"
          ],
          [
           "Peru"
          ],
          [
           "Peru"
          ],
          [
           "Peru"
          ],
          [
           "Peru"
          ],
          [
           "Peru"
          ],
          [
           "Peru"
          ],
          [
           "Peru"
          ],
          [
           "Peru"
          ],
          [
           "Peru"
          ],
          [
           "Peru"
          ],
          [
           "Peru"
          ],
          [
           "Peru"
          ],
          [
           "Peru"
          ],
          [
           "Peru"
          ],
          [
           "Peru"
          ],
          [
           "Peru"
          ],
          [
           "Peru"
          ],
          [
           "Peru"
          ],
          [
           "Peru"
          ],
          [
           "Peru"
          ],
          [
           "Peru"
          ],
          [
           "Peru"
          ],
          [
           "Peru"
          ],
          [
           "Peru"
          ],
          [
           "Peru"
          ],
          [
           "Peru"
          ],
          [
           "Peru"
          ],
          [
           "Peru"
          ],
          [
           "Peru"
          ],
          [
           "Peru"
          ],
          [
           "Peru"
          ]
         ],
         "hovertemplate": "Country Name=%{customdata[0]}<br>Year=%{x}<br>Life Expectancy=%{y}<extra></extra>",
         "legendgroup": "Peru",
         "line": {
          "color": "#FFA15A",
          "dash": "solid"
         },
         "marker": {
          "size": 13,
          "symbol": "circle"
         },
         "mode": "lines+markers",
         "name": "Peru",
         "orientation": "v",
         "showlegend": true,
         "type": "scatter",
         "x": [
          1960,
          1961,
          1962,
          1963,
          1964,
          1965,
          1966,
          1967,
          1968,
          1969,
          1970,
          1971,
          1972,
          1973,
          1974,
          1975,
          1976,
          1977,
          1978,
          1979,
          1980,
          1981,
          1982,
          1983,
          1984,
          1985,
          1986,
          1987,
          1988,
          1989,
          1990,
          1991,
          1992,
          1993,
          1994,
          1995,
          1996,
          1997,
          1998,
          1999,
          2000,
          2001,
          2002,
          2003,
          2004,
          2005,
          2006,
          2007,
          2008,
          2009,
          2010,
          2011,
          2012,
          2013,
          2014,
          2015,
          2016,
          2017,
          2018,
          2019,
          2020,
          2021,
          2022
         ],
         "xaxis": "x",
         "y": [
          50.495,
          51.091,
          51.31,
          52.2,
          52.717,
          53.183,
          53.699,
          54.223,
          54.747,
          55.255,
          47.16,
          56.163,
          56.737,
          57.085,
          57.483,
          57.905,
          58.266,
          58.617,
          58.973,
          59.303,
          59.589,
          59.847,
          60.015,
          60.161,
          60.467,
          61.292,
          62.024,
          62.804,
          63.601,
          64.352,
          65.106,
          65.434,
          66.149,
          66.681,
          67.227,
          67.644,
          68.147,
          68.605,
          69.082,
          69.743,
          70.424,
          71.041,
          71.661,
          72.217,
          72.668,
          72.986,
          73.172,
          73.223,
          73.377,
          73.466,
          73.711,
          74.133,
          74.544,
          74.967,
          75.333,
          75.621,
          75.789,
          75.879,
          76.009,
          76.156,
          73.665,
          72.377,
          73.385
         ],
         "yaxis": "y"
        },
        {
         "customdata": [
          [
           "United States"
          ],
          [
           "United States"
          ],
          [
           "United States"
          ],
          [
           "United States"
          ],
          [
           "United States"
          ],
          [
           "United States"
          ],
          [
           "United States"
          ],
          [
           "United States"
          ],
          [
           "United States"
          ],
          [
           "United States"
          ],
          [
           "United States"
          ],
          [
           "United States"
          ],
          [
           "United States"
          ],
          [
           "United States"
          ],
          [
           "United States"
          ],
          [
           "United States"
          ],
          [
           "United States"
          ],
          [
           "United States"
          ],
          [
           "United States"
          ],
          [
           "United States"
          ],
          [
           "United States"
          ],
          [
           "United States"
          ],
          [
           "United States"
          ],
          [
           "United States"
          ],
          [
           "United States"
          ],
          [
           "United States"
          ],
          [
           "United States"
          ],
          [
           "United States"
          ],
          [
           "United States"
          ],
          [
           "United States"
          ],
          [
           "United States"
          ],
          [
           "United States"
          ],
          [
           "United States"
          ],
          [
           "United States"
          ],
          [
           "United States"
          ],
          [
           "United States"
          ],
          [
           "United States"
          ],
          [
           "United States"
          ],
          [
           "United States"
          ],
          [
           "United States"
          ],
          [
           "United States"
          ],
          [
           "United States"
          ],
          [
           "United States"
          ],
          [
           "United States"
          ],
          [
           "United States"
          ],
          [
           "United States"
          ],
          [
           "United States"
          ],
          [
           "United States"
          ],
          [
           "United States"
          ],
          [
           "United States"
          ],
          [
           "United States"
          ],
          [
           "United States"
          ],
          [
           "United States"
          ],
          [
           "United States"
          ],
          [
           "United States"
          ],
          [
           "United States"
          ],
          [
           "United States"
          ],
          [
           "United States"
          ],
          [
           "United States"
          ],
          [
           "United States"
          ],
          [
           "United States"
          ],
          [
           "United States"
          ],
          [
           "United States"
          ]
         ],
         "hovertemplate": "Country Name=%{customdata[0]}<br>Year=%{x}<br>Life Expectancy=%{y}<extra></extra>",
         "legendgroup": "United States",
         "line": {
          "color": "#19d3f3",
          "dash": "solid"
         },
         "marker": {
          "size": 13,
          "symbol": "circle"
         },
         "mode": "lines+markers",
         "name": "United States",
         "orientation": "v",
         "showlegend": true,
         "type": "scatter",
         "x": [
          1960,
          1961,
          1962,
          1963,
          1964,
          1965,
          1966,
          1967,
          1968,
          1969,
          1970,
          1971,
          1972,
          1973,
          1974,
          1975,
          1976,
          1977,
          1978,
          1979,
          1980,
          1981,
          1982,
          1983,
          1984,
          1985,
          1986,
          1987,
          1988,
          1989,
          1990,
          1991,
          1992,
          1993,
          1994,
          1995,
          1996,
          1997,
          1998,
          1999,
          2000,
          2001,
          2002,
          2003,
          2004,
          2005,
          2006,
          2007,
          2008,
          2009,
          2010,
          2011,
          2012,
          2013,
          2014,
          2015,
          2016,
          2017,
          2018,
          2019,
          2020,
          2021,
          2022
         ],
         "xaxis": "x",
         "y": [
          69.7707317073171,
          70.2707317073171,
          70.119512195122,
          69.9170731707317,
          70.1658536585366,
          70.2146341463415,
          70.2121951219512,
          70.5609756097561,
          69.9512195121951,
          70.5073170731708,
          70.8073170731707,
          71.1073170731707,
          71.1560975609756,
          71.3560975609756,
          71.9560975609756,
          72.6048780487805,
          72.8560975609756,
          73.2560975609756,
          73.3560975609756,
          73.8048780487805,
          73.609756097561,
          74.009756097561,
          74.3609756097561,
          74.4634146341463,
          74.5634146341464,
          74.5634146341464,
          74.6146341463415,
          74.7658536585366,
          74.7658536585366,
          75.0170731707317,
          75.2146341463415,
          75.3658536585366,
          75.6170731707317,
          75.419512195122,
          75.619512195122,
          75.6219512195122,
          76.0268292682927,
          76.4292682926829,
          76.5804878048781,
          76.5829268292683,
          76.6365853658537,
          76.8365853658537,
          76.9365853658537,
          77.0365853658537,
          77.4878048780488,
          77.4878048780488,
          77.6878048780488,
          77.9878048780488,
          78.0390243902439,
          78.390243902439,
          78.5414634146342,
          78.6414634146341,
          78.7414634146342,
          78.7414634146342,
          78.8414634146341,
          78.690243902439,
          78.5390243902439,
          78.5390243902439,
          78.6390243902439,
          78.7878048780488,
          76.9804878048781,
          76.3292682926829,
          77.4341463414634
         ],
         "yaxis": "y"
        }
       ],
       "layout": {
        "height": 1000,
        "legend": {
         "title": {
          "text": "Country"
         },
         "tracegroupgap": 0
        },
        "margin": {
         "t": 60
        },
        "template": {
         "data": {
          "bar": [
           {
            "error_x": {
             "color": "#2a3f5f"
            },
            "error_y": {
             "color": "#2a3f5f"
            },
            "marker": {
             "line": {
              "color": "#E5ECF6",
              "width": 0.5
             },
             "pattern": {
              "fillmode": "overlay",
              "size": 10,
              "solidity": 0.2
             }
            },
            "type": "bar"
           }
          ],
          "barpolar": [
           {
            "marker": {
             "line": {
              "color": "#E5ECF6",
              "width": 0.5
             },
             "pattern": {
              "fillmode": "overlay",
              "size": 10,
              "solidity": 0.2
             }
            },
            "type": "barpolar"
           }
          ],
          "carpet": [
           {
            "aaxis": {
             "endlinecolor": "#2a3f5f",
             "gridcolor": "white",
             "linecolor": "white",
             "minorgridcolor": "white",
             "startlinecolor": "#2a3f5f"
            },
            "baxis": {
             "endlinecolor": "#2a3f5f",
             "gridcolor": "white",
             "linecolor": "white",
             "minorgridcolor": "white",
             "startlinecolor": "#2a3f5f"
            },
            "type": "carpet"
           }
          ],
          "choropleth": [
           {
            "colorbar": {
             "outlinewidth": 0,
             "ticks": ""
            },
            "type": "choropleth"
           }
          ],
          "contour": [
           {
            "colorbar": {
             "outlinewidth": 0,
             "ticks": ""
            },
            "colorscale": [
             [
              0,
              "#0d0887"
             ],
             [
              0.1111111111111111,
              "#46039f"
             ],
             [
              0.2222222222222222,
              "#7201a8"
             ],
             [
              0.3333333333333333,
              "#9c179e"
             ],
             [
              0.4444444444444444,
              "#bd3786"
             ],
             [
              0.5555555555555556,
              "#d8576b"
             ],
             [
              0.6666666666666666,
              "#ed7953"
             ],
             [
              0.7777777777777778,
              "#fb9f3a"
             ],
             [
              0.8888888888888888,
              "#fdca26"
             ],
             [
              1,
              "#f0f921"
             ]
            ],
            "type": "contour"
           }
          ],
          "contourcarpet": [
           {
            "colorbar": {
             "outlinewidth": 0,
             "ticks": ""
            },
            "type": "contourcarpet"
           }
          ],
          "heatmap": [
           {
            "colorbar": {
             "outlinewidth": 0,
             "ticks": ""
            },
            "colorscale": [
             [
              0,
              "#0d0887"
             ],
             [
              0.1111111111111111,
              "#46039f"
             ],
             [
              0.2222222222222222,
              "#7201a8"
             ],
             [
              0.3333333333333333,
              "#9c179e"
             ],
             [
              0.4444444444444444,
              "#bd3786"
             ],
             [
              0.5555555555555556,
              "#d8576b"
             ],
             [
              0.6666666666666666,
              "#ed7953"
             ],
             [
              0.7777777777777778,
              "#fb9f3a"
             ],
             [
              0.8888888888888888,
              "#fdca26"
             ],
             [
              1,
              "#f0f921"
             ]
            ],
            "type": "heatmap"
           }
          ],
          "heatmapgl": [
           {
            "colorbar": {
             "outlinewidth": 0,
             "ticks": ""
            },
            "colorscale": [
             [
              0,
              "#0d0887"
             ],
             [
              0.1111111111111111,
              "#46039f"
             ],
             [
              0.2222222222222222,
              "#7201a8"
             ],
             [
              0.3333333333333333,
              "#9c179e"
             ],
             [
              0.4444444444444444,
              "#bd3786"
             ],
             [
              0.5555555555555556,
              "#d8576b"
             ],
             [
              0.6666666666666666,
              "#ed7953"
             ],
             [
              0.7777777777777778,
              "#fb9f3a"
             ],
             [
              0.8888888888888888,
              "#fdca26"
             ],
             [
              1,
              "#f0f921"
             ]
            ],
            "type": "heatmapgl"
           }
          ],
          "histogram": [
           {
            "marker": {
             "pattern": {
              "fillmode": "overlay",
              "size": 10,
              "solidity": 0.2
             }
            },
            "type": "histogram"
           }
          ],
          "histogram2d": [
           {
            "colorbar": {
             "outlinewidth": 0,
             "ticks": ""
            },
            "colorscale": [
             [
              0,
              "#0d0887"
             ],
             [
              0.1111111111111111,
              "#46039f"
             ],
             [
              0.2222222222222222,
              "#7201a8"
             ],
             [
              0.3333333333333333,
              "#9c179e"
             ],
             [
              0.4444444444444444,
              "#bd3786"
             ],
             [
              0.5555555555555556,
              "#d8576b"
             ],
             [
              0.6666666666666666,
              "#ed7953"
             ],
             [
              0.7777777777777778,
              "#fb9f3a"
             ],
             [
              0.8888888888888888,
              "#fdca26"
             ],
             [
              1,
              "#f0f921"
             ]
            ],
            "type": "histogram2d"
           }
          ],
          "histogram2dcontour": [
           {
            "colorbar": {
             "outlinewidth": 0,
             "ticks": ""
            },
            "colorscale": [
             [
              0,
              "#0d0887"
             ],
             [
              0.1111111111111111,
              "#46039f"
             ],
             [
              0.2222222222222222,
              "#7201a8"
             ],
             [
              0.3333333333333333,
              "#9c179e"
             ],
             [
              0.4444444444444444,
              "#bd3786"
             ],
             [
              0.5555555555555556,
              "#d8576b"
             ],
             [
              0.6666666666666666,
              "#ed7953"
             ],
             [
              0.7777777777777778,
              "#fb9f3a"
             ],
             [
              0.8888888888888888,
              "#fdca26"
             ],
             [
              1,
              "#f0f921"
             ]
            ],
            "type": "histogram2dcontour"
           }
          ],
          "mesh3d": [
           {
            "colorbar": {
             "outlinewidth": 0,
             "ticks": ""
            },
            "type": "mesh3d"
           }
          ],
          "parcoords": [
           {
            "line": {
             "colorbar": {
              "outlinewidth": 0,
              "ticks": ""
             }
            },
            "type": "parcoords"
           }
          ],
          "pie": [
           {
            "automargin": true,
            "type": "pie"
           }
          ],
          "scatter": [
           {
            "fillpattern": {
             "fillmode": "overlay",
             "size": 10,
             "solidity": 0.2
            },
            "type": "scatter"
           }
          ],
          "scatter3d": [
           {
            "line": {
             "colorbar": {
              "outlinewidth": 0,
              "ticks": ""
             }
            },
            "marker": {
             "colorbar": {
              "outlinewidth": 0,
              "ticks": ""
             }
            },
            "type": "scatter3d"
           }
          ],
          "scattercarpet": [
           {
            "marker": {
             "colorbar": {
              "outlinewidth": 0,
              "ticks": ""
             }
            },
            "type": "scattercarpet"
           }
          ],
          "scattergeo": [
           {
            "marker": {
             "colorbar": {
              "outlinewidth": 0,
              "ticks": ""
             }
            },
            "type": "scattergeo"
           }
          ],
          "scattergl": [
           {
            "marker": {
             "colorbar": {
              "outlinewidth": 0,
              "ticks": ""
             }
            },
            "type": "scattergl"
           }
          ],
          "scattermapbox": [
           {
            "marker": {
             "colorbar": {
              "outlinewidth": 0,
              "ticks": ""
             }
            },
            "type": "scattermapbox"
           }
          ],
          "scatterpolar": [
           {
            "marker": {
             "colorbar": {
              "outlinewidth": 0,
              "ticks": ""
             }
            },
            "type": "scatterpolar"
           }
          ],
          "scatterpolargl": [
           {
            "marker": {
             "colorbar": {
              "outlinewidth": 0,
              "ticks": ""
             }
            },
            "type": "scatterpolargl"
           }
          ],
          "scatterternary": [
           {
            "marker": {
             "colorbar": {
              "outlinewidth": 0,
              "ticks": ""
             }
            },
            "type": "scatterternary"
           }
          ],
          "surface": [
           {
            "colorbar": {
             "outlinewidth": 0,
             "ticks": ""
            },
            "colorscale": [
             [
              0,
              "#0d0887"
             ],
             [
              0.1111111111111111,
              "#46039f"
             ],
             [
              0.2222222222222222,
              "#7201a8"
             ],
             [
              0.3333333333333333,
              "#9c179e"
             ],
             [
              0.4444444444444444,
              "#bd3786"
             ],
             [
              0.5555555555555556,
              "#d8576b"
             ],
             [
              0.6666666666666666,
              "#ed7953"
             ],
             [
              0.7777777777777778,
              "#fb9f3a"
             ],
             [
              0.8888888888888888,
              "#fdca26"
             ],
             [
              1,
              "#f0f921"
             ]
            ],
            "type": "surface"
           }
          ],
          "table": [
           {
            "cells": {
             "fill": {
              "color": "#EBF0F8"
             },
             "line": {
              "color": "white"
             }
            },
            "header": {
             "fill": {
              "color": "#C8D4E3"
             },
             "line": {
              "color": "white"
             }
            },
            "type": "table"
           }
          ]
         },
         "layout": {
          "annotationdefaults": {
           "arrowcolor": "#2a3f5f",
           "arrowhead": 0,
           "arrowwidth": 1
          },
          "autotypenumbers": "strict",
          "coloraxis": {
           "colorbar": {
            "outlinewidth": 0,
            "ticks": ""
           }
          },
          "colorscale": {
           "diverging": [
            [
             0,
             "#8e0152"
            ],
            [
             0.1,
             "#c51b7d"
            ],
            [
             0.2,
             "#de77ae"
            ],
            [
             0.3,
             "#f1b6da"
            ],
            [
             0.4,
             "#fde0ef"
            ],
            [
             0.5,
             "#f7f7f7"
            ],
            [
             0.6,
             "#e6f5d0"
            ],
            [
             0.7,
             "#b8e186"
            ],
            [
             0.8,
             "#7fbc41"
            ],
            [
             0.9,
             "#4d9221"
            ],
            [
             1,
             "#276419"
            ]
           ],
           "sequential": [
            [
             0,
             "#0d0887"
            ],
            [
             0.1111111111111111,
             "#46039f"
            ],
            [
             0.2222222222222222,
             "#7201a8"
            ],
            [
             0.3333333333333333,
             "#9c179e"
            ],
            [
             0.4444444444444444,
             "#bd3786"
            ],
            [
             0.5555555555555556,
             "#d8576b"
            ],
            [
             0.6666666666666666,
             "#ed7953"
            ],
            [
             0.7777777777777778,
             "#fb9f3a"
            ],
            [
             0.8888888888888888,
             "#fdca26"
            ],
            [
             1,
             "#f0f921"
            ]
           ],
           "sequentialminus": [
            [
             0,
             "#0d0887"
            ],
            [
             0.1111111111111111,
             "#46039f"
            ],
            [
             0.2222222222222222,
             "#7201a8"
            ],
            [
             0.3333333333333333,
             "#9c179e"
            ],
            [
             0.4444444444444444,
             "#bd3786"
            ],
            [
             0.5555555555555556,
             "#d8576b"
            ],
            [
             0.6666666666666666,
             "#ed7953"
            ],
            [
             0.7777777777777778,
             "#fb9f3a"
            ],
            [
             0.8888888888888888,
             "#fdca26"
            ],
            [
             1,
             "#f0f921"
            ]
           ]
          },
          "colorway": [
           "#636efa",
           "#EF553B",
           "#00cc96",
           "#ab63fa",
           "#FFA15A",
           "#19d3f3",
           "#FF6692",
           "#B6E880",
           "#FF97FF",
           "#FECB52"
          ],
          "font": {
           "color": "#2a3f5f"
          },
          "geo": {
           "bgcolor": "white",
           "lakecolor": "white",
           "landcolor": "#E5ECF6",
           "showlakes": true,
           "showland": true,
           "subunitcolor": "white"
          },
          "hoverlabel": {
           "align": "left"
          },
          "hovermode": "closest",
          "mapbox": {
           "style": "light"
          },
          "paper_bgcolor": "white",
          "plot_bgcolor": "#E5ECF6",
          "polar": {
           "angularaxis": {
            "gridcolor": "white",
            "linecolor": "white",
            "ticks": ""
           },
           "bgcolor": "#E5ECF6",
           "radialaxis": {
            "gridcolor": "white",
            "linecolor": "white",
            "ticks": ""
           }
          },
          "scene": {
           "xaxis": {
            "backgroundcolor": "#E5ECF6",
            "gridcolor": "white",
            "gridwidth": 2,
            "linecolor": "white",
            "showbackground": true,
            "ticks": "",
            "zerolinecolor": "white"
           },
           "yaxis": {
            "backgroundcolor": "#E5ECF6",
            "gridcolor": "white",
            "gridwidth": 2,
            "linecolor": "white",
            "showbackground": true,
            "ticks": "",
            "zerolinecolor": "white"
           },
           "zaxis": {
            "backgroundcolor": "#E5ECF6",
            "gridcolor": "white",
            "gridwidth": 2,
            "linecolor": "white",
            "showbackground": true,
            "ticks": "",
            "zerolinecolor": "white"
           }
          },
          "shapedefaults": {
           "line": {
            "color": "#2a3f5f"
           }
          },
          "ternary": {
           "aaxis": {
            "gridcolor": "white",
            "linecolor": "white",
            "ticks": ""
           },
           "baxis": {
            "gridcolor": "white",
            "linecolor": "white",
            "ticks": ""
           },
           "bgcolor": "#E5ECF6",
           "caxis": {
            "gridcolor": "white",
            "linecolor": "white",
            "ticks": ""
           }
          },
          "title": {
           "x": 0.05
          },
          "xaxis": {
           "automargin": true,
           "gridcolor": "white",
           "linecolor": "white",
           "ticks": "",
           "title": {
            "standoff": 15
           },
           "zerolinecolor": "white",
           "zerolinewidth": 2
          },
          "yaxis": {
           "automargin": true,
           "gridcolor": "white",
           "linecolor": "white",
           "ticks": "",
           "title": {
            "standoff": 15
           },
           "zerolinecolor": "white",
           "zerolinewidth": 2
          }
         }
        },
        "title": {
         "text": "Life Expectancy Over Time for Different Countries",
         "x": 0.5
        },
        "xaxis": {
         "anchor": "y",
         "domain": [
          0,
          1
         ],
         "tickangle": -70,
         "tickmode": "array",
         "tickvals": [
          1960,
          1961,
          1962,
          1963,
          1964,
          1965,
          1966,
          1967,
          1968,
          1969,
          1970,
          1971,
          1972,
          1973,
          1974,
          1975,
          1976,
          1977,
          1978,
          1979,
          1980,
          1981,
          1982,
          1983,
          1984,
          1985,
          1986,
          1987,
          1988,
          1989,
          1990,
          1991,
          1992,
          1993,
          1994,
          1995,
          1996,
          1997,
          1998,
          1999,
          2000,
          2001,
          2002,
          2003,
          2004,
          2005,
          2006,
          2007,
          2008,
          2009,
          2010,
          2011,
          2012,
          2013,
          2014,
          2015,
          2016,
          2017,
          2018,
          2019,
          2020,
          2021,
          2022
         ],
         "title": {
          "text": "Year"
         }
        },
        "yaxis": {
         "anchor": "x",
         "domain": [
          0,
          1
         ],
         "title": {
          "text": "Life expectancy at birth (years)"
         }
        }
       }
      }
     },
     "metadata": {},
     "output_type": "display_data"
    }
   ],
   "source": [
    "countries = [\"United States\", \"China\", \"United Kingdom\", \"Mexico\", \"Chile\", \"Peru\"]\n",
    "point_plot(df=df, feature=\"GDP\", countries=countries)\n",
    "point_plot(df=df, feature=\"Life Expectancy\", countries=countries)"
   ]
  },
  {
   "cell_type": "markdown",
   "metadata": {},
   "source": [
    "## Divide the data"
   ]
  },
  {
   "cell_type": "markdown",
   "metadata": {},
   "source": [
    "There is too much deference between these six countries. For better visualization, we are going to divide all the data in two groups: \n",
    "- \"United States\", \"China\" and \"United Kingdom\"\n",
    "- \"Mexico\", \"Chile\" and \"Peru\""
   ]
  },
  {
   "cell_type": "code",
   "execution_count": 220,
   "metadata": {},
   "outputs": [],
   "source": [
    "top_three_countries = [\"United States\", \"China\", \"United Kingdom\"]\n",
    "bottom_three_countries = [\"Mexico\", \"Chile\", \"Peru\"]"
   ]
  },
  {
   "cell_type": "code",
   "execution_count": 221,
   "metadata": {},
   "outputs": [
    {
     "data": {
      "application/vnd.plotly.v1+json": {
       "config": {
        "plotlyServerURL": "https://plot.ly"
       },
       "data": [
        {
         "customdata": [
          [
           "China",
           "$0.06T"
          ],
          [
           "China",
           "$0.05T"
          ],
          [
           "China",
           "$0.05T"
          ],
          [
           "China",
           "$0.05T"
          ],
          [
           "China",
           "$0.06T"
          ],
          [
           "China",
           "$0.07T"
          ],
          [
           "China",
           "$0.08T"
          ],
          [
           "China",
           "$0.07T"
          ],
          [
           "China",
           "$0.07T"
          ],
          [
           "China",
           "$0.08T"
          ],
          [
           "China",
           "$0.09T"
          ],
          [
           "China",
           "$0.10T"
          ],
          [
           "China",
           "$0.11T"
          ],
          [
           "China",
           "$0.14T"
          ],
          [
           "China",
           "$0.14T"
          ],
          [
           "China",
           "$0.16T"
          ],
          [
           "China",
           "$0.15T"
          ],
          [
           "China",
           "$0.17T"
          ],
          [
           "China",
           "$0.15T"
          ],
          [
           "China",
           "$0.18T"
          ],
          [
           "China",
           "$0.19T"
          ],
          [
           "China",
           "$0.20T"
          ],
          [
           "China",
           "$0.21T"
          ],
          [
           "China",
           "$0.23T"
          ],
          [
           "China",
           "$0.26T"
          ],
          [
           "China",
           "$0.31T"
          ],
          [
           "China",
           "$0.30T"
          ],
          [
           "China",
           "$0.27T"
          ],
          [
           "China",
           "$0.31T"
          ],
          [
           "China",
           "$0.35T"
          ],
          [
           "China",
           "$0.36T"
          ],
          [
           "China",
           "$0.38T"
          ],
          [
           "China",
           "$0.43T"
          ],
          [
           "China",
           "$0.44T"
          ],
          [
           "China",
           "$0.56T"
          ],
          [
           "China",
           "$0.73T"
          ],
          [
           "China",
           "$0.86T"
          ],
          [
           "China",
           "$0.96T"
          ],
          [
           "China",
           "$1.03T"
          ],
          [
           "China",
           "$1.09T"
          ],
          [
           "China",
           "$1.21T"
          ],
          [
           "China",
           "$1.34T"
          ],
          [
           "China",
           "$1.47T"
          ],
          [
           "China",
           "$1.66T"
          ],
          [
           "China",
           "$1.96T"
          ],
          [
           "China",
           "$2.29T"
          ],
          [
           "China",
           "$2.75T"
          ],
          [
           "China",
           "$3.55T"
          ],
          [
           "China",
           "$4.59T"
          ],
          [
           "China",
           "$5.10T"
          ],
          [
           "China",
           "$6.09T"
          ],
          [
           "China",
           "$7.55T"
          ],
          [
           "China",
           "$8.53T"
          ],
          [
           "China",
           "$9.57T"
          ],
          [
           "China",
           "$10.48T"
          ],
          [
           "China",
           "$11.06T"
          ],
          [
           "China",
           "$11.23T"
          ],
          [
           "China",
           "$12.31T"
          ],
          [
           "China",
           "$13.89T"
          ],
          [
           "China",
           "$14.28T"
          ],
          [
           "China",
           "$14.69T"
          ],
          [
           "China",
           "$17.82T"
          ],
          [
           "China",
           "$17.88T"
          ],
          [
           "China",
           "$17.79T"
          ]
         ],
         "hovertemplate": "Country Name=%{customdata[0]}<br>Year=%{x}<br>GDP in Trillions=%{customdata[1]}<extra></extra>",
         "legendgroup": "China",
         "line": {
          "color": "#636efa",
          "dash": "solid"
         },
         "marker": {
          "size": 13,
          "symbol": "circle"
         },
         "mode": "lines+markers",
         "name": "China",
         "orientation": "v",
         "showlegend": true,
         "type": "scatter",
         "x": [
          1960,
          1961,
          1962,
          1963,
          1964,
          1965,
          1966,
          1967,
          1968,
          1969,
          1970,
          1971,
          1972,
          1973,
          1974,
          1975,
          1976,
          1977,
          1978,
          1979,
          1980,
          1981,
          1982,
          1983,
          1984,
          1985,
          1986,
          1987,
          1988,
          1989,
          1990,
          1991,
          1992,
          1993,
          1994,
          1995,
          1996,
          1997,
          1998,
          1999,
          2000,
          2001,
          2002,
          2003,
          2004,
          2005,
          2006,
          2007,
          2008,
          2009,
          2010,
          2011,
          2012,
          2013,
          2014,
          2015,
          2016,
          2017,
          2018,
          2019,
          2020,
          2021,
          2022,
          2023
         ],
         "xaxis": "x",
         "y": [
          59716249310.9742,
          50056685957.359,
          47209186415.3555,
          50706614526.1472,
          59708125203.8643,
          70436008642.4251,
          76720005491.8964,
          72881364882.4909,
          70846276051.4727,
          79705614854.7674,
          92602634891.6589,
          99800593790.9886,
          113689308020.343,
          138543170458.064,
          144188970821.072,
          163429530659.638,
          153939265947.775,
          174935933078.663,
          149540752829.268,
          178280594413.043,
          191149211575,
          195866382432.54,
          205089699858.779,
          230686747153.257,
          259946510957.143,
          309488028132.653,
          300758100107.246,
          272972974764.574,
          312353631207.819,
          347768051311.741,
          360857912565.966,
          383373318083.624,
          426915712715.856,
          444731282435.515,
          564321854521.013,
          734484834573.582,
          863749314718.538,
          961601980984.623,
          1029060747620.65,
          1094003874937.34,
          1211331651866.09,
          1339400897105.11,
          1470557654799.95,
          1660280543846.79,
          1955346768721.39,
          2285961149879.85,
          2752118657184.02,
          3550327802998.4,
          4594336785737.67,
          5101691124285.21,
          6087191746679.49,
          7551545703440.75,
          8532185381680.59,
          9570471111831.68,
          10475624944355.2,
          11061572618578.7,
          11233313730348.7,
          12310491333980.9,
          13894907857880.6,
          14279968506271.7,
          14687744162801,
          17820459508852.2,
          17881783387000.9,
          17794781986104.5
         ],
         "yaxis": "y"
        },
        {
         "customdata": [
          [
           "United Kingdom",
           "$0.07T"
          ],
          [
           "United Kingdom",
           "$0.08T"
          ],
          [
           "United Kingdom",
           "$0.08T"
          ],
          [
           "United Kingdom",
           "$0.09T"
          ],
          [
           "United Kingdom",
           "$0.09T"
          ],
          [
           "United Kingdom",
           "$0.10T"
          ],
          [
           "United Kingdom",
           "$0.11T"
          ],
          [
           "United Kingdom",
           "$0.11T"
          ],
          [
           "United Kingdom",
           "$0.11T"
          ],
          [
           "United Kingdom",
           "$0.12T"
          ],
          [
           "United Kingdom",
           "$0.13T"
          ],
          [
           "United Kingdom",
           "$0.15T"
          ],
          [
           "United Kingdom",
           "$0.17T"
          ],
          [
           "United Kingdom",
           "$0.19T"
          ],
          [
           "United Kingdom",
           "$0.21T"
          ],
          [
           "United Kingdom",
           "$0.24T"
          ],
          [
           "United Kingdom",
           "$0.23T"
          ],
          [
           "United Kingdom",
           "$0.26T"
          ],
          [
           "United Kingdom",
           "$0.34T"
          ],
          [
           "United Kingdom",
           "$0.44T"
          ],
          [
           "United Kingdom",
           "$0.56T"
          ],
          [
           "United Kingdom",
           "$0.54T"
          ],
          [
           "United Kingdom",
           "$0.52T"
          ],
          [
           "United Kingdom",
           "$0.49T"
          ],
          [
           "United Kingdom",
           "$0.46T"
          ],
          [
           "United Kingdom",
           "$0.49T"
          ],
          [
           "United Kingdom",
           "$0.60T"
          ],
          [
           "United Kingdom",
           "$0.75T"
          ],
          [
           "United Kingdom",
           "$0.91T"
          ],
          [
           "United Kingdom",
           "$0.93T"
          ],
          [
           "United Kingdom",
           "$1.09T"
          ],
          [
           "United Kingdom",
           "$1.14T"
          ],
          [
           "United Kingdom",
           "$1.18T"
          ],
          [
           "United Kingdom",
           "$1.06T"
          ],
          [
           "United Kingdom",
           "$1.14T"
          ],
          [
           "United Kingdom",
           "$1.34T"
          ],
          [
           "United Kingdom",
           "$1.42T"
          ],
          [
           "United Kingdom",
           "$1.56T"
          ],
          [
           "United Kingdom",
           "$1.65T"
          ],
          [
           "United Kingdom",
           "$1.69T"
          ],
          [
           "United Kingdom",
           "$1.67T"
          ],
          [
           "United Kingdom",
           "$1.65T"
          ],
          [
           "United Kingdom",
           "$1.79T"
          ],
          [
           "United Kingdom",
           "$2.05T"
          ],
          [
           "United Kingdom",
           "$2.42T"
          ],
          [
           "United Kingdom",
           "$2.54T"
          ],
          [
           "United Kingdom",
           "$2.71T"
          ],
          [
           "United Kingdom",
           "$3.09T"
          ],
          [
           "United Kingdom",
           "$2.93T"
          ],
          [
           "United Kingdom",
           "$2.41T"
          ],
          [
           "United Kingdom",
           "$2.49T"
          ],
          [
           "United Kingdom",
           "$2.66T"
          ],
          [
           "United Kingdom",
           "$2.71T"
          ],
          [
           "United Kingdom",
           "$2.78T"
          ],
          [
           "United Kingdom",
           "$3.06T"
          ],
          [
           "United Kingdom",
           "$2.93T"
          ],
          [
           "United Kingdom",
           "$2.69T"
          ],
          [
           "United Kingdom",
           "$2.68T"
          ],
          [
           "United Kingdom",
           "$2.87T"
          ],
          [
           "United Kingdom",
           "$2.85T"
          ],
          [
           "United Kingdom",
           "$2.70T"
          ],
          [
           "United Kingdom",
           "$3.14T"
          ],
          [
           "United Kingdom",
           "$3.09T"
          ],
          [
           "United Kingdom",
           "$3.34T"
          ]
         ],
         "hovertemplate": "Country Name=%{customdata[0]}<br>Year=%{x}<br>GDP in Trillions=%{customdata[1]}<extra></extra>",
         "legendgroup": "United Kingdom",
         "line": {
          "color": "#EF553B",
          "dash": "solid"
         },
         "marker": {
          "size": 13,
          "symbol": "circle"
         },
         "mode": "lines+markers",
         "name": "United Kingdom",
         "orientation": "v",
         "showlegend": true,
         "type": "scatter",
         "x": [
          1960,
          1961,
          1962,
          1963,
          1964,
          1965,
          1966,
          1967,
          1968,
          1969,
          1970,
          1971,
          1972,
          1973,
          1974,
          1975,
          1976,
          1977,
          1978,
          1979,
          1980,
          1981,
          1982,
          1983,
          1984,
          1985,
          1986,
          1987,
          1988,
          1989,
          1990,
          1991,
          1992,
          1993,
          1994,
          1995,
          1996,
          1997,
          1998,
          1999,
          2000,
          2001,
          2002,
          2003,
          2004,
          2005,
          2006,
          2007,
          2008,
          2009,
          2010,
          2011,
          2012,
          2013,
          2014,
          2015,
          2016,
          2017,
          2018,
          2019,
          2020,
          2021,
          2022,
          2023
         ],
         "xaxis": "x",
         "y": [
          73233967692.1028,
          77741965703.3544,
          81247564156.8246,
          86561961812.3249,
          94407558351.1616,
          101824755078.991,
          108572752102.045,
          113116888210.787,
          107759910067.889,
          116464702803.218,
          130671946244.3,
          148113896325.14,
          169965034965.035,
          192537971582.558,
          206131369798.971,
          241756637168.142,
          232614555256.065,
          263066457352.172,
          335883029721.956,
          438994070309.191,
          564947710899.373,
          540765675241.158,
          515048916841.37,
          489618008185.539,
          461487097632.349,
          489285164271.047,
          601452653180.885,
          745162608269.325,
          910122732123.799,
          926884816753.927,
          1093169389204.55,
          1142797178130.51,
          1179659529659.53,
          1061388722255.55,
          1140489745944.29,
          1344240176739.78,
          1419645865834.63,
          1560911918795.02,
          1653694932096.72,
          1687830448147.55,
          1665534876683.31,
          1649827263567.01,
          1785729916067.15,
          2054422857142.86,
          2421525082387.4,
          2543180000000,
          2708441582336.71,
          3090510204081.63,
          2929411764705.88,
          2412840006231.5,
          2485482596184.71,
          2663805834828.07,
          2707089726614.64,
          2784853502534.29,
          3064708247921.43,
          2927911140916.73,
          2689106566899.61,
          2680148052335.3,
          2871340347581.79,
          2851407164907.81,
          2697806592293.86,
          3141506156618.7,
          3088839763445.02,
          3340032380668.04
         ],
         "yaxis": "y"
        },
        {
         "customdata": [
          [
           "United States",
           "$0.54T"
          ],
          [
           "United States",
           "$0.56T"
          ],
          [
           "United States",
           "$0.60T"
          ],
          [
           "United States",
           "$0.64T"
          ],
          [
           "United States",
           "$0.68T"
          ],
          [
           "United States",
           "$0.74T"
          ],
          [
           "United States",
           "$0.81T"
          ],
          [
           "United States",
           "$0.86T"
          ],
          [
           "United States",
           "$0.94T"
          ],
          [
           "United States",
           "$1.02T"
          ],
          [
           "United States",
           "$1.07T"
          ],
          [
           "United States",
           "$1.16T"
          ],
          [
           "United States",
           "$1.28T"
          ],
          [
           "United States",
           "$1.43T"
          ],
          [
           "United States",
           "$1.55T"
          ],
          [
           "United States",
           "$1.68T"
          ],
          [
           "United States",
           "$1.87T"
          ],
          [
           "United States",
           "$2.08T"
          ],
          [
           "United States",
           "$2.35T"
          ],
          [
           "United States",
           "$2.63T"
          ],
          [
           "United States",
           "$2.86T"
          ],
          [
           "United States",
           "$3.21T"
          ],
          [
           "United States",
           "$3.34T"
          ],
          [
           "United States",
           "$3.63T"
          ],
          [
           "United States",
           "$4.04T"
          ],
          [
           "United States",
           "$4.34T"
          ],
          [
           "United States",
           "$4.58T"
          ],
          [
           "United States",
           "$4.86T"
          ],
          [
           "United States",
           "$5.24T"
          ],
          [
           "United States",
           "$5.64T"
          ],
          [
           "United States",
           "$5.96T"
          ],
          [
           "United States",
           "$6.16T"
          ],
          [
           "United States",
           "$6.52T"
          ],
          [
           "United States",
           "$6.86T"
          ],
          [
           "United States",
           "$7.29T"
          ],
          [
           "United States",
           "$7.64T"
          ],
          [
           "United States",
           "$8.07T"
          ],
          [
           "United States",
           "$8.58T"
          ],
          [
           "United States",
           "$9.06T"
          ],
          [
           "United States",
           "$9.63T"
          ],
          [
           "United States",
           "$10.25T"
          ],
          [
           "United States",
           "$10.58T"
          ],
          [
           "United States",
           "$10.93T"
          ],
          [
           "United States",
           "$11.46T"
          ],
          [
           "United States",
           "$12.22T"
          ],
          [
           "United States",
           "$13.04T"
          ],
          [
           "United States",
           "$13.82T"
          ],
          [
           "United States",
           "$14.47T"
          ],
          [
           "United States",
           "$14.77T"
          ],
          [
           "United States",
           "$14.48T"
          ],
          [
           "United States",
           "$15.05T"
          ],
          [
           "United States",
           "$15.60T"
          ],
          [
           "United States",
           "$16.25T"
          ],
          [
           "United States",
           "$16.88T"
          ],
          [
           "United States",
           "$17.61T"
          ],
          [
           "United States",
           "$18.30T"
          ],
          [
           "United States",
           "$18.80T"
          ],
          [
           "United States",
           "$19.61T"
          ],
          [
           "United States",
           "$20.66T"
          ],
          [
           "United States",
           "$21.52T"
          ],
          [
           "United States",
           "$21.32T"
          ],
          [
           "United States",
           "$23.59T"
          ],
          [
           "United States",
           "$25.74T"
          ],
          [
           "United States",
           "$27.36T"
          ]
         ],
         "hovertemplate": "Country Name=%{customdata[0]}<br>Year=%{x}<br>GDP in Trillions=%{customdata[1]}<extra></extra>",
         "legendgroup": "United States",
         "line": {
          "color": "#00cc96",
          "dash": "solid"
         },
         "marker": {
          "size": 13,
          "symbol": "circle"
         },
         "mode": "lines+markers",
         "name": "United States",
         "orientation": "v",
         "showlegend": true,
         "type": "scatter",
         "x": [
          1960,
          1961,
          1962,
          1963,
          1964,
          1965,
          1966,
          1967,
          1968,
          1969,
          1970,
          1971,
          1972,
          1973,
          1974,
          1975,
          1976,
          1977,
          1978,
          1979,
          1980,
          1981,
          1982,
          1983,
          1984,
          1985,
          1986,
          1987,
          1988,
          1989,
          1990,
          1991,
          1992,
          1993,
          1994,
          1995,
          1996,
          1997,
          1998,
          1999,
          2000,
          2001,
          2002,
          2003,
          2004,
          2005,
          2006,
          2007,
          2008,
          2009,
          2010,
          2011,
          2012,
          2013,
          2014,
          2015,
          2016,
          2017,
          2018,
          2019,
          2020,
          2021,
          2022,
          2023
         ],
         "xaxis": "x",
         "y": [
          541988586206.897,
          561940310344.828,
          603639413793.103,
          637058551724.138,
          684144620689.655,
          741904862068.965,
          813032758620.69,
          859620034482.759,
          940225000000,
          1017438172413.79,
          1073303000000,
          1164850000000,
          1279110000000,
          1425376000000,
          1545243000000,
          1684904000000,
          1873412000000,
          2081826000000,
          2351599000000,
          2627333000000,
          2857307000000,
          3207041000000,
          3343789000000,
          3634038000000,
          4037613000000,
          4338979000000,
          4579631000000,
          4855215000000,
          5236438000000,
          5641580000000,
          5963144000000,
          6158129000000,
          6520327000000,
          6858559000000,
          7287236000000,
          7639749000000,
          8073122000000,
          8577552000000,
          9062817000000,
          9631172000000,
          10250952000000,
          10581929000000,
          10929108000000,
          11456450000000,
          12217196000000,
          13039197000000,
          13815583000000,
          14474228000000,
          14769862000000,
          14478067000000,
          15048971000000,
          15599732000000,
          16253970000000,
          16880683000000,
          17608138000000,
          18295019000000,
          18804913000000,
          19612102000000,
          20656516000000,
          21521395000000,
          21322950000000,
          23594031000000,
          25744108000000,
          27360935000000
         ],
         "yaxis": "y"
        }
       ],
       "layout": {
        "height": 1000,
        "legend": {
         "title": {
          "text": "Country"
         },
         "tracegroupgap": 0
        },
        "margin": {
         "t": 60
        },
        "template": {
         "data": {
          "bar": [
           {
            "error_x": {
             "color": "#2a3f5f"
            },
            "error_y": {
             "color": "#2a3f5f"
            },
            "marker": {
             "line": {
              "color": "#E5ECF6",
              "width": 0.5
             },
             "pattern": {
              "fillmode": "overlay",
              "size": 10,
              "solidity": 0.2
             }
            },
            "type": "bar"
           }
          ],
          "barpolar": [
           {
            "marker": {
             "line": {
              "color": "#E5ECF6",
              "width": 0.5
             },
             "pattern": {
              "fillmode": "overlay",
              "size": 10,
              "solidity": 0.2
             }
            },
            "type": "barpolar"
           }
          ],
          "carpet": [
           {
            "aaxis": {
             "endlinecolor": "#2a3f5f",
             "gridcolor": "white",
             "linecolor": "white",
             "minorgridcolor": "white",
             "startlinecolor": "#2a3f5f"
            },
            "baxis": {
             "endlinecolor": "#2a3f5f",
             "gridcolor": "white",
             "linecolor": "white",
             "minorgridcolor": "white",
             "startlinecolor": "#2a3f5f"
            },
            "type": "carpet"
           }
          ],
          "choropleth": [
           {
            "colorbar": {
             "outlinewidth": 0,
             "ticks": ""
            },
            "type": "choropleth"
           }
          ],
          "contour": [
           {
            "colorbar": {
             "outlinewidth": 0,
             "ticks": ""
            },
            "colorscale": [
             [
              0,
              "#0d0887"
             ],
             [
              0.1111111111111111,
              "#46039f"
             ],
             [
              0.2222222222222222,
              "#7201a8"
             ],
             [
              0.3333333333333333,
              "#9c179e"
             ],
             [
              0.4444444444444444,
              "#bd3786"
             ],
             [
              0.5555555555555556,
              "#d8576b"
             ],
             [
              0.6666666666666666,
              "#ed7953"
             ],
             [
              0.7777777777777778,
              "#fb9f3a"
             ],
             [
              0.8888888888888888,
              "#fdca26"
             ],
             [
              1,
              "#f0f921"
             ]
            ],
            "type": "contour"
           }
          ],
          "contourcarpet": [
           {
            "colorbar": {
             "outlinewidth": 0,
             "ticks": ""
            },
            "type": "contourcarpet"
           }
          ],
          "heatmap": [
           {
            "colorbar": {
             "outlinewidth": 0,
             "ticks": ""
            },
            "colorscale": [
             [
              0,
              "#0d0887"
             ],
             [
              0.1111111111111111,
              "#46039f"
             ],
             [
              0.2222222222222222,
              "#7201a8"
             ],
             [
              0.3333333333333333,
              "#9c179e"
             ],
             [
              0.4444444444444444,
              "#bd3786"
             ],
             [
              0.5555555555555556,
              "#d8576b"
             ],
             [
              0.6666666666666666,
              "#ed7953"
             ],
             [
              0.7777777777777778,
              "#fb9f3a"
             ],
             [
              0.8888888888888888,
              "#fdca26"
             ],
             [
              1,
              "#f0f921"
             ]
            ],
            "type": "heatmap"
           }
          ],
          "heatmapgl": [
           {
            "colorbar": {
             "outlinewidth": 0,
             "ticks": ""
            },
            "colorscale": [
             [
              0,
              "#0d0887"
             ],
             [
              0.1111111111111111,
              "#46039f"
             ],
             [
              0.2222222222222222,
              "#7201a8"
             ],
             [
              0.3333333333333333,
              "#9c179e"
             ],
             [
              0.4444444444444444,
              "#bd3786"
             ],
             [
              0.5555555555555556,
              "#d8576b"
             ],
             [
              0.6666666666666666,
              "#ed7953"
             ],
             [
              0.7777777777777778,
              "#fb9f3a"
             ],
             [
              0.8888888888888888,
              "#fdca26"
             ],
             [
              1,
              "#f0f921"
             ]
            ],
            "type": "heatmapgl"
           }
          ],
          "histogram": [
           {
            "marker": {
             "pattern": {
              "fillmode": "overlay",
              "size": 10,
              "solidity": 0.2
             }
            },
            "type": "histogram"
           }
          ],
          "histogram2d": [
           {
            "colorbar": {
             "outlinewidth": 0,
             "ticks": ""
            },
            "colorscale": [
             [
              0,
              "#0d0887"
             ],
             [
              0.1111111111111111,
              "#46039f"
             ],
             [
              0.2222222222222222,
              "#7201a8"
             ],
             [
              0.3333333333333333,
              "#9c179e"
             ],
             [
              0.4444444444444444,
              "#bd3786"
             ],
             [
              0.5555555555555556,
              "#d8576b"
             ],
             [
              0.6666666666666666,
              "#ed7953"
             ],
             [
              0.7777777777777778,
              "#fb9f3a"
             ],
             [
              0.8888888888888888,
              "#fdca26"
             ],
             [
              1,
              "#f0f921"
             ]
            ],
            "type": "histogram2d"
           }
          ],
          "histogram2dcontour": [
           {
            "colorbar": {
             "outlinewidth": 0,
             "ticks": ""
            },
            "colorscale": [
             [
              0,
              "#0d0887"
             ],
             [
              0.1111111111111111,
              "#46039f"
             ],
             [
              0.2222222222222222,
              "#7201a8"
             ],
             [
              0.3333333333333333,
              "#9c179e"
             ],
             [
              0.4444444444444444,
              "#bd3786"
             ],
             [
              0.5555555555555556,
              "#d8576b"
             ],
             [
              0.6666666666666666,
              "#ed7953"
             ],
             [
              0.7777777777777778,
              "#fb9f3a"
             ],
             [
              0.8888888888888888,
              "#fdca26"
             ],
             [
              1,
              "#f0f921"
             ]
            ],
            "type": "histogram2dcontour"
           }
          ],
          "mesh3d": [
           {
            "colorbar": {
             "outlinewidth": 0,
             "ticks": ""
            },
            "type": "mesh3d"
           }
          ],
          "parcoords": [
           {
            "line": {
             "colorbar": {
              "outlinewidth": 0,
              "ticks": ""
             }
            },
            "type": "parcoords"
           }
          ],
          "pie": [
           {
            "automargin": true,
            "type": "pie"
           }
          ],
          "scatter": [
           {
            "fillpattern": {
             "fillmode": "overlay",
             "size": 10,
             "solidity": 0.2
            },
            "type": "scatter"
           }
          ],
          "scatter3d": [
           {
            "line": {
             "colorbar": {
              "outlinewidth": 0,
              "ticks": ""
             }
            },
            "marker": {
             "colorbar": {
              "outlinewidth": 0,
              "ticks": ""
             }
            },
            "type": "scatter3d"
           }
          ],
          "scattercarpet": [
           {
            "marker": {
             "colorbar": {
              "outlinewidth": 0,
              "ticks": ""
             }
            },
            "type": "scattercarpet"
           }
          ],
          "scattergeo": [
           {
            "marker": {
             "colorbar": {
              "outlinewidth": 0,
              "ticks": ""
             }
            },
            "type": "scattergeo"
           }
          ],
          "scattergl": [
           {
            "marker": {
             "colorbar": {
              "outlinewidth": 0,
              "ticks": ""
             }
            },
            "type": "scattergl"
           }
          ],
          "scattermapbox": [
           {
            "marker": {
             "colorbar": {
              "outlinewidth": 0,
              "ticks": ""
             }
            },
            "type": "scattermapbox"
           }
          ],
          "scatterpolar": [
           {
            "marker": {
             "colorbar": {
              "outlinewidth": 0,
              "ticks": ""
             }
            },
            "type": "scatterpolar"
           }
          ],
          "scatterpolargl": [
           {
            "marker": {
             "colorbar": {
              "outlinewidth": 0,
              "ticks": ""
             }
            },
            "type": "scatterpolargl"
           }
          ],
          "scatterternary": [
           {
            "marker": {
             "colorbar": {
              "outlinewidth": 0,
              "ticks": ""
             }
            },
            "type": "scatterternary"
           }
          ],
          "surface": [
           {
            "colorbar": {
             "outlinewidth": 0,
             "ticks": ""
            },
            "colorscale": [
             [
              0,
              "#0d0887"
             ],
             [
              0.1111111111111111,
              "#46039f"
             ],
             [
              0.2222222222222222,
              "#7201a8"
             ],
             [
              0.3333333333333333,
              "#9c179e"
             ],
             [
              0.4444444444444444,
              "#bd3786"
             ],
             [
              0.5555555555555556,
              "#d8576b"
             ],
             [
              0.6666666666666666,
              "#ed7953"
             ],
             [
              0.7777777777777778,
              "#fb9f3a"
             ],
             [
              0.8888888888888888,
              "#fdca26"
             ],
             [
              1,
              "#f0f921"
             ]
            ],
            "type": "surface"
           }
          ],
          "table": [
           {
            "cells": {
             "fill": {
              "color": "#EBF0F8"
             },
             "line": {
              "color": "white"
             }
            },
            "header": {
             "fill": {
              "color": "#C8D4E3"
             },
             "line": {
              "color": "white"
             }
            },
            "type": "table"
           }
          ]
         },
         "layout": {
          "annotationdefaults": {
           "arrowcolor": "#2a3f5f",
           "arrowhead": 0,
           "arrowwidth": 1
          },
          "autotypenumbers": "strict",
          "coloraxis": {
           "colorbar": {
            "outlinewidth": 0,
            "ticks": ""
           }
          },
          "colorscale": {
           "diverging": [
            [
             0,
             "#8e0152"
            ],
            [
             0.1,
             "#c51b7d"
            ],
            [
             0.2,
             "#de77ae"
            ],
            [
             0.3,
             "#f1b6da"
            ],
            [
             0.4,
             "#fde0ef"
            ],
            [
             0.5,
             "#f7f7f7"
            ],
            [
             0.6,
             "#e6f5d0"
            ],
            [
             0.7,
             "#b8e186"
            ],
            [
             0.8,
             "#7fbc41"
            ],
            [
             0.9,
             "#4d9221"
            ],
            [
             1,
             "#276419"
            ]
           ],
           "sequential": [
            [
             0,
             "#0d0887"
            ],
            [
             0.1111111111111111,
             "#46039f"
            ],
            [
             0.2222222222222222,
             "#7201a8"
            ],
            [
             0.3333333333333333,
             "#9c179e"
            ],
            [
             0.4444444444444444,
             "#bd3786"
            ],
            [
             0.5555555555555556,
             "#d8576b"
            ],
            [
             0.6666666666666666,
             "#ed7953"
            ],
            [
             0.7777777777777778,
             "#fb9f3a"
            ],
            [
             0.8888888888888888,
             "#fdca26"
            ],
            [
             1,
             "#f0f921"
            ]
           ],
           "sequentialminus": [
            [
             0,
             "#0d0887"
            ],
            [
             0.1111111111111111,
             "#46039f"
            ],
            [
             0.2222222222222222,
             "#7201a8"
            ],
            [
             0.3333333333333333,
             "#9c179e"
            ],
            [
             0.4444444444444444,
             "#bd3786"
            ],
            [
             0.5555555555555556,
             "#d8576b"
            ],
            [
             0.6666666666666666,
             "#ed7953"
            ],
            [
             0.7777777777777778,
             "#fb9f3a"
            ],
            [
             0.8888888888888888,
             "#fdca26"
            ],
            [
             1,
             "#f0f921"
            ]
           ]
          },
          "colorway": [
           "#636efa",
           "#EF553B",
           "#00cc96",
           "#ab63fa",
           "#FFA15A",
           "#19d3f3",
           "#FF6692",
           "#B6E880",
           "#FF97FF",
           "#FECB52"
          ],
          "font": {
           "color": "#2a3f5f"
          },
          "geo": {
           "bgcolor": "white",
           "lakecolor": "white",
           "landcolor": "#E5ECF6",
           "showlakes": true,
           "showland": true,
           "subunitcolor": "white"
          },
          "hoverlabel": {
           "align": "left"
          },
          "hovermode": "closest",
          "mapbox": {
           "style": "light"
          },
          "paper_bgcolor": "white",
          "plot_bgcolor": "#E5ECF6",
          "polar": {
           "angularaxis": {
            "gridcolor": "white",
            "linecolor": "white",
            "ticks": ""
           },
           "bgcolor": "#E5ECF6",
           "radialaxis": {
            "gridcolor": "white",
            "linecolor": "white",
            "ticks": ""
           }
          },
          "scene": {
           "xaxis": {
            "backgroundcolor": "#E5ECF6",
            "gridcolor": "white",
            "gridwidth": 2,
            "linecolor": "white",
            "showbackground": true,
            "ticks": "",
            "zerolinecolor": "white"
           },
           "yaxis": {
            "backgroundcolor": "#E5ECF6",
            "gridcolor": "white",
            "gridwidth": 2,
            "linecolor": "white",
            "showbackground": true,
            "ticks": "",
            "zerolinecolor": "white"
           },
           "zaxis": {
            "backgroundcolor": "#E5ECF6",
            "gridcolor": "white",
            "gridwidth": 2,
            "linecolor": "white",
            "showbackground": true,
            "ticks": "",
            "zerolinecolor": "white"
           }
          },
          "shapedefaults": {
           "line": {
            "color": "#2a3f5f"
           }
          },
          "ternary": {
           "aaxis": {
            "gridcolor": "white",
            "linecolor": "white",
            "ticks": ""
           },
           "baxis": {
            "gridcolor": "white",
            "linecolor": "white",
            "ticks": ""
           },
           "bgcolor": "#E5ECF6",
           "caxis": {
            "gridcolor": "white",
            "linecolor": "white",
            "ticks": ""
           }
          },
          "title": {
           "x": 0.05
          },
          "xaxis": {
           "automargin": true,
           "gridcolor": "white",
           "linecolor": "white",
           "ticks": "",
           "title": {
            "standoff": 15
           },
           "zerolinecolor": "white",
           "zerolinewidth": 2
          },
          "yaxis": {
           "automargin": true,
           "gridcolor": "white",
           "linecolor": "white",
           "ticks": "",
           "title": {
            "standoff": 15
           },
           "zerolinecolor": "white",
           "zerolinewidth": 2
          }
         }
        },
        "title": {
         "text": "GDP Over Time for Different Countries",
         "x": 0.5
        },
        "xaxis": {
         "anchor": "y",
         "domain": [
          0,
          1
         ],
         "tickangle": -70,
         "tickmode": "array",
         "tickvals": [
          1960,
          1961,
          1962,
          1963,
          1964,
          1965,
          1966,
          1967,
          1968,
          1969,
          1970,
          1971,
          1972,
          1973,
          1974,
          1975,
          1976,
          1977,
          1978,
          1979,
          1980,
          1981,
          1982,
          1983,
          1984,
          1985,
          1986,
          1987,
          1988,
          1989,
          1990,
          1991,
          1992,
          1993,
          1994,
          1995,
          1996,
          1997,
          1998,
          1999,
          2000,
          2001,
          2002,
          2003,
          2004,
          2005,
          2006,
          2007,
          2008,
          2009,
          2010,
          2011,
          2012,
          2013,
          2014,
          2015,
          2016,
          2017,
          2018,
          2019,
          2020,
          2021,
          2022,
          2023
         ],
         "title": {
          "text": "Year"
         }
        },
        "yaxis": {
         "anchor": "x",
         "domain": [
          0,
          1
         ],
         "title": {
          "text": "GDP in Trillions of U.S. Dollars"
         }
        }
       }
      }
     },
     "metadata": {},
     "output_type": "display_data"
    }
   ],
   "source": [
    "point_plot(df=df, feature=\"GDP\", countries=top_three_countries)"
   ]
  },
  {
   "cell_type": "code",
   "execution_count": 222,
   "metadata": {},
   "outputs": [
    {
     "data": {
      "application/vnd.plotly.v1+json": {
       "config": {
        "plotlyServerURL": "https://plot.ly"
       },
       "data": [
        {
         "customdata": [
          [
           "Chile",
           "$0.00T"
          ],
          [
           "Chile",
           "$0.00T"
          ],
          [
           "Chile",
           "$0.01T"
          ],
          [
           "Chile",
           "$0.01T"
          ],
          [
           "Chile",
           "$0.01T"
          ],
          [
           "Chile",
           "$0.01T"
          ],
          [
           "Chile",
           "$0.01T"
          ],
          [
           "Chile",
           "$0.01T"
          ],
          [
           "Chile",
           "$0.01T"
          ],
          [
           "Chile",
           "$0.01T"
          ],
          [
           "Chile",
           "$0.01T"
          ],
          [
           "Chile",
           "$0.01T"
          ],
          [
           "Chile",
           "$0.01T"
          ],
          [
           "Chile",
           "$0.02T"
          ],
          [
           "Chile",
           "$0.02T"
          ],
          [
           "Chile",
           "$0.01T"
          ],
          [
           "Chile",
           "$0.01T"
          ],
          [
           "Chile",
           "$0.01T"
          ],
          [
           "Chile",
           "$0.02T"
          ],
          [
           "Chile",
           "$0.02T"
          ],
          [
           "Chile",
           "$0.03T"
          ],
          [
           "Chile",
           "$0.03T"
          ],
          [
           "Chile",
           "$0.02T"
          ],
          [
           "Chile",
           "$0.02T"
          ],
          [
           "Chile",
           "$0.02T"
          ],
          [
           "Chile",
           "$0.02T"
          ],
          [
           "Chile",
           "$0.02T"
          ],
          [
           "Chile",
           "$0.02T"
          ],
          [
           "Chile",
           "$0.03T"
          ],
          [
           "Chile",
           "$0.03T"
          ],
          [
           "Chile",
           "$0.03T"
          ],
          [
           "Chile",
           "$0.04T"
          ],
          [
           "Chile",
           "$0.05T"
          ],
          [
           "Chile",
           "$0.05T"
          ],
          [
           "Chile",
           "$0.06T"
          ],
          [
           "Chile",
           "$0.07T"
          ],
          [
           "Chile",
           "$0.08T"
          ],
          [
           "Chile",
           "$0.09T"
          ],
          [
           "Chile",
           "$0.08T"
          ],
          [
           "Chile",
           "$0.08T"
          ],
          [
           "Chile",
           "$0.08T"
          ],
          [
           "Chile",
           "$0.07T"
          ],
          [
           "Chile",
           "$0.07T"
          ],
          [
           "Chile",
           "$0.08T"
          ],
          [
           "Chile",
           "$0.10T"
          ],
          [
           "Chile",
           "$0.12T"
          ],
          [
           "Chile",
           "$0.15T"
          ],
          [
           "Chile",
           "$0.17T"
          ],
          [
           "Chile",
           "$0.18T"
          ],
          [
           "Chile",
           "$0.17T"
          ],
          [
           "Chile",
           "$0.22T"
          ],
          [
           "Chile",
           "$0.25T"
          ],
          [
           "Chile",
           "$0.27T"
          ],
          [
           "Chile",
           "$0.28T"
          ],
          [
           "Chile",
           "$0.26T"
          ],
          [
           "Chile",
           "$0.24T"
          ],
          [
           "Chile",
           "$0.25T"
          ],
          [
           "Chile",
           "$0.28T"
          ],
          [
           "Chile",
           "$0.30T"
          ],
          [
           "Chile",
           "$0.28T"
          ],
          [
           "Chile",
           "$0.25T"
          ],
          [
           "Chile",
           "$0.32T"
          ],
          [
           "Chile",
           "$0.30T"
          ],
          [
           "Chile",
           "$0.34T"
          ]
         ],
         "hovertemplate": "Country Name=%{customdata[0]}<br>Year=%{x}<br>GDP in Trillions=%{customdata[1]}<extra></extra>",
         "legendgroup": "Chile",
         "line": {
          "color": "#636efa",
          "dash": "solid"
         },
         "marker": {
          "size": 13,
          "symbol": "circle"
         },
         "mode": "lines+markers",
         "name": "Chile",
         "orientation": "v",
         "showlegend": true,
         "type": "scatter",
         "x": [
          1960,
          1961,
          1962,
          1963,
          1964,
          1965,
          1966,
          1967,
          1968,
          1969,
          1970,
          1971,
          1972,
          1973,
          1974,
          1975,
          1976,
          1977,
          1978,
          1979,
          1980,
          1981,
          1982,
          1983,
          1984,
          1985,
          1986,
          1987,
          1988,
          1989,
          1990,
          1991,
          1992,
          1993,
          1994,
          1995,
          1996,
          1997,
          1998,
          1999,
          2000,
          2001,
          2002,
          2003,
          2004,
          2005,
          2006,
          2007,
          2008,
          2009,
          2010,
          2011,
          2012,
          2013,
          2014,
          2015,
          2016,
          2017,
          2018,
          2019,
          2020,
          2021,
          2022,
          2023
         ],
         "xaxis": "x",
         "y": [
          4110000000,
          4829238095.2381,
          5631285444.2344,
          5591307028.36005,
          5964195925.4443,
          6108679125.7523,
          7162633082.31628,
          7057478295.18548,
          7192102966.84119,
          8359596194.01253,
          9144112431.28214,
          10876091407.9777,
          11833904487.641,
          16826390943.8597,
          16209693232.0782,
          7621570062.17598,
          10338624019.4415,
          13965595122.3247,
          15992038535.2046,
          21806136345.5074,
          29036709871.7949,
          34509878043.5897,
          19529291464.7274,
          20362016672.278,
          19671768024.4581,
          17717662227.8036,
          18897110625.5242,
          22250729666.7937,
          26042571615.5987,
          29936735491.4427,
          33137824762.0173,
          37846188228.2702,
          45949608551.8086,
          49287378599.1612,
          56998601183.5492,
          73444831671.0169,
          78584098982.9097,
          85741415285.4035,
          81990010703.843,
          75578685735.5219,
          78339750721.7352,
          71574739561.4329,
          70264045939.1322,
          76492579644.0605,
          99075985773.176,
          122294145162.835,
          153843518171.43,
          172491076033.863,
          179894594475.98,
          171777900623.177,
          217051209240.298,
          251382573885.594,
          267024782480.28,
          277395018837.366,
          259560978231.552,
          242450355827.827,
          249344863933.461,
          276154259987.103,
          295857562991.709,
          278285058719.466,
          254042159309.311,
          315515014838.539,
          302116539409.03,
          335533331669.219
         ],
         "yaxis": "y"
        },
        {
         "customdata": [
          [
           "Mexico",
           "$0.01T"
          ],
          [
           "Mexico",
           "$0.01T"
          ],
          [
           "Mexico",
           "$0.02T"
          ],
          [
           "Mexico",
           "$0.02T"
          ],
          [
           "Mexico",
           "$0.02T"
          ],
          [
           "Mexico",
           "$0.02T"
          ],
          [
           "Mexico",
           "$0.02T"
          ],
          [
           "Mexico",
           "$0.03T"
          ],
          [
           "Mexico",
           "$0.03T"
          ],
          [
           "Mexico",
           "$0.03T"
          ],
          [
           "Mexico",
           "$0.04T"
          ],
          [
           "Mexico",
           "$0.04T"
          ],
          [
           "Mexico",
           "$0.05T"
          ],
          [
           "Mexico",
           "$0.06T"
          ],
          [
           "Mexico",
           "$0.07T"
          ],
          [
           "Mexico",
           "$0.09T"
          ],
          [
           "Mexico",
           "$0.09T"
          ],
          [
           "Mexico",
           "$0.08T"
          ],
          [
           "Mexico",
           "$0.10T"
          ],
          [
           "Mexico",
           "$0.13T"
          ],
          [
           "Mexico",
           "$0.21T"
          ],
          [
           "Mexico",
           "$0.26T"
          ],
          [
           "Mexico",
           "$0.18T"
          ],
          [
           "Mexico",
           "$0.16T"
          ],
          [
           "Mexico",
           "$0.18T"
          ],
          [
           "Mexico",
           "$0.20T"
          ],
          [
           "Mexico",
           "$0.13T"
          ],
          [
           "Mexico",
           "$0.15T"
          ],
          [
           "Mexico",
           "$0.18T"
          ],
          [
           "Mexico",
           "$0.22T"
          ],
          [
           "Mexico",
           "$0.26T"
          ],
          [
           "Mexico",
           "$0.31T"
          ],
          [
           "Mexico",
           "$0.36T"
          ],
          [
           "Mexico",
           "$0.53T"
          ],
          [
           "Mexico",
           "$0.55T"
          ],
          [
           "Mexico",
           "$0.38T"
          ],
          [
           "Mexico",
           "$0.43T"
          ],
          [
           "Mexico",
           "$0.52T"
          ],
          [
           "Mexico",
           "$0.56T"
          ],
          [
           "Mexico",
           "$0.63T"
          ],
          [
           "Mexico",
           "$0.74T"
          ],
          [
           "Mexico",
           "$0.80T"
          ],
          [
           "Mexico",
           "$0.81T"
          ],
          [
           "Mexico",
           "$0.77T"
          ],
          [
           "Mexico",
           "$0.82T"
          ],
          [
           "Mexico",
           "$0.92T"
          ],
          [
           "Mexico",
           "$1.02T"
          ],
          [
           "Mexico",
           "$1.10T"
          ],
          [
           "Mexico",
           "$1.16T"
          ],
          [
           "Mexico",
           "$0.94T"
          ],
          [
           "Mexico",
           "$1.11T"
          ],
          [
           "Mexico",
           "$1.23T"
          ],
          [
           "Mexico",
           "$1.26T"
          ],
          [
           "Mexico",
           "$1.33T"
          ],
          [
           "Mexico",
           "$1.36T"
          ],
          [
           "Mexico",
           "$1.21T"
          ],
          [
           "Mexico",
           "$1.11T"
          ],
          [
           "Mexico",
           "$1.19T"
          ],
          [
           "Mexico",
           "$1.26T"
          ],
          [
           "Mexico",
           "$1.31T"
          ],
          [
           "Mexico",
           "$1.12T"
          ],
          [
           "Mexico",
           "$1.31T"
          ],
          [
           "Mexico",
           "$1.46T"
          ],
          [
           "Mexico",
           "$1.79T"
          ]
         ],
         "hovertemplate": "Country Name=%{customdata[0]}<br>Year=%{x}<br>GDP in Trillions=%{customdata[1]}<extra></extra>",
         "legendgroup": "Mexico",
         "line": {
          "color": "#EF553B",
          "dash": "solid"
         },
         "marker": {
          "size": 13,
          "symbol": "circle"
         },
         "mode": "lines+markers",
         "name": "Mexico",
         "orientation": "v",
         "showlegend": true,
         "type": "scatter",
         "x": [
          1960,
          1961,
          1962,
          1963,
          1964,
          1965,
          1966,
          1967,
          1968,
          1969,
          1970,
          1971,
          1972,
          1973,
          1974,
          1975,
          1976,
          1977,
          1978,
          1979,
          1980,
          1981,
          1982,
          1983,
          1984,
          1985,
          1986,
          1987,
          1988,
          1989,
          1990,
          1991,
          1992,
          1993,
          1994,
          1995,
          1996,
          1997,
          1998,
          1999,
          2000,
          2001,
          2002,
          2003,
          2004,
          2005,
          2006,
          2007,
          2008,
          2009,
          2010,
          2011,
          2012,
          2013,
          2014,
          2015,
          2016,
          2017,
          2018,
          2019,
          2020,
          2021,
          2022,
          2023
         ],
         "xaxis": "x",
         "y": [
          13040000000,
          14160000000,
          15200000000,
          16960000000,
          20080000000,
          21840000000,
          24320000000,
          26560000000,
          29360000000,
          32480000000,
          35520000000,
          39200000000,
          45200000000,
          55280000000,
          72000000000,
          88000000000,
          88875923765.072,
          81912018783.5024,
          102648570299.117,
          134531900898.926,
          205577055465.993,
          263797827860.494,
          184602611609.517,
          156167000432.994,
          184230754105.394,
          195241069482.077,
          134556034672.991,
          147542558208.888,
          181611150496.787,
          221403098266.77,
          261253675692.838,
          313139656145.745,
          363157832923.734,
          530160763983.506,
          553618247900.74,
          380157469866.849,
          432157945024.428,
          523449530464.257,
          557461102630.658,
          631249359702.389,
          742061329643.37,
          796064590656.176,
          810666116505.478,
          765549967703.273,
          819459227375.022,
          917571853529.104,
          1020265057882.01,
          1102355554971.95,
          1161553459715.1,
          943437415024.633,
          1105424238731.09,
          1229013703416.76,
          1255110424817.79,
          1327436290282.67,
          1364507717614.13,
          1213294467716.88,
          1112233497452.7,
          1190721475906,
          1256300182879.73,
          1305211135822.61,
          1120832412468.85,
          1313069763986.6,
          1463323889036.56,
          1788886821046.81
         ],
         "yaxis": "y"
        },
        {
         "customdata": [
          [
           "Peru",
           "$0.02T"
          ],
          [
           "Peru",
           "$0.01T"
          ],
          [
           "Peru",
           "$0.02T"
          ],
          [
           "Peru",
           "$0.02T"
          ],
          [
           "Peru",
           "$0.02T"
          ],
          [
           "Peru",
           "$0.04T"
          ],
          [
           "Peru",
           "$0.02T"
          ],
          [
           "Peru",
           "$0.02T"
          ],
          [
           "Peru",
           "$0.03T"
          ],
          [
           "Peru",
           "$0.03T"
          ],
          [
           "Peru",
           "$0.04T"
          ],
          [
           "Peru",
           "$0.03T"
          ],
          [
           "Peru",
           "$0.04T"
          ],
          [
           "Peru",
           "$0.05T"
          ],
          [
           "Peru",
           "$0.06T"
          ],
          [
           "Peru",
           "$0.06T"
          ],
          [
           "Peru",
           "$0.06T"
          ],
          [
           "Peru",
           "$0.05T"
          ],
          [
           "Peru",
           "$0.05T"
          ],
          [
           "Peru",
           "$0.05T"
          ],
          [
           "Peru",
           "$0.05T"
          ],
          [
           "Peru",
           "$0.06T"
          ],
          [
           "Peru",
           "$0.07T"
          ],
          [
           "Peru",
           "$0.08T"
          ],
          [
           "Peru",
           "$0.09T"
          ],
          [
           "Peru",
           "$0.10T"
          ],
          [
           "Peru",
           "$0.12T"
          ],
          [
           "Peru",
           "$0.12T"
          ],
          [
           "Peru",
           "$0.15T"
          ],
          [
           "Peru",
           "$0.17T"
          ],
          [
           "Peru",
           "$0.19T"
          ],
          [
           "Peru",
           "$0.20T"
          ],
          [
           "Peru",
           "$0.20T"
          ],
          [
           "Peru",
           "$0.19T"
          ],
          [
           "Peru",
           "$0.19T"
          ],
          [
           "Peru",
           "$0.21T"
          ],
          [
           "Peru",
           "$0.22T"
          ],
          [
           "Peru",
           "$0.23T"
          ],
          [
           "Peru",
           "$0.20T"
          ],
          [
           "Peru",
           "$0.23T"
          ],
          [
           "Peru",
           "$0.25T"
          ],
          [
           "Peru",
           "$0.27T"
          ]
         ],
         "hovertemplate": "Country Name=%{customdata[0]}<br>Year=%{x}<br>GDP in Trillions=%{customdata[1]}<extra></extra>",
         "legendgroup": "Peru",
         "line": {
          "color": "#00cc96",
          "dash": "solid"
         },
         "marker": {
          "size": 13,
          "symbol": "circle"
         },
         "mode": "lines+markers",
         "name": "Peru",
         "orientation": "v",
         "showlegend": true,
         "type": "scatter",
         "x": [
          1982,
          1983,
          1984,
          1985,
          1986,
          1987,
          1988,
          1989,
          1990,
          1991,
          1992,
          1993,
          1994,
          1995,
          1996,
          1997,
          1998,
          1999,
          2000,
          2001,
          2002,
          2003,
          2004,
          2005,
          2006,
          2007,
          2008,
          2009,
          2010,
          2011,
          2012,
          2013,
          2014,
          2015,
          2016,
          2017,
          2018,
          2019,
          2020,
          2021,
          2022,
          2023
         ],
         "xaxis": "x",
         "y": [
          15203143381,
          14124541992.5,
          20339340469.3333,
          15044388198.1818,
          21777475654.2857,
          36533467759.4118,
          15439408447.2,
          22499558526.3682,
          26410386962.8019,
          34341465998.2003,
          35966302303.263,
          34832077220.8537,
          44882079766.8913,
          53312793687.3836,
          55252414130.3019,
          58147522522.5225,
          55501467877.381,
          50187324567.883,
          51744749133.213,
          52030158775.4055,
          54777553515.0809,
          58731030121.8671,
          66768703497.5687,
          76060606060.6061,
          88643193061.748,
          102170981144.136,
          120550599815.441,
          120822986521.479,
          147527631520.729,
          171761737046.585,
          192650021648.583,
          201175543571.392,
          200786250582.943,
          189802976285.619,
          191898104390.379,
          211007984080.911,
          222597009739.235,
          228346006003.648,
          201409694755.934,
          226354278280.885,
          246488757636.211,
          267603248655.253
         ],
         "yaxis": "y"
        }
       ],
       "layout": {
        "height": 1000,
        "legend": {
         "title": {
          "text": "Country"
         },
         "tracegroupgap": 0
        },
        "margin": {
         "t": 60
        },
        "template": {
         "data": {
          "bar": [
           {
            "error_x": {
             "color": "#2a3f5f"
            },
            "error_y": {
             "color": "#2a3f5f"
            },
            "marker": {
             "line": {
              "color": "#E5ECF6",
              "width": 0.5
             },
             "pattern": {
              "fillmode": "overlay",
              "size": 10,
              "solidity": 0.2
             }
            },
            "type": "bar"
           }
          ],
          "barpolar": [
           {
            "marker": {
             "line": {
              "color": "#E5ECF6",
              "width": 0.5
             },
             "pattern": {
              "fillmode": "overlay",
              "size": 10,
              "solidity": 0.2
             }
            },
            "type": "barpolar"
           }
          ],
          "carpet": [
           {
            "aaxis": {
             "endlinecolor": "#2a3f5f",
             "gridcolor": "white",
             "linecolor": "white",
             "minorgridcolor": "white",
             "startlinecolor": "#2a3f5f"
            },
            "baxis": {
             "endlinecolor": "#2a3f5f",
             "gridcolor": "white",
             "linecolor": "white",
             "minorgridcolor": "white",
             "startlinecolor": "#2a3f5f"
            },
            "type": "carpet"
           }
          ],
          "choropleth": [
           {
            "colorbar": {
             "outlinewidth": 0,
             "ticks": ""
            },
            "type": "choropleth"
           }
          ],
          "contour": [
           {
            "colorbar": {
             "outlinewidth": 0,
             "ticks": ""
            },
            "colorscale": [
             [
              0,
              "#0d0887"
             ],
             [
              0.1111111111111111,
              "#46039f"
             ],
             [
              0.2222222222222222,
              "#7201a8"
             ],
             [
              0.3333333333333333,
              "#9c179e"
             ],
             [
              0.4444444444444444,
              "#bd3786"
             ],
             [
              0.5555555555555556,
              "#d8576b"
             ],
             [
              0.6666666666666666,
              "#ed7953"
             ],
             [
              0.7777777777777778,
              "#fb9f3a"
             ],
             [
              0.8888888888888888,
              "#fdca26"
             ],
             [
              1,
              "#f0f921"
             ]
            ],
            "type": "contour"
           }
          ],
          "contourcarpet": [
           {
            "colorbar": {
             "outlinewidth": 0,
             "ticks": ""
            },
            "type": "contourcarpet"
           }
          ],
          "heatmap": [
           {
            "colorbar": {
             "outlinewidth": 0,
             "ticks": ""
            },
            "colorscale": [
             [
              0,
              "#0d0887"
             ],
             [
              0.1111111111111111,
              "#46039f"
             ],
             [
              0.2222222222222222,
              "#7201a8"
             ],
             [
              0.3333333333333333,
              "#9c179e"
             ],
             [
              0.4444444444444444,
              "#bd3786"
             ],
             [
              0.5555555555555556,
              "#d8576b"
             ],
             [
              0.6666666666666666,
              "#ed7953"
             ],
             [
              0.7777777777777778,
              "#fb9f3a"
             ],
             [
              0.8888888888888888,
              "#fdca26"
             ],
             [
              1,
              "#f0f921"
             ]
            ],
            "type": "heatmap"
           }
          ],
          "heatmapgl": [
           {
            "colorbar": {
             "outlinewidth": 0,
             "ticks": ""
            },
            "colorscale": [
             [
              0,
              "#0d0887"
             ],
             [
              0.1111111111111111,
              "#46039f"
             ],
             [
              0.2222222222222222,
              "#7201a8"
             ],
             [
              0.3333333333333333,
              "#9c179e"
             ],
             [
              0.4444444444444444,
              "#bd3786"
             ],
             [
              0.5555555555555556,
              "#d8576b"
             ],
             [
              0.6666666666666666,
              "#ed7953"
             ],
             [
              0.7777777777777778,
              "#fb9f3a"
             ],
             [
              0.8888888888888888,
              "#fdca26"
             ],
             [
              1,
              "#f0f921"
             ]
            ],
            "type": "heatmapgl"
           }
          ],
          "histogram": [
           {
            "marker": {
             "pattern": {
              "fillmode": "overlay",
              "size": 10,
              "solidity": 0.2
             }
            },
            "type": "histogram"
           }
          ],
          "histogram2d": [
           {
            "colorbar": {
             "outlinewidth": 0,
             "ticks": ""
            },
            "colorscale": [
             [
              0,
              "#0d0887"
             ],
             [
              0.1111111111111111,
              "#46039f"
             ],
             [
              0.2222222222222222,
              "#7201a8"
             ],
             [
              0.3333333333333333,
              "#9c179e"
             ],
             [
              0.4444444444444444,
              "#bd3786"
             ],
             [
              0.5555555555555556,
              "#d8576b"
             ],
             [
              0.6666666666666666,
              "#ed7953"
             ],
             [
              0.7777777777777778,
              "#fb9f3a"
             ],
             [
              0.8888888888888888,
              "#fdca26"
             ],
             [
              1,
              "#f0f921"
             ]
            ],
            "type": "histogram2d"
           }
          ],
          "histogram2dcontour": [
           {
            "colorbar": {
             "outlinewidth": 0,
             "ticks": ""
            },
            "colorscale": [
             [
              0,
              "#0d0887"
             ],
             [
              0.1111111111111111,
              "#46039f"
             ],
             [
              0.2222222222222222,
              "#7201a8"
             ],
             [
              0.3333333333333333,
              "#9c179e"
             ],
             [
              0.4444444444444444,
              "#bd3786"
             ],
             [
              0.5555555555555556,
              "#d8576b"
             ],
             [
              0.6666666666666666,
              "#ed7953"
             ],
             [
              0.7777777777777778,
              "#fb9f3a"
             ],
             [
              0.8888888888888888,
              "#fdca26"
             ],
             [
              1,
              "#f0f921"
             ]
            ],
            "type": "histogram2dcontour"
           }
          ],
          "mesh3d": [
           {
            "colorbar": {
             "outlinewidth": 0,
             "ticks": ""
            },
            "type": "mesh3d"
           }
          ],
          "parcoords": [
           {
            "line": {
             "colorbar": {
              "outlinewidth": 0,
              "ticks": ""
             }
            },
            "type": "parcoords"
           }
          ],
          "pie": [
           {
            "automargin": true,
            "type": "pie"
           }
          ],
          "scatter": [
           {
            "fillpattern": {
             "fillmode": "overlay",
             "size": 10,
             "solidity": 0.2
            },
            "type": "scatter"
           }
          ],
          "scatter3d": [
           {
            "line": {
             "colorbar": {
              "outlinewidth": 0,
              "ticks": ""
             }
            },
            "marker": {
             "colorbar": {
              "outlinewidth": 0,
              "ticks": ""
             }
            },
            "type": "scatter3d"
           }
          ],
          "scattercarpet": [
           {
            "marker": {
             "colorbar": {
              "outlinewidth": 0,
              "ticks": ""
             }
            },
            "type": "scattercarpet"
           }
          ],
          "scattergeo": [
           {
            "marker": {
             "colorbar": {
              "outlinewidth": 0,
              "ticks": ""
             }
            },
            "type": "scattergeo"
           }
          ],
          "scattergl": [
           {
            "marker": {
             "colorbar": {
              "outlinewidth": 0,
              "ticks": ""
             }
            },
            "type": "scattergl"
           }
          ],
          "scattermapbox": [
           {
            "marker": {
             "colorbar": {
              "outlinewidth": 0,
              "ticks": ""
             }
            },
            "type": "scattermapbox"
           }
          ],
          "scatterpolar": [
           {
            "marker": {
             "colorbar": {
              "outlinewidth": 0,
              "ticks": ""
             }
            },
            "type": "scatterpolar"
           }
          ],
          "scatterpolargl": [
           {
            "marker": {
             "colorbar": {
              "outlinewidth": 0,
              "ticks": ""
             }
            },
            "type": "scatterpolargl"
           }
          ],
          "scatterternary": [
           {
            "marker": {
             "colorbar": {
              "outlinewidth": 0,
              "ticks": ""
             }
            },
            "type": "scatterternary"
           }
          ],
          "surface": [
           {
            "colorbar": {
             "outlinewidth": 0,
             "ticks": ""
            },
            "colorscale": [
             [
              0,
              "#0d0887"
             ],
             [
              0.1111111111111111,
              "#46039f"
             ],
             [
              0.2222222222222222,
              "#7201a8"
             ],
             [
              0.3333333333333333,
              "#9c179e"
             ],
             [
              0.4444444444444444,
              "#bd3786"
             ],
             [
              0.5555555555555556,
              "#d8576b"
             ],
             [
              0.6666666666666666,
              "#ed7953"
             ],
             [
              0.7777777777777778,
              "#fb9f3a"
             ],
             [
              0.8888888888888888,
              "#fdca26"
             ],
             [
              1,
              "#f0f921"
             ]
            ],
            "type": "surface"
           }
          ],
          "table": [
           {
            "cells": {
             "fill": {
              "color": "#EBF0F8"
             },
             "line": {
              "color": "white"
             }
            },
            "header": {
             "fill": {
              "color": "#C8D4E3"
             },
             "line": {
              "color": "white"
             }
            },
            "type": "table"
           }
          ]
         },
         "layout": {
          "annotationdefaults": {
           "arrowcolor": "#2a3f5f",
           "arrowhead": 0,
           "arrowwidth": 1
          },
          "autotypenumbers": "strict",
          "coloraxis": {
           "colorbar": {
            "outlinewidth": 0,
            "ticks": ""
           }
          },
          "colorscale": {
           "diverging": [
            [
             0,
             "#8e0152"
            ],
            [
             0.1,
             "#c51b7d"
            ],
            [
             0.2,
             "#de77ae"
            ],
            [
             0.3,
             "#f1b6da"
            ],
            [
             0.4,
             "#fde0ef"
            ],
            [
             0.5,
             "#f7f7f7"
            ],
            [
             0.6,
             "#e6f5d0"
            ],
            [
             0.7,
             "#b8e186"
            ],
            [
             0.8,
             "#7fbc41"
            ],
            [
             0.9,
             "#4d9221"
            ],
            [
             1,
             "#276419"
            ]
           ],
           "sequential": [
            [
             0,
             "#0d0887"
            ],
            [
             0.1111111111111111,
             "#46039f"
            ],
            [
             0.2222222222222222,
             "#7201a8"
            ],
            [
             0.3333333333333333,
             "#9c179e"
            ],
            [
             0.4444444444444444,
             "#bd3786"
            ],
            [
             0.5555555555555556,
             "#d8576b"
            ],
            [
             0.6666666666666666,
             "#ed7953"
            ],
            [
             0.7777777777777778,
             "#fb9f3a"
            ],
            [
             0.8888888888888888,
             "#fdca26"
            ],
            [
             1,
             "#f0f921"
            ]
           ],
           "sequentialminus": [
            [
             0,
             "#0d0887"
            ],
            [
             0.1111111111111111,
             "#46039f"
            ],
            [
             0.2222222222222222,
             "#7201a8"
            ],
            [
             0.3333333333333333,
             "#9c179e"
            ],
            [
             0.4444444444444444,
             "#bd3786"
            ],
            [
             0.5555555555555556,
             "#d8576b"
            ],
            [
             0.6666666666666666,
             "#ed7953"
            ],
            [
             0.7777777777777778,
             "#fb9f3a"
            ],
            [
             0.8888888888888888,
             "#fdca26"
            ],
            [
             1,
             "#f0f921"
            ]
           ]
          },
          "colorway": [
           "#636efa",
           "#EF553B",
           "#00cc96",
           "#ab63fa",
           "#FFA15A",
           "#19d3f3",
           "#FF6692",
           "#B6E880",
           "#FF97FF",
           "#FECB52"
          ],
          "font": {
           "color": "#2a3f5f"
          },
          "geo": {
           "bgcolor": "white",
           "lakecolor": "white",
           "landcolor": "#E5ECF6",
           "showlakes": true,
           "showland": true,
           "subunitcolor": "white"
          },
          "hoverlabel": {
           "align": "left"
          },
          "hovermode": "closest",
          "mapbox": {
           "style": "light"
          },
          "paper_bgcolor": "white",
          "plot_bgcolor": "#E5ECF6",
          "polar": {
           "angularaxis": {
            "gridcolor": "white",
            "linecolor": "white",
            "ticks": ""
           },
           "bgcolor": "#E5ECF6",
           "radialaxis": {
            "gridcolor": "white",
            "linecolor": "white",
            "ticks": ""
           }
          },
          "scene": {
           "xaxis": {
            "backgroundcolor": "#E5ECF6",
            "gridcolor": "white",
            "gridwidth": 2,
            "linecolor": "white",
            "showbackground": true,
            "ticks": "",
            "zerolinecolor": "white"
           },
           "yaxis": {
            "backgroundcolor": "#E5ECF6",
            "gridcolor": "white",
            "gridwidth": 2,
            "linecolor": "white",
            "showbackground": true,
            "ticks": "",
            "zerolinecolor": "white"
           },
           "zaxis": {
            "backgroundcolor": "#E5ECF6",
            "gridcolor": "white",
            "gridwidth": 2,
            "linecolor": "white",
            "showbackground": true,
            "ticks": "",
            "zerolinecolor": "white"
           }
          },
          "shapedefaults": {
           "line": {
            "color": "#2a3f5f"
           }
          },
          "ternary": {
           "aaxis": {
            "gridcolor": "white",
            "linecolor": "white",
            "ticks": ""
           },
           "baxis": {
            "gridcolor": "white",
            "linecolor": "white",
            "ticks": ""
           },
           "bgcolor": "#E5ECF6",
           "caxis": {
            "gridcolor": "white",
            "linecolor": "white",
            "ticks": ""
           }
          },
          "title": {
           "x": 0.05
          },
          "xaxis": {
           "automargin": true,
           "gridcolor": "white",
           "linecolor": "white",
           "ticks": "",
           "title": {
            "standoff": 15
           },
           "zerolinecolor": "white",
           "zerolinewidth": 2
          },
          "yaxis": {
           "automargin": true,
           "gridcolor": "white",
           "linecolor": "white",
           "ticks": "",
           "title": {
            "standoff": 15
           },
           "zerolinecolor": "white",
           "zerolinewidth": 2
          }
         }
        },
        "title": {
         "text": "GDP Over Time for Different Countries",
         "x": 0.5
        },
        "xaxis": {
         "anchor": "y",
         "domain": [
          0,
          1
         ],
         "tickangle": -70,
         "tickmode": "array",
         "tickvals": [
          1960,
          1961,
          1962,
          1963,
          1964,
          1965,
          1966,
          1967,
          1968,
          1969,
          1970,
          1971,
          1972,
          1973,
          1974,
          1975,
          1976,
          1977,
          1978,
          1979,
          1980,
          1981,
          1982,
          1983,
          1984,
          1985,
          1986,
          1987,
          1988,
          1989,
          1990,
          1991,
          1992,
          1993,
          1994,
          1995,
          1996,
          1997,
          1998,
          1999,
          2000,
          2001,
          2002,
          2003,
          2004,
          2005,
          2006,
          2007,
          2008,
          2009,
          2010,
          2011,
          2012,
          2013,
          2014,
          2015,
          2016,
          2017,
          2018,
          2019,
          2020,
          2021,
          2022,
          2023
         ],
         "title": {
          "text": "Year"
         }
        },
        "yaxis": {
         "anchor": "x",
         "domain": [
          0,
          1
         ],
         "title": {
          "text": "GDP in Trillions of U.S. Dollars"
         }
        }
       }
      }
     },
     "metadata": {},
     "output_type": "display_data"
    }
   ],
   "source": [
    "point_plot(df=df, feature=\"GDP\", countries=bottom_three_countries)"
   ]
  },
  {
   "cell_type": "markdown",
   "metadata": {},
   "source": [
    "#### Has GDP increased over time in the six nations?\n",
    "\n",
    "\n",
    "- The USA only experienced GDP drops in 2008 and 2019.\n",
    "- China's GDP has stopped increasing since 2021.\n",
    "- The UK's GDP had significant decreases in 2007, 2014, and 2019.\n",
    "- In Mexico, decreases occurred in 1994, 2008, 2014, and 2019.\n",
    "- For Chile, GDP decreased around 2008, 2013, 2018, and 2021.\n",
    "- Peru's GDP did not increase in 2008 and dropped in 2014 and 2019.\n",
    "- The GDP of the USA and China is increasing exponentially.\n",
    "- UK's GDP has been stagnant since 2007.\n",
    "- We can see that China's GDP started to increase exponentially around 2005.\n",
    "- China did not had a decrease in 2008 and 2019 like other countries.\n",
    "- Mexico has increased its GDP, but it has experienced several notable decreases over time.\n",
    "\n",
    "- In 2008, the world faced a severe financial crisis, often referred to as the Great Recession. Major financial institutions collapsed, leading to widespread economic downturns.\n",
    "- In 2014, the global economy was still recovering from the effects of the 2008 financial crisis. Many countries, especially those heavily reliant on global trade or commodities, faced challenges as global demand fluctuated. Also, there were political conflicts and regional instability, such as the annexation of Crimea and the Ebola outbreak in West Africa, disrupted economic activities and investor confidence in affected regions.\n",
    "- In 2019, the COVID-19 pandemic began in Wuhan, China. The virus spread rapidly worldwide, leading to unprecedented public health measures."
   ]
  },
  {
   "cell_type": "code",
   "execution_count": 223,
   "metadata": {},
   "outputs": [
    {
     "data": {
      "application/vnd.plotly.v1+json": {
       "config": {
        "plotlyServerURL": "https://plot.ly"
       },
       "data": [
        {
         "customdata": [
          [
           "China"
          ],
          [
           "China"
          ],
          [
           "China"
          ],
          [
           "China"
          ],
          [
           "China"
          ],
          [
           "China"
          ],
          [
           "China"
          ],
          [
           "China"
          ],
          [
           "China"
          ],
          [
           "China"
          ],
          [
           "China"
          ],
          [
           "China"
          ],
          [
           "China"
          ],
          [
           "China"
          ],
          [
           "China"
          ],
          [
           "China"
          ],
          [
           "China"
          ],
          [
           "China"
          ],
          [
           "China"
          ],
          [
           "China"
          ],
          [
           "China"
          ],
          [
           "China"
          ],
          [
           "China"
          ],
          [
           "China"
          ],
          [
           "China"
          ],
          [
           "China"
          ],
          [
           "China"
          ],
          [
           "China"
          ],
          [
           "China"
          ],
          [
           "China"
          ],
          [
           "China"
          ],
          [
           "China"
          ],
          [
           "China"
          ],
          [
           "China"
          ],
          [
           "China"
          ],
          [
           "China"
          ],
          [
           "China"
          ],
          [
           "China"
          ],
          [
           "China"
          ],
          [
           "China"
          ],
          [
           "China"
          ],
          [
           "China"
          ],
          [
           "China"
          ],
          [
           "China"
          ],
          [
           "China"
          ],
          [
           "China"
          ],
          [
           "China"
          ],
          [
           "China"
          ],
          [
           "China"
          ],
          [
           "China"
          ],
          [
           "China"
          ],
          [
           "China"
          ],
          [
           "China"
          ],
          [
           "China"
          ],
          [
           "China"
          ],
          [
           "China"
          ],
          [
           "China"
          ],
          [
           "China"
          ],
          [
           "China"
          ],
          [
           "China"
          ],
          [
           "China"
          ],
          [
           "China"
          ],
          [
           "China"
          ]
         ],
         "hovertemplate": "Country Name=%{customdata[0]}<br>Year=%{x}<br>Life Expectancy=%{y}<extra></extra>",
         "legendgroup": "China",
         "line": {
          "color": "#636efa",
          "dash": "solid"
         },
         "marker": {
          "size": 13,
          "symbol": "circle"
         },
         "mode": "lines+markers",
         "name": "China",
         "orientation": "v",
         "showlegend": true,
         "type": "scatter",
         "x": [
          1960,
          1961,
          1962,
          1963,
          1964,
          1965,
          1966,
          1967,
          1968,
          1969,
          1970,
          1971,
          1972,
          1973,
          1974,
          1975,
          1976,
          1977,
          1978,
          1979,
          1980,
          1981,
          1982,
          1983,
          1984,
          1985,
          1986,
          1987,
          1988,
          1989,
          1990,
          1991,
          1992,
          1993,
          1994,
          1995,
          1996,
          1997,
          1998,
          1999,
          2000,
          2001,
          2002,
          2003,
          2004,
          2005,
          2006,
          2007,
          2008,
          2009,
          2010,
          2011,
          2012,
          2013,
          2014,
          2015,
          2016,
          2017,
          2018,
          2019,
          2020,
          2021,
          2022
         ],
         "xaxis": "x",
         "y": [
          33.275,
          40.468,
          50.818,
          51.408,
          52.156,
          52.912,
          53.637,
          54.351,
          55.057,
          55.738,
          56.607,
          57.565,
          58.418,
          59.389,
          60.168,
          60.917,
          61.796,
          62.538,
          63.218,
          63.865,
          64.42,
          64.975,
          65.463,
          65.904,
          66.3,
          66.643,
          66.97,
          67.288,
          67.581,
          67.838,
          68.005,
          68.169,
          68.734,
          69.216,
          69.52,
          70.008,
          70.266,
          70.672,
          71.172,
          71.419,
          71.881,
          72.606,
          72.985,
          73.371,
          73.748,
          74.111,
          74.504,
          74.762,
          74.872,
          75.343,
          75.599,
          75.903,
          76.192,
          76.452,
          76.717,
          76.977,
          77.218,
          77.248,
          77.744,
          77.968,
          78.077,
          78.211,
          78.587
         ],
         "yaxis": "y"
        },
        {
         "customdata": [
          [
           "United Kingdom"
          ],
          [
           "United Kingdom"
          ],
          [
           "United Kingdom"
          ],
          [
           "United Kingdom"
          ],
          [
           "United Kingdom"
          ],
          [
           "United Kingdom"
          ],
          [
           "United Kingdom"
          ],
          [
           "United Kingdom"
          ],
          [
           "United Kingdom"
          ],
          [
           "United Kingdom"
          ],
          [
           "United Kingdom"
          ],
          [
           "United Kingdom"
          ],
          [
           "United Kingdom"
          ],
          [
           "United Kingdom"
          ],
          [
           "United Kingdom"
          ],
          [
           "United Kingdom"
          ],
          [
           "United Kingdom"
          ],
          [
           "United Kingdom"
          ],
          [
           "United Kingdom"
          ],
          [
           "United Kingdom"
          ],
          [
           "United Kingdom"
          ],
          [
           "United Kingdom"
          ],
          [
           "United Kingdom"
          ],
          [
           "United Kingdom"
          ],
          [
           "United Kingdom"
          ],
          [
           "United Kingdom"
          ],
          [
           "United Kingdom"
          ],
          [
           "United Kingdom"
          ],
          [
           "United Kingdom"
          ],
          [
           "United Kingdom"
          ],
          [
           "United Kingdom"
          ],
          [
           "United Kingdom"
          ],
          [
           "United Kingdom"
          ],
          [
           "United Kingdom"
          ],
          [
           "United Kingdom"
          ],
          [
           "United Kingdom"
          ],
          [
           "United Kingdom"
          ],
          [
           "United Kingdom"
          ],
          [
           "United Kingdom"
          ],
          [
           "United Kingdom"
          ],
          [
           "United Kingdom"
          ],
          [
           "United Kingdom"
          ],
          [
           "United Kingdom"
          ],
          [
           "United Kingdom"
          ],
          [
           "United Kingdom"
          ],
          [
           "United Kingdom"
          ],
          [
           "United Kingdom"
          ],
          [
           "United Kingdom"
          ],
          [
           "United Kingdom"
          ],
          [
           "United Kingdom"
          ],
          [
           "United Kingdom"
          ],
          [
           "United Kingdom"
          ],
          [
           "United Kingdom"
          ],
          [
           "United Kingdom"
          ],
          [
           "United Kingdom"
          ],
          [
           "United Kingdom"
          ],
          [
           "United Kingdom"
          ],
          [
           "United Kingdom"
          ],
          [
           "United Kingdom"
          ],
          [
           "United Kingdom"
          ],
          [
           "United Kingdom"
          ],
          [
           "United Kingdom"
          ],
          [
           "United Kingdom"
          ]
         ],
         "hovertemplate": "Country Name=%{customdata[0]}<br>Year=%{x}<br>Life Expectancy=%{y}<extra></extra>",
         "legendgroup": "United Kingdom",
         "line": {
          "color": "#EF553B",
          "dash": "solid"
         },
         "marker": {
          "size": 13,
          "symbol": "circle"
         },
         "mode": "lines+markers",
         "name": "United Kingdom",
         "orientation": "v",
         "showlegend": true,
         "type": "scatter",
         "x": [
          1960,
          1961,
          1962,
          1963,
          1964,
          1965,
          1966,
          1967,
          1968,
          1969,
          1970,
          1971,
          1972,
          1973,
          1974,
          1975,
          1976,
          1977,
          1978,
          1979,
          1980,
          1981,
          1982,
          1983,
          1984,
          1985,
          1986,
          1987,
          1988,
          1989,
          1990,
          1991,
          1992,
          1993,
          1994,
          1995,
          1996,
          1997,
          1998,
          1999,
          2000,
          2001,
          2002,
          2003,
          2004,
          2005,
          2006,
          2007,
          2008,
          2009,
          2010,
          2011,
          2012,
          2013,
          2014,
          2015,
          2016,
          2017,
          2018,
          2019,
          2020,
          2021,
          2022
         ],
         "xaxis": "x",
         "y": [
          71.1268292682927,
          70.8780487804878,
          70.9268292682927,
          70.8268292682927,
          71.6243902439024,
          71.6243902439024,
          71.5731707317073,
          72.1243902439024,
          71.7243902439025,
          71.7219512195122,
          71.9731707317073,
          72.2731707317073,
          72.1243902439024,
          72.3243902439024,
          72.5243902439024,
          72.7243902439024,
          72.7756097560976,
          73.2243902439024,
          73.1756097560976,
          73.2756097560976,
          73.6756097560976,
          74.0268292682927,
          74.1780487804878,
          74.3780487804878,
          74.7780487804878,
          74.6292682926829,
          74.9292682926829,
          75.280487804878,
          75.3804878048781,
          75.5829268292683,
          75.8804878048781,
          76.0829268292683,
          76.4341463414634,
          76.3853658536585,
          76.8853658536585,
          76.8365853658537,
          77.0878048780488,
          77.2109756097561,
          77.190243902439,
          77.390243902439,
          77.7414634146342,
          77.9926829268293,
          78.1439024390244,
          78.4463414634146,
          78.7463414634146,
          79.0487804878049,
          79.2487804878049,
          79.4487804878049,
          79.6,
          80.0512195121951,
          80.4024390243902,
          80.9512195121951,
          80.9048780487805,
          81.0048780487805,
          81.3048780487805,
          80.9560975609756,
          81.1560975609756,
          81.2560975609756,
          81.2560975609756,
          81.4048780487805,
          80.3512195121951,
          80.7,
          82.0585365853659
         ],
         "yaxis": "y"
        },
        {
         "customdata": [
          [
           "United States"
          ],
          [
           "United States"
          ],
          [
           "United States"
          ],
          [
           "United States"
          ],
          [
           "United States"
          ],
          [
           "United States"
          ],
          [
           "United States"
          ],
          [
           "United States"
          ],
          [
           "United States"
          ],
          [
           "United States"
          ],
          [
           "United States"
          ],
          [
           "United States"
          ],
          [
           "United States"
          ],
          [
           "United States"
          ],
          [
           "United States"
          ],
          [
           "United States"
          ],
          [
           "United States"
          ],
          [
           "United States"
          ],
          [
           "United States"
          ],
          [
           "United States"
          ],
          [
           "United States"
          ],
          [
           "United States"
          ],
          [
           "United States"
          ],
          [
           "United States"
          ],
          [
           "United States"
          ],
          [
           "United States"
          ],
          [
           "United States"
          ],
          [
           "United States"
          ],
          [
           "United States"
          ],
          [
           "United States"
          ],
          [
           "United States"
          ],
          [
           "United States"
          ],
          [
           "United States"
          ],
          [
           "United States"
          ],
          [
           "United States"
          ],
          [
           "United States"
          ],
          [
           "United States"
          ],
          [
           "United States"
          ],
          [
           "United States"
          ],
          [
           "United States"
          ],
          [
           "United States"
          ],
          [
           "United States"
          ],
          [
           "United States"
          ],
          [
           "United States"
          ],
          [
           "United States"
          ],
          [
           "United States"
          ],
          [
           "United States"
          ],
          [
           "United States"
          ],
          [
           "United States"
          ],
          [
           "United States"
          ],
          [
           "United States"
          ],
          [
           "United States"
          ],
          [
           "United States"
          ],
          [
           "United States"
          ],
          [
           "United States"
          ],
          [
           "United States"
          ],
          [
           "United States"
          ],
          [
           "United States"
          ],
          [
           "United States"
          ],
          [
           "United States"
          ],
          [
           "United States"
          ],
          [
           "United States"
          ],
          [
           "United States"
          ]
         ],
         "hovertemplate": "Country Name=%{customdata[0]}<br>Year=%{x}<br>Life Expectancy=%{y}<extra></extra>",
         "legendgroup": "United States",
         "line": {
          "color": "#00cc96",
          "dash": "solid"
         },
         "marker": {
          "size": 13,
          "symbol": "circle"
         },
         "mode": "lines+markers",
         "name": "United States",
         "orientation": "v",
         "showlegend": true,
         "type": "scatter",
         "x": [
          1960,
          1961,
          1962,
          1963,
          1964,
          1965,
          1966,
          1967,
          1968,
          1969,
          1970,
          1971,
          1972,
          1973,
          1974,
          1975,
          1976,
          1977,
          1978,
          1979,
          1980,
          1981,
          1982,
          1983,
          1984,
          1985,
          1986,
          1987,
          1988,
          1989,
          1990,
          1991,
          1992,
          1993,
          1994,
          1995,
          1996,
          1997,
          1998,
          1999,
          2000,
          2001,
          2002,
          2003,
          2004,
          2005,
          2006,
          2007,
          2008,
          2009,
          2010,
          2011,
          2012,
          2013,
          2014,
          2015,
          2016,
          2017,
          2018,
          2019,
          2020,
          2021,
          2022
         ],
         "xaxis": "x",
         "y": [
          69.7707317073171,
          70.2707317073171,
          70.119512195122,
          69.9170731707317,
          70.1658536585366,
          70.2146341463415,
          70.2121951219512,
          70.5609756097561,
          69.9512195121951,
          70.5073170731708,
          70.8073170731707,
          71.1073170731707,
          71.1560975609756,
          71.3560975609756,
          71.9560975609756,
          72.6048780487805,
          72.8560975609756,
          73.2560975609756,
          73.3560975609756,
          73.8048780487805,
          73.609756097561,
          74.009756097561,
          74.3609756097561,
          74.4634146341463,
          74.5634146341464,
          74.5634146341464,
          74.6146341463415,
          74.7658536585366,
          74.7658536585366,
          75.0170731707317,
          75.2146341463415,
          75.3658536585366,
          75.6170731707317,
          75.419512195122,
          75.619512195122,
          75.6219512195122,
          76.0268292682927,
          76.4292682926829,
          76.5804878048781,
          76.5829268292683,
          76.6365853658537,
          76.8365853658537,
          76.9365853658537,
          77.0365853658537,
          77.4878048780488,
          77.4878048780488,
          77.6878048780488,
          77.9878048780488,
          78.0390243902439,
          78.390243902439,
          78.5414634146342,
          78.6414634146341,
          78.7414634146342,
          78.7414634146342,
          78.8414634146341,
          78.690243902439,
          78.5390243902439,
          78.5390243902439,
          78.6390243902439,
          78.7878048780488,
          76.9804878048781,
          76.3292682926829,
          77.4341463414634
         ],
         "yaxis": "y"
        }
       ],
       "layout": {
        "height": 1000,
        "legend": {
         "title": {
          "text": "Country"
         },
         "tracegroupgap": 0
        },
        "margin": {
         "t": 60
        },
        "template": {
         "data": {
          "bar": [
           {
            "error_x": {
             "color": "#2a3f5f"
            },
            "error_y": {
             "color": "#2a3f5f"
            },
            "marker": {
             "line": {
              "color": "#E5ECF6",
              "width": 0.5
             },
             "pattern": {
              "fillmode": "overlay",
              "size": 10,
              "solidity": 0.2
             }
            },
            "type": "bar"
           }
          ],
          "barpolar": [
           {
            "marker": {
             "line": {
              "color": "#E5ECF6",
              "width": 0.5
             },
             "pattern": {
              "fillmode": "overlay",
              "size": 10,
              "solidity": 0.2
             }
            },
            "type": "barpolar"
           }
          ],
          "carpet": [
           {
            "aaxis": {
             "endlinecolor": "#2a3f5f",
             "gridcolor": "white",
             "linecolor": "white",
             "minorgridcolor": "white",
             "startlinecolor": "#2a3f5f"
            },
            "baxis": {
             "endlinecolor": "#2a3f5f",
             "gridcolor": "white",
             "linecolor": "white",
             "minorgridcolor": "white",
             "startlinecolor": "#2a3f5f"
            },
            "type": "carpet"
           }
          ],
          "choropleth": [
           {
            "colorbar": {
             "outlinewidth": 0,
             "ticks": ""
            },
            "type": "choropleth"
           }
          ],
          "contour": [
           {
            "colorbar": {
             "outlinewidth": 0,
             "ticks": ""
            },
            "colorscale": [
             [
              0,
              "#0d0887"
             ],
             [
              0.1111111111111111,
              "#46039f"
             ],
             [
              0.2222222222222222,
              "#7201a8"
             ],
             [
              0.3333333333333333,
              "#9c179e"
             ],
             [
              0.4444444444444444,
              "#bd3786"
             ],
             [
              0.5555555555555556,
              "#d8576b"
             ],
             [
              0.6666666666666666,
              "#ed7953"
             ],
             [
              0.7777777777777778,
              "#fb9f3a"
             ],
             [
              0.8888888888888888,
              "#fdca26"
             ],
             [
              1,
              "#f0f921"
             ]
            ],
            "type": "contour"
           }
          ],
          "contourcarpet": [
           {
            "colorbar": {
             "outlinewidth": 0,
             "ticks": ""
            },
            "type": "contourcarpet"
           }
          ],
          "heatmap": [
           {
            "colorbar": {
             "outlinewidth": 0,
             "ticks": ""
            },
            "colorscale": [
             [
              0,
              "#0d0887"
             ],
             [
              0.1111111111111111,
              "#46039f"
             ],
             [
              0.2222222222222222,
              "#7201a8"
             ],
             [
              0.3333333333333333,
              "#9c179e"
             ],
             [
              0.4444444444444444,
              "#bd3786"
             ],
             [
              0.5555555555555556,
              "#d8576b"
             ],
             [
              0.6666666666666666,
              "#ed7953"
             ],
             [
              0.7777777777777778,
              "#fb9f3a"
             ],
             [
              0.8888888888888888,
              "#fdca26"
             ],
             [
              1,
              "#f0f921"
             ]
            ],
            "type": "heatmap"
           }
          ],
          "heatmapgl": [
           {
            "colorbar": {
             "outlinewidth": 0,
             "ticks": ""
            },
            "colorscale": [
             [
              0,
              "#0d0887"
             ],
             [
              0.1111111111111111,
              "#46039f"
             ],
             [
              0.2222222222222222,
              "#7201a8"
             ],
             [
              0.3333333333333333,
              "#9c179e"
             ],
             [
              0.4444444444444444,
              "#bd3786"
             ],
             [
              0.5555555555555556,
              "#d8576b"
             ],
             [
              0.6666666666666666,
              "#ed7953"
             ],
             [
              0.7777777777777778,
              "#fb9f3a"
             ],
             [
              0.8888888888888888,
              "#fdca26"
             ],
             [
              1,
              "#f0f921"
             ]
            ],
            "type": "heatmapgl"
           }
          ],
          "histogram": [
           {
            "marker": {
             "pattern": {
              "fillmode": "overlay",
              "size": 10,
              "solidity": 0.2
             }
            },
            "type": "histogram"
           }
          ],
          "histogram2d": [
           {
            "colorbar": {
             "outlinewidth": 0,
             "ticks": ""
            },
            "colorscale": [
             [
              0,
              "#0d0887"
             ],
             [
              0.1111111111111111,
              "#46039f"
             ],
             [
              0.2222222222222222,
              "#7201a8"
             ],
             [
              0.3333333333333333,
              "#9c179e"
             ],
             [
              0.4444444444444444,
              "#bd3786"
             ],
             [
              0.5555555555555556,
              "#d8576b"
             ],
             [
              0.6666666666666666,
              "#ed7953"
             ],
             [
              0.7777777777777778,
              "#fb9f3a"
             ],
             [
              0.8888888888888888,
              "#fdca26"
             ],
             [
              1,
              "#f0f921"
             ]
            ],
            "type": "histogram2d"
           }
          ],
          "histogram2dcontour": [
           {
            "colorbar": {
             "outlinewidth": 0,
             "ticks": ""
            },
            "colorscale": [
             [
              0,
              "#0d0887"
             ],
             [
              0.1111111111111111,
              "#46039f"
             ],
             [
              0.2222222222222222,
              "#7201a8"
             ],
             [
              0.3333333333333333,
              "#9c179e"
             ],
             [
              0.4444444444444444,
              "#bd3786"
             ],
             [
              0.5555555555555556,
              "#d8576b"
             ],
             [
              0.6666666666666666,
              "#ed7953"
             ],
             [
              0.7777777777777778,
              "#fb9f3a"
             ],
             [
              0.8888888888888888,
              "#fdca26"
             ],
             [
              1,
              "#f0f921"
             ]
            ],
            "type": "histogram2dcontour"
           }
          ],
          "mesh3d": [
           {
            "colorbar": {
             "outlinewidth": 0,
             "ticks": ""
            },
            "type": "mesh3d"
           }
          ],
          "parcoords": [
           {
            "line": {
             "colorbar": {
              "outlinewidth": 0,
              "ticks": ""
             }
            },
            "type": "parcoords"
           }
          ],
          "pie": [
           {
            "automargin": true,
            "type": "pie"
           }
          ],
          "scatter": [
           {
            "fillpattern": {
             "fillmode": "overlay",
             "size": 10,
             "solidity": 0.2
            },
            "type": "scatter"
           }
          ],
          "scatter3d": [
           {
            "line": {
             "colorbar": {
              "outlinewidth": 0,
              "ticks": ""
             }
            },
            "marker": {
             "colorbar": {
              "outlinewidth": 0,
              "ticks": ""
             }
            },
            "type": "scatter3d"
           }
          ],
          "scattercarpet": [
           {
            "marker": {
             "colorbar": {
              "outlinewidth": 0,
              "ticks": ""
             }
            },
            "type": "scattercarpet"
           }
          ],
          "scattergeo": [
           {
            "marker": {
             "colorbar": {
              "outlinewidth": 0,
              "ticks": ""
             }
            },
            "type": "scattergeo"
           }
          ],
          "scattergl": [
           {
            "marker": {
             "colorbar": {
              "outlinewidth": 0,
              "ticks": ""
             }
            },
            "type": "scattergl"
           }
          ],
          "scattermapbox": [
           {
            "marker": {
             "colorbar": {
              "outlinewidth": 0,
              "ticks": ""
             }
            },
            "type": "scattermapbox"
           }
          ],
          "scatterpolar": [
           {
            "marker": {
             "colorbar": {
              "outlinewidth": 0,
              "ticks": ""
             }
            },
            "type": "scatterpolar"
           }
          ],
          "scatterpolargl": [
           {
            "marker": {
             "colorbar": {
              "outlinewidth": 0,
              "ticks": ""
             }
            },
            "type": "scatterpolargl"
           }
          ],
          "scatterternary": [
           {
            "marker": {
             "colorbar": {
              "outlinewidth": 0,
              "ticks": ""
             }
            },
            "type": "scatterternary"
           }
          ],
          "surface": [
           {
            "colorbar": {
             "outlinewidth": 0,
             "ticks": ""
            },
            "colorscale": [
             [
              0,
              "#0d0887"
             ],
             [
              0.1111111111111111,
              "#46039f"
             ],
             [
              0.2222222222222222,
              "#7201a8"
             ],
             [
              0.3333333333333333,
              "#9c179e"
             ],
             [
              0.4444444444444444,
              "#bd3786"
             ],
             [
              0.5555555555555556,
              "#d8576b"
             ],
             [
              0.6666666666666666,
              "#ed7953"
             ],
             [
              0.7777777777777778,
              "#fb9f3a"
             ],
             [
              0.8888888888888888,
              "#fdca26"
             ],
             [
              1,
              "#f0f921"
             ]
            ],
            "type": "surface"
           }
          ],
          "table": [
           {
            "cells": {
             "fill": {
              "color": "#EBF0F8"
             },
             "line": {
              "color": "white"
             }
            },
            "header": {
             "fill": {
              "color": "#C8D4E3"
             },
             "line": {
              "color": "white"
             }
            },
            "type": "table"
           }
          ]
         },
         "layout": {
          "annotationdefaults": {
           "arrowcolor": "#2a3f5f",
           "arrowhead": 0,
           "arrowwidth": 1
          },
          "autotypenumbers": "strict",
          "coloraxis": {
           "colorbar": {
            "outlinewidth": 0,
            "ticks": ""
           }
          },
          "colorscale": {
           "diverging": [
            [
             0,
             "#8e0152"
            ],
            [
             0.1,
             "#c51b7d"
            ],
            [
             0.2,
             "#de77ae"
            ],
            [
             0.3,
             "#f1b6da"
            ],
            [
             0.4,
             "#fde0ef"
            ],
            [
             0.5,
             "#f7f7f7"
            ],
            [
             0.6,
             "#e6f5d0"
            ],
            [
             0.7,
             "#b8e186"
            ],
            [
             0.8,
             "#7fbc41"
            ],
            [
             0.9,
             "#4d9221"
            ],
            [
             1,
             "#276419"
            ]
           ],
           "sequential": [
            [
             0,
             "#0d0887"
            ],
            [
             0.1111111111111111,
             "#46039f"
            ],
            [
             0.2222222222222222,
             "#7201a8"
            ],
            [
             0.3333333333333333,
             "#9c179e"
            ],
            [
             0.4444444444444444,
             "#bd3786"
            ],
            [
             0.5555555555555556,
             "#d8576b"
            ],
            [
             0.6666666666666666,
             "#ed7953"
            ],
            [
             0.7777777777777778,
             "#fb9f3a"
            ],
            [
             0.8888888888888888,
             "#fdca26"
            ],
            [
             1,
             "#f0f921"
            ]
           ],
           "sequentialminus": [
            [
             0,
             "#0d0887"
            ],
            [
             0.1111111111111111,
             "#46039f"
            ],
            [
             0.2222222222222222,
             "#7201a8"
            ],
            [
             0.3333333333333333,
             "#9c179e"
            ],
            [
             0.4444444444444444,
             "#bd3786"
            ],
            [
             0.5555555555555556,
             "#d8576b"
            ],
            [
             0.6666666666666666,
             "#ed7953"
            ],
            [
             0.7777777777777778,
             "#fb9f3a"
            ],
            [
             0.8888888888888888,
             "#fdca26"
            ],
            [
             1,
             "#f0f921"
            ]
           ]
          },
          "colorway": [
           "#636efa",
           "#EF553B",
           "#00cc96",
           "#ab63fa",
           "#FFA15A",
           "#19d3f3",
           "#FF6692",
           "#B6E880",
           "#FF97FF",
           "#FECB52"
          ],
          "font": {
           "color": "#2a3f5f"
          },
          "geo": {
           "bgcolor": "white",
           "lakecolor": "white",
           "landcolor": "#E5ECF6",
           "showlakes": true,
           "showland": true,
           "subunitcolor": "white"
          },
          "hoverlabel": {
           "align": "left"
          },
          "hovermode": "closest",
          "mapbox": {
           "style": "light"
          },
          "paper_bgcolor": "white",
          "plot_bgcolor": "#E5ECF6",
          "polar": {
           "angularaxis": {
            "gridcolor": "white",
            "linecolor": "white",
            "ticks": ""
           },
           "bgcolor": "#E5ECF6",
           "radialaxis": {
            "gridcolor": "white",
            "linecolor": "white",
            "ticks": ""
           }
          },
          "scene": {
           "xaxis": {
            "backgroundcolor": "#E5ECF6",
            "gridcolor": "white",
            "gridwidth": 2,
            "linecolor": "white",
            "showbackground": true,
            "ticks": "",
            "zerolinecolor": "white"
           },
           "yaxis": {
            "backgroundcolor": "#E5ECF6",
            "gridcolor": "white",
            "gridwidth": 2,
            "linecolor": "white",
            "showbackground": true,
            "ticks": "",
            "zerolinecolor": "white"
           },
           "zaxis": {
            "backgroundcolor": "#E5ECF6",
            "gridcolor": "white",
            "gridwidth": 2,
            "linecolor": "white",
            "showbackground": true,
            "ticks": "",
            "zerolinecolor": "white"
           }
          },
          "shapedefaults": {
           "line": {
            "color": "#2a3f5f"
           }
          },
          "ternary": {
           "aaxis": {
            "gridcolor": "white",
            "linecolor": "white",
            "ticks": ""
           },
           "baxis": {
            "gridcolor": "white",
            "linecolor": "white",
            "ticks": ""
           },
           "bgcolor": "#E5ECF6",
           "caxis": {
            "gridcolor": "white",
            "linecolor": "white",
            "ticks": ""
           }
          },
          "title": {
           "x": 0.05
          },
          "xaxis": {
           "automargin": true,
           "gridcolor": "white",
           "linecolor": "white",
           "ticks": "",
           "title": {
            "standoff": 15
           },
           "zerolinecolor": "white",
           "zerolinewidth": 2
          },
          "yaxis": {
           "automargin": true,
           "gridcolor": "white",
           "linecolor": "white",
           "ticks": "",
           "title": {
            "standoff": 15
           },
           "zerolinecolor": "white",
           "zerolinewidth": 2
          }
         }
        },
        "title": {
         "text": "Life Expectancy Over Time for Different Countries",
         "x": 0.5
        },
        "xaxis": {
         "anchor": "y",
         "domain": [
          0,
          1
         ],
         "tickangle": -70,
         "tickmode": "array",
         "tickvals": [
          1960,
          1961,
          1962,
          1963,
          1964,
          1965,
          1966,
          1967,
          1968,
          1969,
          1970,
          1971,
          1972,
          1973,
          1974,
          1975,
          1976,
          1977,
          1978,
          1979,
          1980,
          1981,
          1982,
          1983,
          1984,
          1985,
          1986,
          1987,
          1988,
          1989,
          1990,
          1991,
          1992,
          1993,
          1994,
          1995,
          1996,
          1997,
          1998,
          1999,
          2000,
          2001,
          2002,
          2003,
          2004,
          2005,
          2006,
          2007,
          2008,
          2009,
          2010,
          2011,
          2012,
          2013,
          2014,
          2015,
          2016,
          2017,
          2018,
          2019,
          2020,
          2021,
          2022
         ],
         "title": {
          "text": "Year"
         }
        },
        "yaxis": {
         "anchor": "x",
         "domain": [
          0,
          1
         ],
         "title": {
          "text": "Life expectancy at birth (years)"
         }
        }
       }
      }
     },
     "metadata": {},
     "output_type": "display_data"
    }
   ],
   "source": [
    "point_plot(df=df, feature=\"Life Expectancy\", countries=top_three_countries)"
   ]
  },
  {
   "cell_type": "code",
   "execution_count": 224,
   "metadata": {},
   "outputs": [
    {
     "data": {
      "application/vnd.plotly.v1+json": {
       "config": {
        "plotlyServerURL": "https://plot.ly"
       },
       "data": [
        {
         "customdata": [
          [
           "Chile"
          ],
          [
           "Chile"
          ],
          [
           "Chile"
          ],
          [
           "Chile"
          ],
          [
           "Chile"
          ],
          [
           "Chile"
          ],
          [
           "Chile"
          ],
          [
           "Chile"
          ],
          [
           "Chile"
          ],
          [
           "Chile"
          ],
          [
           "Chile"
          ],
          [
           "Chile"
          ],
          [
           "Chile"
          ],
          [
           "Chile"
          ],
          [
           "Chile"
          ],
          [
           "Chile"
          ],
          [
           "Chile"
          ],
          [
           "Chile"
          ],
          [
           "Chile"
          ],
          [
           "Chile"
          ],
          [
           "Chile"
          ],
          [
           "Chile"
          ],
          [
           "Chile"
          ],
          [
           "Chile"
          ],
          [
           "Chile"
          ],
          [
           "Chile"
          ],
          [
           "Chile"
          ],
          [
           "Chile"
          ],
          [
           "Chile"
          ],
          [
           "Chile"
          ],
          [
           "Chile"
          ],
          [
           "Chile"
          ],
          [
           "Chile"
          ],
          [
           "Chile"
          ],
          [
           "Chile"
          ],
          [
           "Chile"
          ],
          [
           "Chile"
          ],
          [
           "Chile"
          ],
          [
           "Chile"
          ],
          [
           "Chile"
          ],
          [
           "Chile"
          ],
          [
           "Chile"
          ],
          [
           "Chile"
          ],
          [
           "Chile"
          ],
          [
           "Chile"
          ],
          [
           "Chile"
          ],
          [
           "Chile"
          ],
          [
           "Chile"
          ],
          [
           "Chile"
          ],
          [
           "Chile"
          ],
          [
           "Chile"
          ],
          [
           "Chile"
          ],
          [
           "Chile"
          ],
          [
           "Chile"
          ],
          [
           "Chile"
          ],
          [
           "Chile"
          ],
          [
           "Chile"
          ],
          [
           "Chile"
          ],
          [
           "Chile"
          ],
          [
           "Chile"
          ],
          [
           "Chile"
          ],
          [
           "Chile"
          ],
          [
           "Chile"
          ]
         ],
         "hovertemplate": "Country Name=%{customdata[0]}<br>Year=%{x}<br>Life Expectancy=%{y}<extra></extra>",
         "legendgroup": "Chile",
         "line": {
          "color": "#636efa",
          "dash": "solid"
         },
         "marker": {
          "size": 13,
          "symbol": "circle"
         },
         "mode": "lines+markers",
         "name": "Chile",
         "orientation": "v",
         "showlegend": true,
         "type": "scatter",
         "x": [
          1960,
          1961,
          1962,
          1963,
          1964,
          1965,
          1966,
          1967,
          1968,
          1969,
          1970,
          1971,
          1972,
          1973,
          1974,
          1975,
          1976,
          1977,
          1978,
          1979,
          1980,
          1981,
          1982,
          1983,
          1984,
          1985,
          1986,
          1987,
          1988,
          1989,
          1990,
          1991,
          1992,
          1993,
          1994,
          1995,
          1996,
          1997,
          1998,
          1999,
          2000,
          2001,
          2002,
          2003,
          2004,
          2005,
          2006,
          2007,
          2008,
          2009,
          2010,
          2011,
          2012,
          2013,
          2014,
          2015,
          2016,
          2017,
          2018,
          2019,
          2020,
          2021,
          2022
         ],
         "xaxis": "x",
         "y": [
          57.015,
          57.537,
          57.771,
          57.15,
          58.738,
          59.455,
          59.689,
          60.72,
          61.63,
          61.905,
          62.491,
          62.732,
          62.281,
          63.905,
          64.901,
          66.279,
          65.855,
          67.402,
          68.074,
          68.186,
          68.84,
          69.909,
          70.299,
          70.011,
          70.46,
          71.176,
          71.81,
          72.54,
          72.456,
          72.467,
          72.574,
          73.574,
          74.135,
          74.195,
          74.614,
          74.609,
          74.899,
          75.596,
          75.669,
          76.018,
          76.87,
          76.773,
          77.445,
          77.387,
          77.616,
          78.016,
          78.261,
          77.826,
          78.484,
          78.741,
          78.501,
          79.11,
          79.023,
          79.339,
          79.473,
          79.746,
          80.079,
          80.35,
          80.133,
          80.326,
          79.377,
          78.944,
          79.519
         ],
         "yaxis": "y"
        },
        {
         "customdata": [
          [
           "Mexico"
          ],
          [
           "Mexico"
          ],
          [
           "Mexico"
          ],
          [
           "Mexico"
          ],
          [
           "Mexico"
          ],
          [
           "Mexico"
          ],
          [
           "Mexico"
          ],
          [
           "Mexico"
          ],
          [
           "Mexico"
          ],
          [
           "Mexico"
          ],
          [
           "Mexico"
          ],
          [
           "Mexico"
          ],
          [
           "Mexico"
          ],
          [
           "Mexico"
          ],
          [
           "Mexico"
          ],
          [
           "Mexico"
          ],
          [
           "Mexico"
          ],
          [
           "Mexico"
          ],
          [
           "Mexico"
          ],
          [
           "Mexico"
          ],
          [
           "Mexico"
          ],
          [
           "Mexico"
          ],
          [
           "Mexico"
          ],
          [
           "Mexico"
          ],
          [
           "Mexico"
          ],
          [
           "Mexico"
          ],
          [
           "Mexico"
          ],
          [
           "Mexico"
          ],
          [
           "Mexico"
          ],
          [
           "Mexico"
          ],
          [
           "Mexico"
          ],
          [
           "Mexico"
          ],
          [
           "Mexico"
          ],
          [
           "Mexico"
          ],
          [
           "Mexico"
          ],
          [
           "Mexico"
          ],
          [
           "Mexico"
          ],
          [
           "Mexico"
          ],
          [
           "Mexico"
          ],
          [
           "Mexico"
          ],
          [
           "Mexico"
          ],
          [
           "Mexico"
          ],
          [
           "Mexico"
          ],
          [
           "Mexico"
          ],
          [
           "Mexico"
          ],
          [
           "Mexico"
          ],
          [
           "Mexico"
          ],
          [
           "Mexico"
          ],
          [
           "Mexico"
          ],
          [
           "Mexico"
          ],
          [
           "Mexico"
          ],
          [
           "Mexico"
          ],
          [
           "Mexico"
          ],
          [
           "Mexico"
          ],
          [
           "Mexico"
          ],
          [
           "Mexico"
          ],
          [
           "Mexico"
          ],
          [
           "Mexico"
          ],
          [
           "Mexico"
          ],
          [
           "Mexico"
          ],
          [
           "Mexico"
          ],
          [
           "Mexico"
          ],
          [
           "Mexico"
          ]
         ],
         "hovertemplate": "Country Name=%{customdata[0]}<br>Year=%{x}<br>Life Expectancy=%{y}<extra></extra>",
         "legendgroup": "Mexico",
         "line": {
          "color": "#EF553B",
          "dash": "solid"
         },
         "marker": {
          "size": 13,
          "symbol": "circle"
         },
         "mode": "lines+markers",
         "name": "Mexico",
         "orientation": "v",
         "showlegend": true,
         "type": "scatter",
         "x": [
          1960,
          1961,
          1962,
          1963,
          1964,
          1965,
          1966,
          1967,
          1968,
          1969,
          1970,
          1971,
          1972,
          1973,
          1974,
          1975,
          1976,
          1977,
          1978,
          1979,
          1980,
          1981,
          1982,
          1983,
          1984,
          1985,
          1986,
          1987,
          1988,
          1989,
          1990,
          1991,
          1992,
          1993,
          1994,
          1995,
          1996,
          1997,
          1998,
          1999,
          2000,
          2001,
          2002,
          2003,
          2004,
          2005,
          2006,
          2007,
          2008,
          2009,
          2010,
          2011,
          2012,
          2013,
          2014,
          2015,
          2016,
          2017,
          2018,
          2019,
          2020,
          2021,
          2022
         ],
         "xaxis": "x",
         "y": [
          55.017,
          55.831,
          56.599,
          57.31,
          57.947,
          58.499,
          58.981,
          59.42,
          59.835,
          60.25,
          60.69,
          61.155,
          61.614,
          62.055,
          62.459,
          62.81,
          63.123,
          63.434,
          63.778,
          64.189,
          64.703,
          65.313,
          65.975,
          66.644,
          67.29,
          67.874,
          68.388,
          68.844,
          69.253,
          69.623,
          69.971,
          70.298,
          70.616,
          70.942,
          71.279,
          71.646,
          72.037,
          72.445,
          72.845,
          73.225,
          73.569,
          73.867,
          74.106,
          74.274,
          74.372,
          74.376,
          74.331,
          74.238,
          74.152,
          74.119,
          74.19,
          74.365,
          74.574,
          74.739,
          74.797,
          74.682,
          74.412,
          74.138,
          74.015,
          74.202,
          70.133,
          70.213,
          74.832
         ],
         "yaxis": "y"
        },
        {
         "customdata": [
          [
           "Peru"
          ],
          [
           "Peru"
          ],
          [
           "Peru"
          ],
          [
           "Peru"
          ],
          [
           "Peru"
          ],
          [
           "Peru"
          ],
          [
           "Peru"
          ],
          [
           "Peru"
          ],
          [
           "Peru"
          ],
          [
           "Peru"
          ],
          [
           "Peru"
          ],
          [
           "Peru"
          ],
          [
           "Peru"
          ],
          [
           "Peru"
          ],
          [
           "Peru"
          ],
          [
           "Peru"
          ],
          [
           "Peru"
          ],
          [
           "Peru"
          ],
          [
           "Peru"
          ],
          [
           "Peru"
          ],
          [
           "Peru"
          ],
          [
           "Peru"
          ],
          [
           "Peru"
          ],
          [
           "Peru"
          ],
          [
           "Peru"
          ],
          [
           "Peru"
          ],
          [
           "Peru"
          ],
          [
           "Peru"
          ],
          [
           "Peru"
          ],
          [
           "Peru"
          ],
          [
           "Peru"
          ],
          [
           "Peru"
          ],
          [
           "Peru"
          ],
          [
           "Peru"
          ],
          [
           "Peru"
          ],
          [
           "Peru"
          ],
          [
           "Peru"
          ],
          [
           "Peru"
          ],
          [
           "Peru"
          ],
          [
           "Peru"
          ],
          [
           "Peru"
          ],
          [
           "Peru"
          ],
          [
           "Peru"
          ],
          [
           "Peru"
          ],
          [
           "Peru"
          ],
          [
           "Peru"
          ],
          [
           "Peru"
          ],
          [
           "Peru"
          ],
          [
           "Peru"
          ],
          [
           "Peru"
          ],
          [
           "Peru"
          ],
          [
           "Peru"
          ],
          [
           "Peru"
          ],
          [
           "Peru"
          ],
          [
           "Peru"
          ],
          [
           "Peru"
          ],
          [
           "Peru"
          ],
          [
           "Peru"
          ],
          [
           "Peru"
          ],
          [
           "Peru"
          ],
          [
           "Peru"
          ],
          [
           "Peru"
          ],
          [
           "Peru"
          ]
         ],
         "hovertemplate": "Country Name=%{customdata[0]}<br>Year=%{x}<br>Life Expectancy=%{y}<extra></extra>",
         "legendgroup": "Peru",
         "line": {
          "color": "#00cc96",
          "dash": "solid"
         },
         "marker": {
          "size": 13,
          "symbol": "circle"
         },
         "mode": "lines+markers",
         "name": "Peru",
         "orientation": "v",
         "showlegend": true,
         "type": "scatter",
         "x": [
          1960,
          1961,
          1962,
          1963,
          1964,
          1965,
          1966,
          1967,
          1968,
          1969,
          1970,
          1971,
          1972,
          1973,
          1974,
          1975,
          1976,
          1977,
          1978,
          1979,
          1980,
          1981,
          1982,
          1983,
          1984,
          1985,
          1986,
          1987,
          1988,
          1989,
          1990,
          1991,
          1992,
          1993,
          1994,
          1995,
          1996,
          1997,
          1998,
          1999,
          2000,
          2001,
          2002,
          2003,
          2004,
          2005,
          2006,
          2007,
          2008,
          2009,
          2010,
          2011,
          2012,
          2013,
          2014,
          2015,
          2016,
          2017,
          2018,
          2019,
          2020,
          2021,
          2022
         ],
         "xaxis": "x",
         "y": [
          50.495,
          51.091,
          51.31,
          52.2,
          52.717,
          53.183,
          53.699,
          54.223,
          54.747,
          55.255,
          47.16,
          56.163,
          56.737,
          57.085,
          57.483,
          57.905,
          58.266,
          58.617,
          58.973,
          59.303,
          59.589,
          59.847,
          60.015,
          60.161,
          60.467,
          61.292,
          62.024,
          62.804,
          63.601,
          64.352,
          65.106,
          65.434,
          66.149,
          66.681,
          67.227,
          67.644,
          68.147,
          68.605,
          69.082,
          69.743,
          70.424,
          71.041,
          71.661,
          72.217,
          72.668,
          72.986,
          73.172,
          73.223,
          73.377,
          73.466,
          73.711,
          74.133,
          74.544,
          74.967,
          75.333,
          75.621,
          75.789,
          75.879,
          76.009,
          76.156,
          73.665,
          72.377,
          73.385
         ],
         "yaxis": "y"
        }
       ],
       "layout": {
        "height": 1000,
        "legend": {
         "title": {
          "text": "Country"
         },
         "tracegroupgap": 0
        },
        "margin": {
         "t": 60
        },
        "template": {
         "data": {
          "bar": [
           {
            "error_x": {
             "color": "#2a3f5f"
            },
            "error_y": {
             "color": "#2a3f5f"
            },
            "marker": {
             "line": {
              "color": "#E5ECF6",
              "width": 0.5
             },
             "pattern": {
              "fillmode": "overlay",
              "size": 10,
              "solidity": 0.2
             }
            },
            "type": "bar"
           }
          ],
          "barpolar": [
           {
            "marker": {
             "line": {
              "color": "#E5ECF6",
              "width": 0.5
             },
             "pattern": {
              "fillmode": "overlay",
              "size": 10,
              "solidity": 0.2
             }
            },
            "type": "barpolar"
           }
          ],
          "carpet": [
           {
            "aaxis": {
             "endlinecolor": "#2a3f5f",
             "gridcolor": "white",
             "linecolor": "white",
             "minorgridcolor": "white",
             "startlinecolor": "#2a3f5f"
            },
            "baxis": {
             "endlinecolor": "#2a3f5f",
             "gridcolor": "white",
             "linecolor": "white",
             "minorgridcolor": "white",
             "startlinecolor": "#2a3f5f"
            },
            "type": "carpet"
           }
          ],
          "choropleth": [
           {
            "colorbar": {
             "outlinewidth": 0,
             "ticks": ""
            },
            "type": "choropleth"
           }
          ],
          "contour": [
           {
            "colorbar": {
             "outlinewidth": 0,
             "ticks": ""
            },
            "colorscale": [
             [
              0,
              "#0d0887"
             ],
             [
              0.1111111111111111,
              "#46039f"
             ],
             [
              0.2222222222222222,
              "#7201a8"
             ],
             [
              0.3333333333333333,
              "#9c179e"
             ],
             [
              0.4444444444444444,
              "#bd3786"
             ],
             [
              0.5555555555555556,
              "#d8576b"
             ],
             [
              0.6666666666666666,
              "#ed7953"
             ],
             [
              0.7777777777777778,
              "#fb9f3a"
             ],
             [
              0.8888888888888888,
              "#fdca26"
             ],
             [
              1,
              "#f0f921"
             ]
            ],
            "type": "contour"
           }
          ],
          "contourcarpet": [
           {
            "colorbar": {
             "outlinewidth": 0,
             "ticks": ""
            },
            "type": "contourcarpet"
           }
          ],
          "heatmap": [
           {
            "colorbar": {
             "outlinewidth": 0,
             "ticks": ""
            },
            "colorscale": [
             [
              0,
              "#0d0887"
             ],
             [
              0.1111111111111111,
              "#46039f"
             ],
             [
              0.2222222222222222,
              "#7201a8"
             ],
             [
              0.3333333333333333,
              "#9c179e"
             ],
             [
              0.4444444444444444,
              "#bd3786"
             ],
             [
              0.5555555555555556,
              "#d8576b"
             ],
             [
              0.6666666666666666,
              "#ed7953"
             ],
             [
              0.7777777777777778,
              "#fb9f3a"
             ],
             [
              0.8888888888888888,
              "#fdca26"
             ],
             [
              1,
              "#f0f921"
             ]
            ],
            "type": "heatmap"
           }
          ],
          "heatmapgl": [
           {
            "colorbar": {
             "outlinewidth": 0,
             "ticks": ""
            },
            "colorscale": [
             [
              0,
              "#0d0887"
             ],
             [
              0.1111111111111111,
              "#46039f"
             ],
             [
              0.2222222222222222,
              "#7201a8"
             ],
             [
              0.3333333333333333,
              "#9c179e"
             ],
             [
              0.4444444444444444,
              "#bd3786"
             ],
             [
              0.5555555555555556,
              "#d8576b"
             ],
             [
              0.6666666666666666,
              "#ed7953"
             ],
             [
              0.7777777777777778,
              "#fb9f3a"
             ],
             [
              0.8888888888888888,
              "#fdca26"
             ],
             [
              1,
              "#f0f921"
             ]
            ],
            "type": "heatmapgl"
           }
          ],
          "histogram": [
           {
            "marker": {
             "pattern": {
              "fillmode": "overlay",
              "size": 10,
              "solidity": 0.2
             }
            },
            "type": "histogram"
           }
          ],
          "histogram2d": [
           {
            "colorbar": {
             "outlinewidth": 0,
             "ticks": ""
            },
            "colorscale": [
             [
              0,
              "#0d0887"
             ],
             [
              0.1111111111111111,
              "#46039f"
             ],
             [
              0.2222222222222222,
              "#7201a8"
             ],
             [
              0.3333333333333333,
              "#9c179e"
             ],
             [
              0.4444444444444444,
              "#bd3786"
             ],
             [
              0.5555555555555556,
              "#d8576b"
             ],
             [
              0.6666666666666666,
              "#ed7953"
             ],
             [
              0.7777777777777778,
              "#fb9f3a"
             ],
             [
              0.8888888888888888,
              "#fdca26"
             ],
             [
              1,
              "#f0f921"
             ]
            ],
            "type": "histogram2d"
           }
          ],
          "histogram2dcontour": [
           {
            "colorbar": {
             "outlinewidth": 0,
             "ticks": ""
            },
            "colorscale": [
             [
              0,
              "#0d0887"
             ],
             [
              0.1111111111111111,
              "#46039f"
             ],
             [
              0.2222222222222222,
              "#7201a8"
             ],
             [
              0.3333333333333333,
              "#9c179e"
             ],
             [
              0.4444444444444444,
              "#bd3786"
             ],
             [
              0.5555555555555556,
              "#d8576b"
             ],
             [
              0.6666666666666666,
              "#ed7953"
             ],
             [
              0.7777777777777778,
              "#fb9f3a"
             ],
             [
              0.8888888888888888,
              "#fdca26"
             ],
             [
              1,
              "#f0f921"
             ]
            ],
            "type": "histogram2dcontour"
           }
          ],
          "mesh3d": [
           {
            "colorbar": {
             "outlinewidth": 0,
             "ticks": ""
            },
            "type": "mesh3d"
           }
          ],
          "parcoords": [
           {
            "line": {
             "colorbar": {
              "outlinewidth": 0,
              "ticks": ""
             }
            },
            "type": "parcoords"
           }
          ],
          "pie": [
           {
            "automargin": true,
            "type": "pie"
           }
          ],
          "scatter": [
           {
            "fillpattern": {
             "fillmode": "overlay",
             "size": 10,
             "solidity": 0.2
            },
            "type": "scatter"
           }
          ],
          "scatter3d": [
           {
            "line": {
             "colorbar": {
              "outlinewidth": 0,
              "ticks": ""
             }
            },
            "marker": {
             "colorbar": {
              "outlinewidth": 0,
              "ticks": ""
             }
            },
            "type": "scatter3d"
           }
          ],
          "scattercarpet": [
           {
            "marker": {
             "colorbar": {
              "outlinewidth": 0,
              "ticks": ""
             }
            },
            "type": "scattercarpet"
           }
          ],
          "scattergeo": [
           {
            "marker": {
             "colorbar": {
              "outlinewidth": 0,
              "ticks": ""
             }
            },
            "type": "scattergeo"
           }
          ],
          "scattergl": [
           {
            "marker": {
             "colorbar": {
              "outlinewidth": 0,
              "ticks": ""
             }
            },
            "type": "scattergl"
           }
          ],
          "scattermapbox": [
           {
            "marker": {
             "colorbar": {
              "outlinewidth": 0,
              "ticks": ""
             }
            },
            "type": "scattermapbox"
           }
          ],
          "scatterpolar": [
           {
            "marker": {
             "colorbar": {
              "outlinewidth": 0,
              "ticks": ""
             }
            },
            "type": "scatterpolar"
           }
          ],
          "scatterpolargl": [
           {
            "marker": {
             "colorbar": {
              "outlinewidth": 0,
              "ticks": ""
             }
            },
            "type": "scatterpolargl"
           }
          ],
          "scatterternary": [
           {
            "marker": {
             "colorbar": {
              "outlinewidth": 0,
              "ticks": ""
             }
            },
            "type": "scatterternary"
           }
          ],
          "surface": [
           {
            "colorbar": {
             "outlinewidth": 0,
             "ticks": ""
            },
            "colorscale": [
             [
              0,
              "#0d0887"
             ],
             [
              0.1111111111111111,
              "#46039f"
             ],
             [
              0.2222222222222222,
              "#7201a8"
             ],
             [
              0.3333333333333333,
              "#9c179e"
             ],
             [
              0.4444444444444444,
              "#bd3786"
             ],
             [
              0.5555555555555556,
              "#d8576b"
             ],
             [
              0.6666666666666666,
              "#ed7953"
             ],
             [
              0.7777777777777778,
              "#fb9f3a"
             ],
             [
              0.8888888888888888,
              "#fdca26"
             ],
             [
              1,
              "#f0f921"
             ]
            ],
            "type": "surface"
           }
          ],
          "table": [
           {
            "cells": {
             "fill": {
              "color": "#EBF0F8"
             },
             "line": {
              "color": "white"
             }
            },
            "header": {
             "fill": {
              "color": "#C8D4E3"
             },
             "line": {
              "color": "white"
             }
            },
            "type": "table"
           }
          ]
         },
         "layout": {
          "annotationdefaults": {
           "arrowcolor": "#2a3f5f",
           "arrowhead": 0,
           "arrowwidth": 1
          },
          "autotypenumbers": "strict",
          "coloraxis": {
           "colorbar": {
            "outlinewidth": 0,
            "ticks": ""
           }
          },
          "colorscale": {
           "diverging": [
            [
             0,
             "#8e0152"
            ],
            [
             0.1,
             "#c51b7d"
            ],
            [
             0.2,
             "#de77ae"
            ],
            [
             0.3,
             "#f1b6da"
            ],
            [
             0.4,
             "#fde0ef"
            ],
            [
             0.5,
             "#f7f7f7"
            ],
            [
             0.6,
             "#e6f5d0"
            ],
            [
             0.7,
             "#b8e186"
            ],
            [
             0.8,
             "#7fbc41"
            ],
            [
             0.9,
             "#4d9221"
            ],
            [
             1,
             "#276419"
            ]
           ],
           "sequential": [
            [
             0,
             "#0d0887"
            ],
            [
             0.1111111111111111,
             "#46039f"
            ],
            [
             0.2222222222222222,
             "#7201a8"
            ],
            [
             0.3333333333333333,
             "#9c179e"
            ],
            [
             0.4444444444444444,
             "#bd3786"
            ],
            [
             0.5555555555555556,
             "#d8576b"
            ],
            [
             0.6666666666666666,
             "#ed7953"
            ],
            [
             0.7777777777777778,
             "#fb9f3a"
            ],
            [
             0.8888888888888888,
             "#fdca26"
            ],
            [
             1,
             "#f0f921"
            ]
           ],
           "sequentialminus": [
            [
             0,
             "#0d0887"
            ],
            [
             0.1111111111111111,
             "#46039f"
            ],
            [
             0.2222222222222222,
             "#7201a8"
            ],
            [
             0.3333333333333333,
             "#9c179e"
            ],
            [
             0.4444444444444444,
             "#bd3786"
            ],
            [
             0.5555555555555556,
             "#d8576b"
            ],
            [
             0.6666666666666666,
             "#ed7953"
            ],
            [
             0.7777777777777778,
             "#fb9f3a"
            ],
            [
             0.8888888888888888,
             "#fdca26"
            ],
            [
             1,
             "#f0f921"
            ]
           ]
          },
          "colorway": [
           "#636efa",
           "#EF553B",
           "#00cc96",
           "#ab63fa",
           "#FFA15A",
           "#19d3f3",
           "#FF6692",
           "#B6E880",
           "#FF97FF",
           "#FECB52"
          ],
          "font": {
           "color": "#2a3f5f"
          },
          "geo": {
           "bgcolor": "white",
           "lakecolor": "white",
           "landcolor": "#E5ECF6",
           "showlakes": true,
           "showland": true,
           "subunitcolor": "white"
          },
          "hoverlabel": {
           "align": "left"
          },
          "hovermode": "closest",
          "mapbox": {
           "style": "light"
          },
          "paper_bgcolor": "white",
          "plot_bgcolor": "#E5ECF6",
          "polar": {
           "angularaxis": {
            "gridcolor": "white",
            "linecolor": "white",
            "ticks": ""
           },
           "bgcolor": "#E5ECF6",
           "radialaxis": {
            "gridcolor": "white",
            "linecolor": "white",
            "ticks": ""
           }
          },
          "scene": {
           "xaxis": {
            "backgroundcolor": "#E5ECF6",
            "gridcolor": "white",
            "gridwidth": 2,
            "linecolor": "white",
            "showbackground": true,
            "ticks": "",
            "zerolinecolor": "white"
           },
           "yaxis": {
            "backgroundcolor": "#E5ECF6",
            "gridcolor": "white",
            "gridwidth": 2,
            "linecolor": "white",
            "showbackground": true,
            "ticks": "",
            "zerolinecolor": "white"
           },
           "zaxis": {
            "backgroundcolor": "#E5ECF6",
            "gridcolor": "white",
            "gridwidth": 2,
            "linecolor": "white",
            "showbackground": true,
            "ticks": "",
            "zerolinecolor": "white"
           }
          },
          "shapedefaults": {
           "line": {
            "color": "#2a3f5f"
           }
          },
          "ternary": {
           "aaxis": {
            "gridcolor": "white",
            "linecolor": "white",
            "ticks": ""
           },
           "baxis": {
            "gridcolor": "white",
            "linecolor": "white",
            "ticks": ""
           },
           "bgcolor": "#E5ECF6",
           "caxis": {
            "gridcolor": "white",
            "linecolor": "white",
            "ticks": ""
           }
          },
          "title": {
           "x": 0.05
          },
          "xaxis": {
           "automargin": true,
           "gridcolor": "white",
           "linecolor": "white",
           "ticks": "",
           "title": {
            "standoff": 15
           },
           "zerolinecolor": "white",
           "zerolinewidth": 2
          },
          "yaxis": {
           "automargin": true,
           "gridcolor": "white",
           "linecolor": "white",
           "ticks": "",
           "title": {
            "standoff": 15
           },
           "zerolinecolor": "white",
           "zerolinewidth": 2
          }
         }
        },
        "title": {
         "text": "Life Expectancy Over Time for Different Countries",
         "x": 0.5
        },
        "xaxis": {
         "anchor": "y",
         "domain": [
          0,
          1
         ],
         "tickangle": -70,
         "tickmode": "array",
         "tickvals": [
          1960,
          1961,
          1962,
          1963,
          1964,
          1965,
          1966,
          1967,
          1968,
          1969,
          1970,
          1971,
          1972,
          1973,
          1974,
          1975,
          1976,
          1977,
          1978,
          1979,
          1980,
          1981,
          1982,
          1983,
          1984,
          1985,
          1986,
          1987,
          1988,
          1989,
          1990,
          1991,
          1992,
          1993,
          1994,
          1995,
          1996,
          1997,
          1998,
          1999,
          2000,
          2001,
          2002,
          2003,
          2004,
          2005,
          2006,
          2007,
          2008,
          2009,
          2010,
          2011,
          2012,
          2013,
          2014,
          2015,
          2016,
          2017,
          2018,
          2019,
          2020,
          2021,
          2022
         ],
         "title": {
          "text": "Year"
         }
        },
        "yaxis": {
         "anchor": "x",
         "domain": [
          0,
          1
         ],
         "title": {
          "text": "Life expectancy at birth (years)"
         }
        }
       }
      }
     },
     "metadata": {},
     "output_type": "display_data"
    }
   ],
   "source": [
    "point_plot(df=df, feature=\"Life Expectancy\", countries=bottom_three_countries)"
   ]
  },
  {
   "cell_type": "code",
   "execution_count": 225,
   "metadata": {},
   "outputs": [
    {
     "name": "stdout",
     "output_type": "stream",
     "text": [
      "     Country Name  Median LifeExpec\n",
      "0           Chile         73.574000\n",
      "1           China         68.169000\n",
      "2          Mexico         70.133000\n",
      "3            Peru         65.434000\n",
      "4  United Kingdom         76.082927\n",
      "5   United States         75.365854\n"
     ]
    }
   ],
   "source": [
    "mediam_by_countri = df.groupby(\"Country Name\")[\"Life Expectancy\"].median().reset_index().rename(columns={\"Life Expectancy\": \"Median LifeExpec\"})\n",
    "print(mediam_by_countri)"
   ]
  },
  {
   "cell_type": "markdown",
   "metadata": {},
   "source": [
    "#### Has life expectancy increased over time in the six nations?\n",
    "\n",
    "- All countries have increased the life expectancy over the years.\n",
    "- In 2019, all nations decreased its Life Expectancy, but not China.\n",
    "- China has increased notably their life expectancy at birth through the years.\n",
    "- Life Expectancy in Mexico is staging since 2004."
   ]
  },
  {
   "cell_type": "markdown",
   "metadata": {},
   "source": [
    "## Correlation between GDP and Life Expectancy"
   ]
  },
  {
   "cell_type": "code",
   "execution_count": 226,
   "metadata": {},
   "outputs": [
    {
     "data": {
      "application/vnd.plotly.v1+json": {
       "config": {
        "plotlyServerURL": "https://plot.ly"
       },
       "data": [
        {
         "hovertemplate": "Country Name=Chile<br>Life Expectancy=%{x}<br>GDP=%{y}<extra></extra>",
         "legendgroup": "Chile",
         "marker": {
          "color": "#636efa",
          "symbol": "circle"
         },
         "mode": "markers",
         "name": "Chile",
         "orientation": "v",
         "showlegend": true,
         "type": "scatter",
         "x": [
          57.015,
          57.537,
          57.771,
          57.15,
          58.738,
          59.455,
          59.689,
          60.72,
          61.63,
          61.905,
          62.491,
          62.732,
          62.281,
          63.905,
          64.901,
          66.279,
          65.855,
          67.402,
          68.074,
          68.186,
          68.84,
          69.909,
          70.299,
          70.011,
          70.46,
          71.176,
          71.81,
          72.54,
          72.456,
          72.467,
          72.574,
          73.574,
          74.135,
          74.195,
          74.614,
          74.609,
          74.899,
          75.596,
          75.669,
          76.018,
          76.87,
          76.773,
          77.445,
          77.387,
          77.616,
          78.016,
          78.261,
          77.826,
          78.484,
          78.741,
          78.501,
          79.11,
          79.023,
          79.339,
          79.473,
          79.746,
          80.079,
          80.35,
          80.133,
          80.326,
          79.377,
          78.944,
          79.519,
          null
         ],
         "xaxis": "x",
         "y": [
          4110000000,
          4829238095.2381,
          5631285444.2344,
          5591307028.36005,
          5964195925.4443,
          6108679125.7523,
          7162633082.31628,
          7057478295.18548,
          7192102966.84119,
          8359596194.01253,
          9144112431.28214,
          10876091407.9777,
          11833904487.641,
          16826390943.8597,
          16209693232.0782,
          7621570062.17598,
          10338624019.4415,
          13965595122.3247,
          15992038535.2046,
          21806136345.5074,
          29036709871.7949,
          34509878043.5897,
          19529291464.7274,
          20362016672.278,
          19671768024.4581,
          17717662227.8036,
          18897110625.5242,
          22250729666.7937,
          26042571615.5987,
          29936735491.4427,
          33137824762.0173,
          37846188228.2702,
          45949608551.8086,
          49287378599.1612,
          56998601183.5492,
          73444831671.0169,
          78584098982.9097,
          85741415285.4035,
          81990010703.843,
          75578685735.5219,
          78339750721.7352,
          71574739561.4329,
          70264045939.1322,
          76492579644.0605,
          99075985773.176,
          122294145162.835,
          153843518171.43,
          172491076033.863,
          179894594475.98,
          171777900623.177,
          217051209240.298,
          251382573885.594,
          267024782480.28,
          277395018837.366,
          259560978231.552,
          242450355827.827,
          249344863933.461,
          276154259987.103,
          295857562991.709,
          278285058719.466,
          254042159309.311,
          315515014838.539,
          302116539409.03,
          335533331669.219
         ],
         "yaxis": "y"
        },
        {
         "hovertemplate": "Country Name=China<br>Life Expectancy=%{x}<br>GDP=%{y}<extra></extra>",
         "legendgroup": "China",
         "marker": {
          "color": "#EF553B",
          "symbol": "circle"
         },
         "mode": "markers",
         "name": "China",
         "orientation": "v",
         "showlegend": true,
         "type": "scatter",
         "x": [
          33.275,
          40.468,
          50.818,
          51.408,
          52.156,
          52.912,
          53.637,
          54.351,
          55.057,
          55.738,
          56.607,
          57.565,
          58.418,
          59.389,
          60.168,
          60.917,
          61.796,
          62.538,
          63.218,
          63.865,
          64.42,
          64.975,
          65.463,
          65.904,
          66.3,
          66.643,
          66.97,
          67.288,
          67.581,
          67.838,
          68.005,
          68.169,
          68.734,
          69.216,
          69.52,
          70.008,
          70.266,
          70.672,
          71.172,
          71.419,
          71.881,
          72.606,
          72.985,
          73.371,
          73.748,
          74.111,
          74.504,
          74.762,
          74.872,
          75.343,
          75.599,
          75.903,
          76.192,
          76.452,
          76.717,
          76.977,
          77.218,
          77.248,
          77.744,
          77.968,
          78.077,
          78.211,
          78.587,
          null
         ],
         "xaxis": "x",
         "y": [
          59716249310.9742,
          50056685957.359,
          47209186415.3555,
          50706614526.1472,
          59708125203.8643,
          70436008642.4251,
          76720005491.8964,
          72881364882.4909,
          70846276051.4727,
          79705614854.7674,
          92602634891.6589,
          99800593790.9886,
          113689308020.343,
          138543170458.064,
          144188970821.072,
          163429530659.638,
          153939265947.775,
          174935933078.663,
          149540752829.268,
          178280594413.043,
          191149211575,
          195866382432.54,
          205089699858.779,
          230686747153.257,
          259946510957.143,
          309488028132.653,
          300758100107.246,
          272972974764.574,
          312353631207.819,
          347768051311.741,
          360857912565.966,
          383373318083.624,
          426915712715.856,
          444731282435.515,
          564321854521.013,
          734484834573.582,
          863749314718.538,
          961601980984.623,
          1029060747620.65,
          1094003874937.34,
          1211331651866.09,
          1339400897105.11,
          1470557654799.95,
          1660280543846.79,
          1955346768721.39,
          2285961149879.85,
          2752118657184.02,
          3550327802998.4,
          4594336785737.67,
          5101691124285.21,
          6087191746679.49,
          7551545703440.75,
          8532185381680.59,
          9570471111831.68,
          10475624944355.2,
          11061572618578.7,
          11233313730348.7,
          12310491333980.9,
          13894907857880.6,
          14279968506271.7,
          14687744162801,
          17820459508852.2,
          17881783387000.9,
          17794781986104.5
         ],
         "yaxis": "y"
        },
        {
         "hovertemplate": "Country Name=United Kingdom<br>Life Expectancy=%{x}<br>GDP=%{y}<extra></extra>",
         "legendgroup": "United Kingdom",
         "marker": {
          "color": "#00cc96",
          "symbol": "circle"
         },
         "mode": "markers",
         "name": "United Kingdom",
         "orientation": "v",
         "showlegend": true,
         "type": "scatter",
         "x": [
          71.1268292682927,
          70.8780487804878,
          70.9268292682927,
          70.8268292682927,
          71.6243902439024,
          71.6243902439024,
          71.5731707317073,
          72.1243902439024,
          71.7243902439025,
          71.7219512195122,
          71.9731707317073,
          72.2731707317073,
          72.1243902439024,
          72.3243902439024,
          72.5243902439024,
          72.7243902439024,
          72.7756097560976,
          73.2243902439024,
          73.1756097560976,
          73.2756097560976,
          73.6756097560976,
          74.0268292682927,
          74.1780487804878,
          74.3780487804878,
          74.7780487804878,
          74.6292682926829,
          74.9292682926829,
          75.280487804878,
          75.3804878048781,
          75.5829268292683,
          75.8804878048781,
          76.0829268292683,
          76.4341463414634,
          76.3853658536585,
          76.8853658536585,
          76.8365853658537,
          77.0878048780488,
          77.2109756097561,
          77.190243902439,
          77.390243902439,
          77.7414634146342,
          77.9926829268293,
          78.1439024390244,
          78.4463414634146,
          78.7463414634146,
          79.0487804878049,
          79.2487804878049,
          79.4487804878049,
          79.6,
          80.0512195121951,
          80.4024390243902,
          80.9512195121951,
          80.9048780487805,
          81.0048780487805,
          81.3048780487805,
          80.9560975609756,
          81.1560975609756,
          81.2560975609756,
          81.2560975609756,
          81.4048780487805,
          80.3512195121951,
          80.7,
          82.0585365853659,
          null
         ],
         "xaxis": "x",
         "y": [
          73233967692.1028,
          77741965703.3544,
          81247564156.8246,
          86561961812.3249,
          94407558351.1616,
          101824755078.991,
          108572752102.045,
          113116888210.787,
          107759910067.889,
          116464702803.218,
          130671946244.3,
          148113896325.14,
          169965034965.035,
          192537971582.558,
          206131369798.971,
          241756637168.142,
          232614555256.065,
          263066457352.172,
          335883029721.956,
          438994070309.191,
          564947710899.373,
          540765675241.158,
          515048916841.37,
          489618008185.539,
          461487097632.349,
          489285164271.047,
          601452653180.885,
          745162608269.325,
          910122732123.799,
          926884816753.927,
          1093169389204.55,
          1142797178130.51,
          1179659529659.53,
          1061388722255.55,
          1140489745944.29,
          1344240176739.78,
          1419645865834.63,
          1560911918795.02,
          1653694932096.72,
          1687830448147.55,
          1665534876683.31,
          1649827263567.01,
          1785729916067.15,
          2054422857142.86,
          2421525082387.4,
          2543180000000,
          2708441582336.71,
          3090510204081.63,
          2929411764705.88,
          2412840006231.5,
          2485482596184.71,
          2663805834828.07,
          2707089726614.64,
          2784853502534.29,
          3064708247921.43,
          2927911140916.73,
          2689106566899.61,
          2680148052335.3,
          2871340347581.79,
          2851407164907.81,
          2697806592293.86,
          3141506156618.7,
          3088839763445.02,
          3340032380668.04
         ],
         "yaxis": "y"
        },
        {
         "hovertemplate": "Country Name=Mexico<br>Life Expectancy=%{x}<br>GDP=%{y}<extra></extra>",
         "legendgroup": "Mexico",
         "marker": {
          "color": "#ab63fa",
          "symbol": "circle"
         },
         "mode": "markers",
         "name": "Mexico",
         "orientation": "v",
         "showlegend": true,
         "type": "scatter",
         "x": [
          55.017,
          55.831,
          56.599,
          57.31,
          57.947,
          58.499,
          58.981,
          59.42,
          59.835,
          60.25,
          60.69,
          61.155,
          61.614,
          62.055,
          62.459,
          62.81,
          63.123,
          63.434,
          63.778,
          64.189,
          64.703,
          65.313,
          65.975,
          66.644,
          67.29,
          67.874,
          68.388,
          68.844,
          69.253,
          69.623,
          69.971,
          70.298,
          70.616,
          70.942,
          71.279,
          71.646,
          72.037,
          72.445,
          72.845,
          73.225,
          73.569,
          73.867,
          74.106,
          74.274,
          74.372,
          74.376,
          74.331,
          74.238,
          74.152,
          74.119,
          74.19,
          74.365,
          74.574,
          74.739,
          74.797,
          74.682,
          74.412,
          74.138,
          74.015,
          74.202,
          70.133,
          70.213,
          74.832,
          null
         ],
         "xaxis": "x",
         "y": [
          13040000000,
          14160000000,
          15200000000,
          16960000000,
          20080000000,
          21840000000,
          24320000000,
          26560000000,
          29360000000,
          32480000000,
          35520000000,
          39200000000,
          45200000000,
          55280000000,
          72000000000,
          88000000000,
          88875923765.072,
          81912018783.5024,
          102648570299.117,
          134531900898.926,
          205577055465.993,
          263797827860.494,
          184602611609.517,
          156167000432.994,
          184230754105.394,
          195241069482.077,
          134556034672.991,
          147542558208.888,
          181611150496.787,
          221403098266.77,
          261253675692.838,
          313139656145.745,
          363157832923.734,
          530160763983.506,
          553618247900.74,
          380157469866.849,
          432157945024.428,
          523449530464.257,
          557461102630.658,
          631249359702.389,
          742061329643.37,
          796064590656.176,
          810666116505.478,
          765549967703.273,
          819459227375.022,
          917571853529.104,
          1020265057882.01,
          1102355554971.95,
          1161553459715.1,
          943437415024.633,
          1105424238731.09,
          1229013703416.76,
          1255110424817.79,
          1327436290282.67,
          1364507717614.13,
          1213294467716.88,
          1112233497452.7,
          1190721475906,
          1256300182879.73,
          1305211135822.61,
          1120832412468.85,
          1313069763986.6,
          1463323889036.56,
          1788886821046.81
         ],
         "yaxis": "y"
        },
        {
         "hovertemplate": "Country Name=Peru<br>Life Expectancy=%{x}<br>GDP=%{y}<extra></extra>",
         "legendgroup": "Peru",
         "marker": {
          "color": "#FFA15A",
          "symbol": "circle"
         },
         "mode": "markers",
         "name": "Peru",
         "orientation": "v",
         "showlegend": true,
         "type": "scatter",
         "x": [
          50.495,
          51.091,
          51.31,
          52.2,
          52.717,
          53.183,
          53.699,
          54.223,
          54.747,
          55.255,
          47.16,
          56.163,
          56.737,
          57.085,
          57.483,
          57.905,
          58.266,
          58.617,
          58.973,
          59.303,
          59.589,
          59.847,
          60.015,
          60.161,
          60.467,
          61.292,
          62.024,
          62.804,
          63.601,
          64.352,
          65.106,
          65.434,
          66.149,
          66.681,
          67.227,
          67.644,
          68.147,
          68.605,
          69.082,
          69.743,
          70.424,
          71.041,
          71.661,
          72.217,
          72.668,
          72.986,
          73.172,
          73.223,
          73.377,
          73.466,
          73.711,
          74.133,
          74.544,
          74.967,
          75.333,
          75.621,
          75.789,
          75.879,
          76.009,
          76.156,
          73.665,
          72.377,
          73.385,
          null
         ],
         "xaxis": "x",
         "y": [
          null,
          null,
          null,
          null,
          null,
          null,
          null,
          null,
          null,
          null,
          null,
          null,
          null,
          null,
          null,
          null,
          null,
          null,
          null,
          null,
          null,
          null,
          15203143381,
          14124541992.5,
          20339340469.3333,
          15044388198.1818,
          21777475654.2857,
          36533467759.4118,
          15439408447.2,
          22499558526.3682,
          26410386962.8019,
          34341465998.2003,
          35966302303.263,
          34832077220.8537,
          44882079766.8913,
          53312793687.3836,
          55252414130.3019,
          58147522522.5225,
          55501467877.381,
          50187324567.883,
          51744749133.213,
          52030158775.4055,
          54777553515.0809,
          58731030121.8671,
          66768703497.5687,
          76060606060.6061,
          88643193061.748,
          102170981144.136,
          120550599815.441,
          120822986521.479,
          147527631520.729,
          171761737046.585,
          192650021648.583,
          201175543571.392,
          200786250582.943,
          189802976285.619,
          191898104390.379,
          211007984080.911,
          222597009739.235,
          228346006003.648,
          201409694755.934,
          226354278280.885,
          246488757636.211,
          267603248655.253
         ],
         "yaxis": "y"
        },
        {
         "hovertemplate": "Country Name=United States<br>Life Expectancy=%{x}<br>GDP=%{y}<extra></extra>",
         "legendgroup": "United States",
         "marker": {
          "color": "#19d3f3",
          "symbol": "circle"
         },
         "mode": "markers",
         "name": "United States",
         "orientation": "v",
         "showlegend": true,
         "type": "scatter",
         "x": [
          69.7707317073171,
          70.2707317073171,
          70.119512195122,
          69.9170731707317,
          70.1658536585366,
          70.2146341463415,
          70.2121951219512,
          70.5609756097561,
          69.9512195121951,
          70.5073170731708,
          70.8073170731707,
          71.1073170731707,
          71.1560975609756,
          71.3560975609756,
          71.9560975609756,
          72.6048780487805,
          72.8560975609756,
          73.2560975609756,
          73.3560975609756,
          73.8048780487805,
          73.609756097561,
          74.009756097561,
          74.3609756097561,
          74.4634146341463,
          74.5634146341464,
          74.5634146341464,
          74.6146341463415,
          74.7658536585366,
          74.7658536585366,
          75.0170731707317,
          75.2146341463415,
          75.3658536585366,
          75.6170731707317,
          75.419512195122,
          75.619512195122,
          75.6219512195122,
          76.0268292682927,
          76.4292682926829,
          76.5804878048781,
          76.5829268292683,
          76.6365853658537,
          76.8365853658537,
          76.9365853658537,
          77.0365853658537,
          77.4878048780488,
          77.4878048780488,
          77.6878048780488,
          77.9878048780488,
          78.0390243902439,
          78.390243902439,
          78.5414634146342,
          78.6414634146341,
          78.7414634146342,
          78.7414634146342,
          78.8414634146341,
          78.690243902439,
          78.5390243902439,
          78.5390243902439,
          78.6390243902439,
          78.7878048780488,
          76.9804878048781,
          76.3292682926829,
          77.4341463414634,
          null
         ],
         "xaxis": "x",
         "y": [
          541988586206.897,
          561940310344.828,
          603639413793.103,
          637058551724.138,
          684144620689.655,
          741904862068.965,
          813032758620.69,
          859620034482.759,
          940225000000,
          1017438172413.79,
          1073303000000,
          1164850000000,
          1279110000000,
          1425376000000,
          1545243000000,
          1684904000000,
          1873412000000,
          2081826000000,
          2351599000000,
          2627333000000,
          2857307000000,
          3207041000000,
          3343789000000,
          3634038000000,
          4037613000000,
          4338979000000,
          4579631000000,
          4855215000000,
          5236438000000,
          5641580000000,
          5963144000000,
          6158129000000,
          6520327000000,
          6858559000000,
          7287236000000,
          7639749000000,
          8073122000000,
          8577552000000,
          9062817000000,
          9631172000000,
          10250952000000,
          10581929000000,
          10929108000000,
          11456450000000,
          12217196000000,
          13039197000000,
          13815583000000,
          14474228000000,
          14769862000000,
          14478067000000,
          15048971000000,
          15599732000000,
          16253970000000,
          16880683000000,
          17608138000000,
          18295019000000,
          18804913000000,
          19612102000000,
          20656516000000,
          21521395000000,
          21322950000000,
          23594031000000,
          25744108000000,
          27360935000000
         ],
         "yaxis": "y"
        }
       ],
       "layout": {
        "legend": {
         "title": {
          "text": "Country Name"
         },
         "tracegroupgap": 0
        },
        "margin": {
         "t": 60
        },
        "template": {
         "data": {
          "bar": [
           {
            "error_x": {
             "color": "#2a3f5f"
            },
            "error_y": {
             "color": "#2a3f5f"
            },
            "marker": {
             "line": {
              "color": "#E5ECF6",
              "width": 0.5
             },
             "pattern": {
              "fillmode": "overlay",
              "size": 10,
              "solidity": 0.2
             }
            },
            "type": "bar"
           }
          ],
          "barpolar": [
           {
            "marker": {
             "line": {
              "color": "#E5ECF6",
              "width": 0.5
             },
             "pattern": {
              "fillmode": "overlay",
              "size": 10,
              "solidity": 0.2
             }
            },
            "type": "barpolar"
           }
          ],
          "carpet": [
           {
            "aaxis": {
             "endlinecolor": "#2a3f5f",
             "gridcolor": "white",
             "linecolor": "white",
             "minorgridcolor": "white",
             "startlinecolor": "#2a3f5f"
            },
            "baxis": {
             "endlinecolor": "#2a3f5f",
             "gridcolor": "white",
             "linecolor": "white",
             "minorgridcolor": "white",
             "startlinecolor": "#2a3f5f"
            },
            "type": "carpet"
           }
          ],
          "choropleth": [
           {
            "colorbar": {
             "outlinewidth": 0,
             "ticks": ""
            },
            "type": "choropleth"
           }
          ],
          "contour": [
           {
            "colorbar": {
             "outlinewidth": 0,
             "ticks": ""
            },
            "colorscale": [
             [
              0,
              "#0d0887"
             ],
             [
              0.1111111111111111,
              "#46039f"
             ],
             [
              0.2222222222222222,
              "#7201a8"
             ],
             [
              0.3333333333333333,
              "#9c179e"
             ],
             [
              0.4444444444444444,
              "#bd3786"
             ],
             [
              0.5555555555555556,
              "#d8576b"
             ],
             [
              0.6666666666666666,
              "#ed7953"
             ],
             [
              0.7777777777777778,
              "#fb9f3a"
             ],
             [
              0.8888888888888888,
              "#fdca26"
             ],
             [
              1,
              "#f0f921"
             ]
            ],
            "type": "contour"
           }
          ],
          "contourcarpet": [
           {
            "colorbar": {
             "outlinewidth": 0,
             "ticks": ""
            },
            "type": "contourcarpet"
           }
          ],
          "heatmap": [
           {
            "colorbar": {
             "outlinewidth": 0,
             "ticks": ""
            },
            "colorscale": [
             [
              0,
              "#0d0887"
             ],
             [
              0.1111111111111111,
              "#46039f"
             ],
             [
              0.2222222222222222,
              "#7201a8"
             ],
             [
              0.3333333333333333,
              "#9c179e"
             ],
             [
              0.4444444444444444,
              "#bd3786"
             ],
             [
              0.5555555555555556,
              "#d8576b"
             ],
             [
              0.6666666666666666,
              "#ed7953"
             ],
             [
              0.7777777777777778,
              "#fb9f3a"
             ],
             [
              0.8888888888888888,
              "#fdca26"
             ],
             [
              1,
              "#f0f921"
             ]
            ],
            "type": "heatmap"
           }
          ],
          "heatmapgl": [
           {
            "colorbar": {
             "outlinewidth": 0,
             "ticks": ""
            },
            "colorscale": [
             [
              0,
              "#0d0887"
             ],
             [
              0.1111111111111111,
              "#46039f"
             ],
             [
              0.2222222222222222,
              "#7201a8"
             ],
             [
              0.3333333333333333,
              "#9c179e"
             ],
             [
              0.4444444444444444,
              "#bd3786"
             ],
             [
              0.5555555555555556,
              "#d8576b"
             ],
             [
              0.6666666666666666,
              "#ed7953"
             ],
             [
              0.7777777777777778,
              "#fb9f3a"
             ],
             [
              0.8888888888888888,
              "#fdca26"
             ],
             [
              1,
              "#f0f921"
             ]
            ],
            "type": "heatmapgl"
           }
          ],
          "histogram": [
           {
            "marker": {
             "pattern": {
              "fillmode": "overlay",
              "size": 10,
              "solidity": 0.2
             }
            },
            "type": "histogram"
           }
          ],
          "histogram2d": [
           {
            "colorbar": {
             "outlinewidth": 0,
             "ticks": ""
            },
            "colorscale": [
             [
              0,
              "#0d0887"
             ],
             [
              0.1111111111111111,
              "#46039f"
             ],
             [
              0.2222222222222222,
              "#7201a8"
             ],
             [
              0.3333333333333333,
              "#9c179e"
             ],
             [
              0.4444444444444444,
              "#bd3786"
             ],
             [
              0.5555555555555556,
              "#d8576b"
             ],
             [
              0.6666666666666666,
              "#ed7953"
             ],
             [
              0.7777777777777778,
              "#fb9f3a"
             ],
             [
              0.8888888888888888,
              "#fdca26"
             ],
             [
              1,
              "#f0f921"
             ]
            ],
            "type": "histogram2d"
           }
          ],
          "histogram2dcontour": [
           {
            "colorbar": {
             "outlinewidth": 0,
             "ticks": ""
            },
            "colorscale": [
             [
              0,
              "#0d0887"
             ],
             [
              0.1111111111111111,
              "#46039f"
             ],
             [
              0.2222222222222222,
              "#7201a8"
             ],
             [
              0.3333333333333333,
              "#9c179e"
             ],
             [
              0.4444444444444444,
              "#bd3786"
             ],
             [
              0.5555555555555556,
              "#d8576b"
             ],
             [
              0.6666666666666666,
              "#ed7953"
             ],
             [
              0.7777777777777778,
              "#fb9f3a"
             ],
             [
              0.8888888888888888,
              "#fdca26"
             ],
             [
              1,
              "#f0f921"
             ]
            ],
            "type": "histogram2dcontour"
           }
          ],
          "mesh3d": [
           {
            "colorbar": {
             "outlinewidth": 0,
             "ticks": ""
            },
            "type": "mesh3d"
           }
          ],
          "parcoords": [
           {
            "line": {
             "colorbar": {
              "outlinewidth": 0,
              "ticks": ""
             }
            },
            "type": "parcoords"
           }
          ],
          "pie": [
           {
            "automargin": true,
            "type": "pie"
           }
          ],
          "scatter": [
           {
            "fillpattern": {
             "fillmode": "overlay",
             "size": 10,
             "solidity": 0.2
            },
            "type": "scatter"
           }
          ],
          "scatter3d": [
           {
            "line": {
             "colorbar": {
              "outlinewidth": 0,
              "ticks": ""
             }
            },
            "marker": {
             "colorbar": {
              "outlinewidth": 0,
              "ticks": ""
             }
            },
            "type": "scatter3d"
           }
          ],
          "scattercarpet": [
           {
            "marker": {
             "colorbar": {
              "outlinewidth": 0,
              "ticks": ""
             }
            },
            "type": "scattercarpet"
           }
          ],
          "scattergeo": [
           {
            "marker": {
             "colorbar": {
              "outlinewidth": 0,
              "ticks": ""
             }
            },
            "type": "scattergeo"
           }
          ],
          "scattergl": [
           {
            "marker": {
             "colorbar": {
              "outlinewidth": 0,
              "ticks": ""
             }
            },
            "type": "scattergl"
           }
          ],
          "scattermapbox": [
           {
            "marker": {
             "colorbar": {
              "outlinewidth": 0,
              "ticks": ""
             }
            },
            "type": "scattermapbox"
           }
          ],
          "scatterpolar": [
           {
            "marker": {
             "colorbar": {
              "outlinewidth": 0,
              "ticks": ""
             }
            },
            "type": "scatterpolar"
           }
          ],
          "scatterpolargl": [
           {
            "marker": {
             "colorbar": {
              "outlinewidth": 0,
              "ticks": ""
             }
            },
            "type": "scatterpolargl"
           }
          ],
          "scatterternary": [
           {
            "marker": {
             "colorbar": {
              "outlinewidth": 0,
              "ticks": ""
             }
            },
            "type": "scatterternary"
           }
          ],
          "surface": [
           {
            "colorbar": {
             "outlinewidth": 0,
             "ticks": ""
            },
            "colorscale": [
             [
              0,
              "#0d0887"
             ],
             [
              0.1111111111111111,
              "#46039f"
             ],
             [
              0.2222222222222222,
              "#7201a8"
             ],
             [
              0.3333333333333333,
              "#9c179e"
             ],
             [
              0.4444444444444444,
              "#bd3786"
             ],
             [
              0.5555555555555556,
              "#d8576b"
             ],
             [
              0.6666666666666666,
              "#ed7953"
             ],
             [
              0.7777777777777778,
              "#fb9f3a"
             ],
             [
              0.8888888888888888,
              "#fdca26"
             ],
             [
              1,
              "#f0f921"
             ]
            ],
            "type": "surface"
           }
          ],
          "table": [
           {
            "cells": {
             "fill": {
              "color": "#EBF0F8"
             },
             "line": {
              "color": "white"
             }
            },
            "header": {
             "fill": {
              "color": "#C8D4E3"
             },
             "line": {
              "color": "white"
             }
            },
            "type": "table"
           }
          ]
         },
         "layout": {
          "annotationdefaults": {
           "arrowcolor": "#2a3f5f",
           "arrowhead": 0,
           "arrowwidth": 1
          },
          "autotypenumbers": "strict",
          "coloraxis": {
           "colorbar": {
            "outlinewidth": 0,
            "ticks": ""
           }
          },
          "colorscale": {
           "diverging": [
            [
             0,
             "#8e0152"
            ],
            [
             0.1,
             "#c51b7d"
            ],
            [
             0.2,
             "#de77ae"
            ],
            [
             0.3,
             "#f1b6da"
            ],
            [
             0.4,
             "#fde0ef"
            ],
            [
             0.5,
             "#f7f7f7"
            ],
            [
             0.6,
             "#e6f5d0"
            ],
            [
             0.7,
             "#b8e186"
            ],
            [
             0.8,
             "#7fbc41"
            ],
            [
             0.9,
             "#4d9221"
            ],
            [
             1,
             "#276419"
            ]
           ],
           "sequential": [
            [
             0,
             "#0d0887"
            ],
            [
             0.1111111111111111,
             "#46039f"
            ],
            [
             0.2222222222222222,
             "#7201a8"
            ],
            [
             0.3333333333333333,
             "#9c179e"
            ],
            [
             0.4444444444444444,
             "#bd3786"
            ],
            [
             0.5555555555555556,
             "#d8576b"
            ],
            [
             0.6666666666666666,
             "#ed7953"
            ],
            [
             0.7777777777777778,
             "#fb9f3a"
            ],
            [
             0.8888888888888888,
             "#fdca26"
            ],
            [
             1,
             "#f0f921"
            ]
           ],
           "sequentialminus": [
            [
             0,
             "#0d0887"
            ],
            [
             0.1111111111111111,
             "#46039f"
            ],
            [
             0.2222222222222222,
             "#7201a8"
            ],
            [
             0.3333333333333333,
             "#9c179e"
            ],
            [
             0.4444444444444444,
             "#bd3786"
            ],
            [
             0.5555555555555556,
             "#d8576b"
            ],
            [
             0.6666666666666666,
             "#ed7953"
            ],
            [
             0.7777777777777778,
             "#fb9f3a"
            ],
            [
             0.8888888888888888,
             "#fdca26"
            ],
            [
             1,
             "#f0f921"
            ]
           ]
          },
          "colorway": [
           "#636efa",
           "#EF553B",
           "#00cc96",
           "#ab63fa",
           "#FFA15A",
           "#19d3f3",
           "#FF6692",
           "#B6E880",
           "#FF97FF",
           "#FECB52"
          ],
          "font": {
           "color": "#2a3f5f"
          },
          "geo": {
           "bgcolor": "white",
           "lakecolor": "white",
           "landcolor": "#E5ECF6",
           "showlakes": true,
           "showland": true,
           "subunitcolor": "white"
          },
          "hoverlabel": {
           "align": "left"
          },
          "hovermode": "closest",
          "mapbox": {
           "style": "light"
          },
          "paper_bgcolor": "white",
          "plot_bgcolor": "#E5ECF6",
          "polar": {
           "angularaxis": {
            "gridcolor": "white",
            "linecolor": "white",
            "ticks": ""
           },
           "bgcolor": "#E5ECF6",
           "radialaxis": {
            "gridcolor": "white",
            "linecolor": "white",
            "ticks": ""
           }
          },
          "scene": {
           "xaxis": {
            "backgroundcolor": "#E5ECF6",
            "gridcolor": "white",
            "gridwidth": 2,
            "linecolor": "white",
            "showbackground": true,
            "ticks": "",
            "zerolinecolor": "white"
           },
           "yaxis": {
            "backgroundcolor": "#E5ECF6",
            "gridcolor": "white",
            "gridwidth": 2,
            "linecolor": "white",
            "showbackground": true,
            "ticks": "",
            "zerolinecolor": "white"
           },
           "zaxis": {
            "backgroundcolor": "#E5ECF6",
            "gridcolor": "white",
            "gridwidth": 2,
            "linecolor": "white",
            "showbackground": true,
            "ticks": "",
            "zerolinecolor": "white"
           }
          },
          "shapedefaults": {
           "line": {
            "color": "#2a3f5f"
           }
          },
          "ternary": {
           "aaxis": {
            "gridcolor": "white",
            "linecolor": "white",
            "ticks": ""
           },
           "baxis": {
            "gridcolor": "white",
            "linecolor": "white",
            "ticks": ""
           },
           "bgcolor": "#E5ECF6",
           "caxis": {
            "gridcolor": "white",
            "linecolor": "white",
            "ticks": ""
           }
          },
          "title": {
           "x": 0.05
          },
          "xaxis": {
           "automargin": true,
           "gridcolor": "white",
           "linecolor": "white",
           "ticks": "",
           "title": {
            "standoff": 15
           },
           "zerolinecolor": "white",
           "zerolinewidth": 2
          },
          "yaxis": {
           "automargin": true,
           "gridcolor": "white",
           "linecolor": "white",
           "ticks": "",
           "title": {
            "standoff": 15
           },
           "zerolinecolor": "white",
           "zerolinewidth": 2
          }
         }
        },
        "xaxis": {
         "anchor": "y",
         "domain": [
          0,
          1
         ],
         "title": {
          "text": "Life Expectancy"
         }
        },
        "yaxis": {
         "anchor": "x",
         "domain": [
          0,
          1
         ],
         "title": {
          "text": "GDP"
         }
        }
       }
      }
     },
     "metadata": {},
     "output_type": "display_data"
    }
   ],
   "source": [
    "fig = px.scatter(df, x=\"Life Expectancy\", y=\"GDP\", color=\"Country Name\")\n",
    "fig.show()"
   ]
  },
  {
   "cell_type": "code",
   "execution_count": 227,
   "metadata": {},
   "outputs": [
    {
     "data": {
      "application/vnd.plotly.v1+json": {
       "config": {
        "plotlyServerURL": "https://plot.ly"
       },
       "data": [
        {
         "hovertemplate": "Country Name=United States<br>Life Expectancy=%{x}<br>GDP=%{y}<extra></extra>",
         "legendgroup": "United States",
         "marker": {
          "color": "#17becf",
          "symbol": "circle"
         },
         "mode": "markers",
         "name": "United States",
         "orientation": "v",
         "showlegend": true,
         "type": "scatter",
         "x": [
          69.7707317073171,
          70.2707317073171,
          70.119512195122,
          69.9170731707317,
          70.1658536585366,
          70.2146341463415,
          70.2121951219512,
          70.5609756097561,
          69.9512195121951,
          70.5073170731708,
          70.8073170731707,
          71.1073170731707,
          71.1560975609756,
          71.3560975609756,
          71.9560975609756,
          72.6048780487805,
          72.8560975609756,
          73.2560975609756,
          73.3560975609756,
          73.8048780487805,
          73.609756097561,
          74.009756097561,
          74.3609756097561,
          74.4634146341463,
          74.5634146341464,
          74.5634146341464,
          74.6146341463415,
          74.7658536585366,
          74.7658536585366,
          75.0170731707317,
          75.2146341463415,
          75.3658536585366,
          75.6170731707317,
          75.419512195122,
          75.619512195122,
          75.6219512195122,
          76.0268292682927,
          76.4292682926829,
          76.5804878048781,
          76.5829268292683,
          76.6365853658537,
          76.8365853658537,
          76.9365853658537,
          77.0365853658537,
          77.4878048780488,
          77.4878048780488,
          77.6878048780488,
          77.9878048780488,
          78.0390243902439,
          78.390243902439,
          78.5414634146342,
          78.6414634146341,
          78.7414634146342,
          78.7414634146342,
          78.8414634146341,
          78.690243902439,
          78.5390243902439,
          78.5390243902439,
          78.6390243902439,
          78.7878048780488,
          76.9804878048781,
          76.3292682926829,
          77.4341463414634
         ],
         "xaxis": "x",
         "y": [
          541988586206.897,
          561940310344.828,
          603639413793.103,
          637058551724.138,
          684144620689.655,
          741904862068.965,
          813032758620.69,
          859620034482.759,
          940225000000,
          1017438172413.79,
          1073303000000,
          1164850000000,
          1279110000000,
          1425376000000,
          1545243000000,
          1684904000000,
          1873412000000,
          2081826000000,
          2351599000000,
          2627333000000,
          2857307000000,
          3207041000000,
          3343789000000,
          3634038000000,
          4037613000000,
          4338979000000,
          4579631000000,
          4855215000000,
          5236438000000,
          5641580000000,
          5963144000000,
          6158129000000,
          6520327000000,
          6858559000000,
          7287236000000,
          7639749000000,
          8073122000000,
          8577552000000,
          9062817000000,
          9631172000000,
          10250952000000,
          10581929000000,
          10929108000000,
          11456450000000,
          12217196000000,
          13039197000000,
          13815583000000,
          14474228000000,
          14769862000000,
          14478067000000,
          15048971000000,
          15599732000000,
          16253970000000,
          16880683000000,
          17608138000000,
          18295019000000,
          18804913000000,
          19612102000000,
          20656516000000,
          21521395000000,
          21322950000000,
          23594031000000,
          25744108000000
         ],
         "yaxis": "y"
        }
       ],
       "layout": {
        "legend": {
         "title": {
          "text": "Country Name"
         },
         "tracegroupgap": 0
        },
        "margin": {
         "t": 60
        },
        "template": {
         "data": {
          "bar": [
           {
            "error_x": {
             "color": "#2a3f5f"
            },
            "error_y": {
             "color": "#2a3f5f"
            },
            "marker": {
             "line": {
              "color": "#E5ECF6",
              "width": 0.5
             },
             "pattern": {
              "fillmode": "overlay",
              "size": 10,
              "solidity": 0.2
             }
            },
            "type": "bar"
           }
          ],
          "barpolar": [
           {
            "marker": {
             "line": {
              "color": "#E5ECF6",
              "width": 0.5
             },
             "pattern": {
              "fillmode": "overlay",
              "size": 10,
              "solidity": 0.2
             }
            },
            "type": "barpolar"
           }
          ],
          "carpet": [
           {
            "aaxis": {
             "endlinecolor": "#2a3f5f",
             "gridcolor": "white",
             "linecolor": "white",
             "minorgridcolor": "white",
             "startlinecolor": "#2a3f5f"
            },
            "baxis": {
             "endlinecolor": "#2a3f5f",
             "gridcolor": "white",
             "linecolor": "white",
             "minorgridcolor": "white",
             "startlinecolor": "#2a3f5f"
            },
            "type": "carpet"
           }
          ],
          "choropleth": [
           {
            "colorbar": {
             "outlinewidth": 0,
             "ticks": ""
            },
            "type": "choropleth"
           }
          ],
          "contour": [
           {
            "colorbar": {
             "outlinewidth": 0,
             "ticks": ""
            },
            "colorscale": [
             [
              0,
              "#0d0887"
             ],
             [
              0.1111111111111111,
              "#46039f"
             ],
             [
              0.2222222222222222,
              "#7201a8"
             ],
             [
              0.3333333333333333,
              "#9c179e"
             ],
             [
              0.4444444444444444,
              "#bd3786"
             ],
             [
              0.5555555555555556,
              "#d8576b"
             ],
             [
              0.6666666666666666,
              "#ed7953"
             ],
             [
              0.7777777777777778,
              "#fb9f3a"
             ],
             [
              0.8888888888888888,
              "#fdca26"
             ],
             [
              1,
              "#f0f921"
             ]
            ],
            "type": "contour"
           }
          ],
          "contourcarpet": [
           {
            "colorbar": {
             "outlinewidth": 0,
             "ticks": ""
            },
            "type": "contourcarpet"
           }
          ],
          "heatmap": [
           {
            "colorbar": {
             "outlinewidth": 0,
             "ticks": ""
            },
            "colorscale": [
             [
              0,
              "#0d0887"
             ],
             [
              0.1111111111111111,
              "#46039f"
             ],
             [
              0.2222222222222222,
              "#7201a8"
             ],
             [
              0.3333333333333333,
              "#9c179e"
             ],
             [
              0.4444444444444444,
              "#bd3786"
             ],
             [
              0.5555555555555556,
              "#d8576b"
             ],
             [
              0.6666666666666666,
              "#ed7953"
             ],
             [
              0.7777777777777778,
              "#fb9f3a"
             ],
             [
              0.8888888888888888,
              "#fdca26"
             ],
             [
              1,
              "#f0f921"
             ]
            ],
            "type": "heatmap"
           }
          ],
          "heatmapgl": [
           {
            "colorbar": {
             "outlinewidth": 0,
             "ticks": ""
            },
            "colorscale": [
             [
              0,
              "#0d0887"
             ],
             [
              0.1111111111111111,
              "#46039f"
             ],
             [
              0.2222222222222222,
              "#7201a8"
             ],
             [
              0.3333333333333333,
              "#9c179e"
             ],
             [
              0.4444444444444444,
              "#bd3786"
             ],
             [
              0.5555555555555556,
              "#d8576b"
             ],
             [
              0.6666666666666666,
              "#ed7953"
             ],
             [
              0.7777777777777778,
              "#fb9f3a"
             ],
             [
              0.8888888888888888,
              "#fdca26"
             ],
             [
              1,
              "#f0f921"
             ]
            ],
            "type": "heatmapgl"
           }
          ],
          "histogram": [
           {
            "marker": {
             "pattern": {
              "fillmode": "overlay",
              "size": 10,
              "solidity": 0.2
             }
            },
            "type": "histogram"
           }
          ],
          "histogram2d": [
           {
            "colorbar": {
             "outlinewidth": 0,
             "ticks": ""
            },
            "colorscale": [
             [
              0,
              "#0d0887"
             ],
             [
              0.1111111111111111,
              "#46039f"
             ],
             [
              0.2222222222222222,
              "#7201a8"
             ],
             [
              0.3333333333333333,
              "#9c179e"
             ],
             [
              0.4444444444444444,
              "#bd3786"
             ],
             [
              0.5555555555555556,
              "#d8576b"
             ],
             [
              0.6666666666666666,
              "#ed7953"
             ],
             [
              0.7777777777777778,
              "#fb9f3a"
             ],
             [
              0.8888888888888888,
              "#fdca26"
             ],
             [
              1,
              "#f0f921"
             ]
            ],
            "type": "histogram2d"
           }
          ],
          "histogram2dcontour": [
           {
            "colorbar": {
             "outlinewidth": 0,
             "ticks": ""
            },
            "colorscale": [
             [
              0,
              "#0d0887"
             ],
             [
              0.1111111111111111,
              "#46039f"
             ],
             [
              0.2222222222222222,
              "#7201a8"
             ],
             [
              0.3333333333333333,
              "#9c179e"
             ],
             [
              0.4444444444444444,
              "#bd3786"
             ],
             [
              0.5555555555555556,
              "#d8576b"
             ],
             [
              0.6666666666666666,
              "#ed7953"
             ],
             [
              0.7777777777777778,
              "#fb9f3a"
             ],
             [
              0.8888888888888888,
              "#fdca26"
             ],
             [
              1,
              "#f0f921"
             ]
            ],
            "type": "histogram2dcontour"
           }
          ],
          "mesh3d": [
           {
            "colorbar": {
             "outlinewidth": 0,
             "ticks": ""
            },
            "type": "mesh3d"
           }
          ],
          "parcoords": [
           {
            "line": {
             "colorbar": {
              "outlinewidth": 0,
              "ticks": ""
             }
            },
            "type": "parcoords"
           }
          ],
          "pie": [
           {
            "automargin": true,
            "type": "pie"
           }
          ],
          "scatter": [
           {
            "fillpattern": {
             "fillmode": "overlay",
             "size": 10,
             "solidity": 0.2
            },
            "type": "scatter"
           }
          ],
          "scatter3d": [
           {
            "line": {
             "colorbar": {
              "outlinewidth": 0,
              "ticks": ""
             }
            },
            "marker": {
             "colorbar": {
              "outlinewidth": 0,
              "ticks": ""
             }
            },
            "type": "scatter3d"
           }
          ],
          "scattercarpet": [
           {
            "marker": {
             "colorbar": {
              "outlinewidth": 0,
              "ticks": ""
             }
            },
            "type": "scattercarpet"
           }
          ],
          "scattergeo": [
           {
            "marker": {
             "colorbar": {
              "outlinewidth": 0,
              "ticks": ""
             }
            },
            "type": "scattergeo"
           }
          ],
          "scattergl": [
           {
            "marker": {
             "colorbar": {
              "outlinewidth": 0,
              "ticks": ""
             }
            },
            "type": "scattergl"
           }
          ],
          "scattermapbox": [
           {
            "marker": {
             "colorbar": {
              "outlinewidth": 0,
              "ticks": ""
             }
            },
            "type": "scattermapbox"
           }
          ],
          "scatterpolar": [
           {
            "marker": {
             "colorbar": {
              "outlinewidth": 0,
              "ticks": ""
             }
            },
            "type": "scatterpolar"
           }
          ],
          "scatterpolargl": [
           {
            "marker": {
             "colorbar": {
              "outlinewidth": 0,
              "ticks": ""
             }
            },
            "type": "scatterpolargl"
           }
          ],
          "scatterternary": [
           {
            "marker": {
             "colorbar": {
              "outlinewidth": 0,
              "ticks": ""
             }
            },
            "type": "scatterternary"
           }
          ],
          "surface": [
           {
            "colorbar": {
             "outlinewidth": 0,
             "ticks": ""
            },
            "colorscale": [
             [
              0,
              "#0d0887"
             ],
             [
              0.1111111111111111,
              "#46039f"
             ],
             [
              0.2222222222222222,
              "#7201a8"
             ],
             [
              0.3333333333333333,
              "#9c179e"
             ],
             [
              0.4444444444444444,
              "#bd3786"
             ],
             [
              0.5555555555555556,
              "#d8576b"
             ],
             [
              0.6666666666666666,
              "#ed7953"
             ],
             [
              0.7777777777777778,
              "#fb9f3a"
             ],
             [
              0.8888888888888888,
              "#fdca26"
             ],
             [
              1,
              "#f0f921"
             ]
            ],
            "type": "surface"
           }
          ],
          "table": [
           {
            "cells": {
             "fill": {
              "color": "#EBF0F8"
             },
             "line": {
              "color": "white"
             }
            },
            "header": {
             "fill": {
              "color": "#C8D4E3"
             },
             "line": {
              "color": "white"
             }
            },
            "type": "table"
           }
          ]
         },
         "layout": {
          "annotationdefaults": {
           "arrowcolor": "#2a3f5f",
           "arrowhead": 0,
           "arrowwidth": 1
          },
          "autotypenumbers": "strict",
          "coloraxis": {
           "colorbar": {
            "outlinewidth": 0,
            "ticks": ""
           }
          },
          "colorscale": {
           "diverging": [
            [
             0,
             "#8e0152"
            ],
            [
             0.1,
             "#c51b7d"
            ],
            [
             0.2,
             "#de77ae"
            ],
            [
             0.3,
             "#f1b6da"
            ],
            [
             0.4,
             "#fde0ef"
            ],
            [
             0.5,
             "#f7f7f7"
            ],
            [
             0.6,
             "#e6f5d0"
            ],
            [
             0.7,
             "#b8e186"
            ],
            [
             0.8,
             "#7fbc41"
            ],
            [
             0.9,
             "#4d9221"
            ],
            [
             1,
             "#276419"
            ]
           ],
           "sequential": [
            [
             0,
             "#0d0887"
            ],
            [
             0.1111111111111111,
             "#46039f"
            ],
            [
             0.2222222222222222,
             "#7201a8"
            ],
            [
             0.3333333333333333,
             "#9c179e"
            ],
            [
             0.4444444444444444,
             "#bd3786"
            ],
            [
             0.5555555555555556,
             "#d8576b"
            ],
            [
             0.6666666666666666,
             "#ed7953"
            ],
            [
             0.7777777777777778,
             "#fb9f3a"
            ],
            [
             0.8888888888888888,
             "#fdca26"
            ],
            [
             1,
             "#f0f921"
            ]
           ],
           "sequentialminus": [
            [
             0,
             "#0d0887"
            ],
            [
             0.1111111111111111,
             "#46039f"
            ],
            [
             0.2222222222222222,
             "#7201a8"
            ],
            [
             0.3333333333333333,
             "#9c179e"
            ],
            [
             0.4444444444444444,
             "#bd3786"
            ],
            [
             0.5555555555555556,
             "#d8576b"
            ],
            [
             0.6666666666666666,
             "#ed7953"
            ],
            [
             0.7777777777777778,
             "#fb9f3a"
            ],
            [
             0.8888888888888888,
             "#fdca26"
            ],
            [
             1,
             "#f0f921"
            ]
           ]
          },
          "colorway": [
           "#636efa",
           "#EF553B",
           "#00cc96",
           "#ab63fa",
           "#FFA15A",
           "#19d3f3",
           "#FF6692",
           "#B6E880",
           "#FF97FF",
           "#FECB52"
          ],
          "font": {
           "color": "#2a3f5f"
          },
          "geo": {
           "bgcolor": "white",
           "lakecolor": "white",
           "landcolor": "#E5ECF6",
           "showlakes": true,
           "showland": true,
           "subunitcolor": "white"
          },
          "hoverlabel": {
           "align": "left"
          },
          "hovermode": "closest",
          "mapbox": {
           "style": "light"
          },
          "paper_bgcolor": "white",
          "plot_bgcolor": "#E5ECF6",
          "polar": {
           "angularaxis": {
            "gridcolor": "white",
            "linecolor": "white",
            "ticks": ""
           },
           "bgcolor": "#E5ECF6",
           "radialaxis": {
            "gridcolor": "white",
            "linecolor": "white",
            "ticks": ""
           }
          },
          "scene": {
           "xaxis": {
            "backgroundcolor": "#E5ECF6",
            "gridcolor": "white",
            "gridwidth": 2,
            "linecolor": "white",
            "showbackground": true,
            "ticks": "",
            "zerolinecolor": "white"
           },
           "yaxis": {
            "backgroundcolor": "#E5ECF6",
            "gridcolor": "white",
            "gridwidth": 2,
            "linecolor": "white",
            "showbackground": true,
            "ticks": "",
            "zerolinecolor": "white"
           },
           "zaxis": {
            "backgroundcolor": "#E5ECF6",
            "gridcolor": "white",
            "gridwidth": 2,
            "linecolor": "white",
            "showbackground": true,
            "ticks": "",
            "zerolinecolor": "white"
           }
          },
          "shapedefaults": {
           "line": {
            "color": "#2a3f5f"
           }
          },
          "ternary": {
           "aaxis": {
            "gridcolor": "white",
            "linecolor": "white",
            "ticks": ""
           },
           "baxis": {
            "gridcolor": "white",
            "linecolor": "white",
            "ticks": ""
           },
           "bgcolor": "#E5ECF6",
           "caxis": {
            "gridcolor": "white",
            "linecolor": "white",
            "ticks": ""
           }
          },
          "title": {
           "x": 0.05
          },
          "xaxis": {
           "automargin": true,
           "gridcolor": "white",
           "linecolor": "white",
           "ticks": "",
           "title": {
            "standoff": 15
           },
           "zerolinecolor": "white",
           "zerolinewidth": 2
          },
          "yaxis": {
           "automargin": true,
           "gridcolor": "white",
           "linecolor": "white",
           "ticks": "",
           "title": {
            "standoff": 15
           },
           "zerolinecolor": "white",
           "zerolinewidth": 2
          }
         }
        },
        "xaxis": {
         "anchor": "y",
         "domain": [
          0,
          1
         ],
         "title": {
          "text": "Life Expectancy"
         }
        },
        "yaxis": {
         "anchor": "x",
         "domain": [
          0,
          1
         ],
         "title": {
          "text": "GDP"
         }
        }
       }
      }
     },
     "metadata": {},
     "output_type": "display_data"
    },
    {
     "name": "stdout",
     "output_type": "stream",
     "text": [
      "United States correlation: 0.8733998663254097\n",
      "United States pearson corr: 0.8733998663254099\n",
      "United States pearson pvalue: 1.0084064525724126e-20\n"
     ]
    },
    {
     "data": {
      "application/vnd.plotly.v1+json": {
       "config": {
        "plotlyServerURL": "https://plot.ly"
       },
       "data": [
        {
         "hovertemplate": "Country Name=China<br>Life Expectancy=%{x}<br>GDP=%{y}<extra></extra>",
         "legendgroup": "China",
         "marker": {
          "color": "#ff7f0e",
          "symbol": "circle"
         },
         "mode": "markers",
         "name": "China",
         "orientation": "v",
         "showlegend": true,
         "type": "scatter",
         "x": [
          33.275,
          40.468,
          50.818,
          51.408,
          52.156,
          52.912,
          53.637,
          54.351,
          55.057,
          55.738,
          56.607,
          57.565,
          58.418,
          59.389,
          60.168,
          60.917,
          61.796,
          62.538,
          63.218,
          63.865,
          64.42,
          64.975,
          65.463,
          65.904,
          66.3,
          66.643,
          66.97,
          67.288,
          67.581,
          67.838,
          68.005,
          68.169,
          68.734,
          69.216,
          69.52,
          70.008,
          70.266,
          70.672,
          71.172,
          71.419,
          71.881,
          72.606,
          72.985,
          73.371,
          73.748,
          74.111,
          74.504,
          74.762,
          74.872,
          75.343,
          75.599,
          75.903,
          76.192,
          76.452,
          76.717,
          76.977,
          77.218,
          77.248,
          77.744,
          77.968,
          78.077,
          78.211,
          78.587
         ],
         "xaxis": "x",
         "y": [
          59716249310.9742,
          50056685957.359,
          47209186415.3555,
          50706614526.1472,
          59708125203.8643,
          70436008642.4251,
          76720005491.8964,
          72881364882.4909,
          70846276051.4727,
          79705614854.7674,
          92602634891.6589,
          99800593790.9886,
          113689308020.343,
          138543170458.064,
          144188970821.072,
          163429530659.638,
          153939265947.775,
          174935933078.663,
          149540752829.268,
          178280594413.043,
          191149211575,
          195866382432.54,
          205089699858.779,
          230686747153.257,
          259946510957.143,
          309488028132.653,
          300758100107.246,
          272972974764.574,
          312353631207.819,
          347768051311.741,
          360857912565.966,
          383373318083.624,
          426915712715.856,
          444731282435.515,
          564321854521.013,
          734484834573.582,
          863749314718.538,
          961601980984.623,
          1029060747620.65,
          1094003874937.34,
          1211331651866.09,
          1339400897105.11,
          1470557654799.95,
          1660280543846.79,
          1955346768721.39,
          2285961149879.85,
          2752118657184.02,
          3550327802998.4,
          4594336785737.67,
          5101691124285.21,
          6087191746679.49,
          7551545703440.75,
          8532185381680.59,
          9570471111831.68,
          10475624944355.2,
          11061572618578.7,
          11233313730348.7,
          12310491333980.9,
          13894907857880.6,
          14279968506271.7,
          14687744162801,
          17820459508852.2,
          17881783387000.9
         ],
         "yaxis": "y"
        }
       ],
       "layout": {
        "legend": {
         "title": {
          "text": "Country Name"
         },
         "tracegroupgap": 0
        },
        "margin": {
         "t": 60
        },
        "template": {
         "data": {
          "bar": [
           {
            "error_x": {
             "color": "#2a3f5f"
            },
            "error_y": {
             "color": "#2a3f5f"
            },
            "marker": {
             "line": {
              "color": "#E5ECF6",
              "width": 0.5
             },
             "pattern": {
              "fillmode": "overlay",
              "size": 10,
              "solidity": 0.2
             }
            },
            "type": "bar"
           }
          ],
          "barpolar": [
           {
            "marker": {
             "line": {
              "color": "#E5ECF6",
              "width": 0.5
             },
             "pattern": {
              "fillmode": "overlay",
              "size": 10,
              "solidity": 0.2
             }
            },
            "type": "barpolar"
           }
          ],
          "carpet": [
           {
            "aaxis": {
             "endlinecolor": "#2a3f5f",
             "gridcolor": "white",
             "linecolor": "white",
             "minorgridcolor": "white",
             "startlinecolor": "#2a3f5f"
            },
            "baxis": {
             "endlinecolor": "#2a3f5f",
             "gridcolor": "white",
             "linecolor": "white",
             "minorgridcolor": "white",
             "startlinecolor": "#2a3f5f"
            },
            "type": "carpet"
           }
          ],
          "choropleth": [
           {
            "colorbar": {
             "outlinewidth": 0,
             "ticks": ""
            },
            "type": "choropleth"
           }
          ],
          "contour": [
           {
            "colorbar": {
             "outlinewidth": 0,
             "ticks": ""
            },
            "colorscale": [
             [
              0,
              "#0d0887"
             ],
             [
              0.1111111111111111,
              "#46039f"
             ],
             [
              0.2222222222222222,
              "#7201a8"
             ],
             [
              0.3333333333333333,
              "#9c179e"
             ],
             [
              0.4444444444444444,
              "#bd3786"
             ],
             [
              0.5555555555555556,
              "#d8576b"
             ],
             [
              0.6666666666666666,
              "#ed7953"
             ],
             [
              0.7777777777777778,
              "#fb9f3a"
             ],
             [
              0.8888888888888888,
              "#fdca26"
             ],
             [
              1,
              "#f0f921"
             ]
            ],
            "type": "contour"
           }
          ],
          "contourcarpet": [
           {
            "colorbar": {
             "outlinewidth": 0,
             "ticks": ""
            },
            "type": "contourcarpet"
           }
          ],
          "heatmap": [
           {
            "colorbar": {
             "outlinewidth": 0,
             "ticks": ""
            },
            "colorscale": [
             [
              0,
              "#0d0887"
             ],
             [
              0.1111111111111111,
              "#46039f"
             ],
             [
              0.2222222222222222,
              "#7201a8"
             ],
             [
              0.3333333333333333,
              "#9c179e"
             ],
             [
              0.4444444444444444,
              "#bd3786"
             ],
             [
              0.5555555555555556,
              "#d8576b"
             ],
             [
              0.6666666666666666,
              "#ed7953"
             ],
             [
              0.7777777777777778,
              "#fb9f3a"
             ],
             [
              0.8888888888888888,
              "#fdca26"
             ],
             [
              1,
              "#f0f921"
             ]
            ],
            "type": "heatmap"
           }
          ],
          "heatmapgl": [
           {
            "colorbar": {
             "outlinewidth": 0,
             "ticks": ""
            },
            "colorscale": [
             [
              0,
              "#0d0887"
             ],
             [
              0.1111111111111111,
              "#46039f"
             ],
             [
              0.2222222222222222,
              "#7201a8"
             ],
             [
              0.3333333333333333,
              "#9c179e"
             ],
             [
              0.4444444444444444,
              "#bd3786"
             ],
             [
              0.5555555555555556,
              "#d8576b"
             ],
             [
              0.6666666666666666,
              "#ed7953"
             ],
             [
              0.7777777777777778,
              "#fb9f3a"
             ],
             [
              0.8888888888888888,
              "#fdca26"
             ],
             [
              1,
              "#f0f921"
             ]
            ],
            "type": "heatmapgl"
           }
          ],
          "histogram": [
           {
            "marker": {
             "pattern": {
              "fillmode": "overlay",
              "size": 10,
              "solidity": 0.2
             }
            },
            "type": "histogram"
           }
          ],
          "histogram2d": [
           {
            "colorbar": {
             "outlinewidth": 0,
             "ticks": ""
            },
            "colorscale": [
             [
              0,
              "#0d0887"
             ],
             [
              0.1111111111111111,
              "#46039f"
             ],
             [
              0.2222222222222222,
              "#7201a8"
             ],
             [
              0.3333333333333333,
              "#9c179e"
             ],
             [
              0.4444444444444444,
              "#bd3786"
             ],
             [
              0.5555555555555556,
              "#d8576b"
             ],
             [
              0.6666666666666666,
              "#ed7953"
             ],
             [
              0.7777777777777778,
              "#fb9f3a"
             ],
             [
              0.8888888888888888,
              "#fdca26"
             ],
             [
              1,
              "#f0f921"
             ]
            ],
            "type": "histogram2d"
           }
          ],
          "histogram2dcontour": [
           {
            "colorbar": {
             "outlinewidth": 0,
             "ticks": ""
            },
            "colorscale": [
             [
              0,
              "#0d0887"
             ],
             [
              0.1111111111111111,
              "#46039f"
             ],
             [
              0.2222222222222222,
              "#7201a8"
             ],
             [
              0.3333333333333333,
              "#9c179e"
             ],
             [
              0.4444444444444444,
              "#bd3786"
             ],
             [
              0.5555555555555556,
              "#d8576b"
             ],
             [
              0.6666666666666666,
              "#ed7953"
             ],
             [
              0.7777777777777778,
              "#fb9f3a"
             ],
             [
              0.8888888888888888,
              "#fdca26"
             ],
             [
              1,
              "#f0f921"
             ]
            ],
            "type": "histogram2dcontour"
           }
          ],
          "mesh3d": [
           {
            "colorbar": {
             "outlinewidth": 0,
             "ticks": ""
            },
            "type": "mesh3d"
           }
          ],
          "parcoords": [
           {
            "line": {
             "colorbar": {
              "outlinewidth": 0,
              "ticks": ""
             }
            },
            "type": "parcoords"
           }
          ],
          "pie": [
           {
            "automargin": true,
            "type": "pie"
           }
          ],
          "scatter": [
           {
            "fillpattern": {
             "fillmode": "overlay",
             "size": 10,
             "solidity": 0.2
            },
            "type": "scatter"
           }
          ],
          "scatter3d": [
           {
            "line": {
             "colorbar": {
              "outlinewidth": 0,
              "ticks": ""
             }
            },
            "marker": {
             "colorbar": {
              "outlinewidth": 0,
              "ticks": ""
             }
            },
            "type": "scatter3d"
           }
          ],
          "scattercarpet": [
           {
            "marker": {
             "colorbar": {
              "outlinewidth": 0,
              "ticks": ""
             }
            },
            "type": "scattercarpet"
           }
          ],
          "scattergeo": [
           {
            "marker": {
             "colorbar": {
              "outlinewidth": 0,
              "ticks": ""
             }
            },
            "type": "scattergeo"
           }
          ],
          "scattergl": [
           {
            "marker": {
             "colorbar": {
              "outlinewidth": 0,
              "ticks": ""
             }
            },
            "type": "scattergl"
           }
          ],
          "scattermapbox": [
           {
            "marker": {
             "colorbar": {
              "outlinewidth": 0,
              "ticks": ""
             }
            },
            "type": "scattermapbox"
           }
          ],
          "scatterpolar": [
           {
            "marker": {
             "colorbar": {
              "outlinewidth": 0,
              "ticks": ""
             }
            },
            "type": "scatterpolar"
           }
          ],
          "scatterpolargl": [
           {
            "marker": {
             "colorbar": {
              "outlinewidth": 0,
              "ticks": ""
             }
            },
            "type": "scatterpolargl"
           }
          ],
          "scatterternary": [
           {
            "marker": {
             "colorbar": {
              "outlinewidth": 0,
              "ticks": ""
             }
            },
            "type": "scatterternary"
           }
          ],
          "surface": [
           {
            "colorbar": {
             "outlinewidth": 0,
             "ticks": ""
            },
            "colorscale": [
             [
              0,
              "#0d0887"
             ],
             [
              0.1111111111111111,
              "#46039f"
             ],
             [
              0.2222222222222222,
              "#7201a8"
             ],
             [
              0.3333333333333333,
              "#9c179e"
             ],
             [
              0.4444444444444444,
              "#bd3786"
             ],
             [
              0.5555555555555556,
              "#d8576b"
             ],
             [
              0.6666666666666666,
              "#ed7953"
             ],
             [
              0.7777777777777778,
              "#fb9f3a"
             ],
             [
              0.8888888888888888,
              "#fdca26"
             ],
             [
              1,
              "#f0f921"
             ]
            ],
            "type": "surface"
           }
          ],
          "table": [
           {
            "cells": {
             "fill": {
              "color": "#EBF0F8"
             },
             "line": {
              "color": "white"
             }
            },
            "header": {
             "fill": {
              "color": "#C8D4E3"
             },
             "line": {
              "color": "white"
             }
            },
            "type": "table"
           }
          ]
         },
         "layout": {
          "annotationdefaults": {
           "arrowcolor": "#2a3f5f",
           "arrowhead": 0,
           "arrowwidth": 1
          },
          "autotypenumbers": "strict",
          "coloraxis": {
           "colorbar": {
            "outlinewidth": 0,
            "ticks": ""
           }
          },
          "colorscale": {
           "diverging": [
            [
             0,
             "#8e0152"
            ],
            [
             0.1,
             "#c51b7d"
            ],
            [
             0.2,
             "#de77ae"
            ],
            [
             0.3,
             "#f1b6da"
            ],
            [
             0.4,
             "#fde0ef"
            ],
            [
             0.5,
             "#f7f7f7"
            ],
            [
             0.6,
             "#e6f5d0"
            ],
            [
             0.7,
             "#b8e186"
            ],
            [
             0.8,
             "#7fbc41"
            ],
            [
             0.9,
             "#4d9221"
            ],
            [
             1,
             "#276419"
            ]
           ],
           "sequential": [
            [
             0,
             "#0d0887"
            ],
            [
             0.1111111111111111,
             "#46039f"
            ],
            [
             0.2222222222222222,
             "#7201a8"
            ],
            [
             0.3333333333333333,
             "#9c179e"
            ],
            [
             0.4444444444444444,
             "#bd3786"
            ],
            [
             0.5555555555555556,
             "#d8576b"
            ],
            [
             0.6666666666666666,
             "#ed7953"
            ],
            [
             0.7777777777777778,
             "#fb9f3a"
            ],
            [
             0.8888888888888888,
             "#fdca26"
            ],
            [
             1,
             "#f0f921"
            ]
           ],
           "sequentialminus": [
            [
             0,
             "#0d0887"
            ],
            [
             0.1111111111111111,
             "#46039f"
            ],
            [
             0.2222222222222222,
             "#7201a8"
            ],
            [
             0.3333333333333333,
             "#9c179e"
            ],
            [
             0.4444444444444444,
             "#bd3786"
            ],
            [
             0.5555555555555556,
             "#d8576b"
            ],
            [
             0.6666666666666666,
             "#ed7953"
            ],
            [
             0.7777777777777778,
             "#fb9f3a"
            ],
            [
             0.8888888888888888,
             "#fdca26"
            ],
            [
             1,
             "#f0f921"
            ]
           ]
          },
          "colorway": [
           "#636efa",
           "#EF553B",
           "#00cc96",
           "#ab63fa",
           "#FFA15A",
           "#19d3f3",
           "#FF6692",
           "#B6E880",
           "#FF97FF",
           "#FECB52"
          ],
          "font": {
           "color": "#2a3f5f"
          },
          "geo": {
           "bgcolor": "white",
           "lakecolor": "white",
           "landcolor": "#E5ECF6",
           "showlakes": true,
           "showland": true,
           "subunitcolor": "white"
          },
          "hoverlabel": {
           "align": "left"
          },
          "hovermode": "closest",
          "mapbox": {
           "style": "light"
          },
          "paper_bgcolor": "white",
          "plot_bgcolor": "#E5ECF6",
          "polar": {
           "angularaxis": {
            "gridcolor": "white",
            "linecolor": "white",
            "ticks": ""
           },
           "bgcolor": "#E5ECF6",
           "radialaxis": {
            "gridcolor": "white",
            "linecolor": "white",
            "ticks": ""
           }
          },
          "scene": {
           "xaxis": {
            "backgroundcolor": "#E5ECF6",
            "gridcolor": "white",
            "gridwidth": 2,
            "linecolor": "white",
            "showbackground": true,
            "ticks": "",
            "zerolinecolor": "white"
           },
           "yaxis": {
            "backgroundcolor": "#E5ECF6",
            "gridcolor": "white",
            "gridwidth": 2,
            "linecolor": "white",
            "showbackground": true,
            "ticks": "",
            "zerolinecolor": "white"
           },
           "zaxis": {
            "backgroundcolor": "#E5ECF6",
            "gridcolor": "white",
            "gridwidth": 2,
            "linecolor": "white",
            "showbackground": true,
            "ticks": "",
            "zerolinecolor": "white"
           }
          },
          "shapedefaults": {
           "line": {
            "color": "#2a3f5f"
           }
          },
          "ternary": {
           "aaxis": {
            "gridcolor": "white",
            "linecolor": "white",
            "ticks": ""
           },
           "baxis": {
            "gridcolor": "white",
            "linecolor": "white",
            "ticks": ""
           },
           "bgcolor": "#E5ECF6",
           "caxis": {
            "gridcolor": "white",
            "linecolor": "white",
            "ticks": ""
           }
          },
          "title": {
           "x": 0.05
          },
          "xaxis": {
           "automargin": true,
           "gridcolor": "white",
           "linecolor": "white",
           "ticks": "",
           "title": {
            "standoff": 15
           },
           "zerolinecolor": "white",
           "zerolinewidth": 2
          },
          "yaxis": {
           "automargin": true,
           "gridcolor": "white",
           "linecolor": "white",
           "ticks": "",
           "title": {
            "standoff": 15
           },
           "zerolinecolor": "white",
           "zerolinewidth": 2
          }
         }
        },
        "xaxis": {
         "anchor": "y",
         "domain": [
          0,
          1
         ],
         "title": {
          "text": "Life Expectancy"
         }
        },
        "yaxis": {
         "anchor": "x",
         "domain": [
          0,
          1
         ],
         "title": {
          "text": "GDP"
         }
        }
       }
      }
     },
     "metadata": {},
     "output_type": "display_data"
    },
    {
     "name": "stdout",
     "output_type": "stream",
     "text": [
      "China correlation: 0.6256033408048534\n",
      "China pearson corr: 0.6256033408048536\n",
      "China pearson pvalue: 4.203590353006337e-08\n"
     ]
    },
    {
     "data": {
      "application/vnd.plotly.v1+json": {
       "config": {
        "plotlyServerURL": "https://plot.ly"
       },
       "data": [
        {
         "hovertemplate": "Country Name=United Kingdom<br>Life Expectancy=%{x}<br>GDP=%{y}<extra></extra>",
         "legendgroup": "United Kingdom",
         "marker": {
          "color": "#2ca02c",
          "symbol": "circle"
         },
         "mode": "markers",
         "name": "United Kingdom",
         "orientation": "v",
         "showlegend": true,
         "type": "scatter",
         "x": [
          71.1268292682927,
          70.8780487804878,
          70.9268292682927,
          70.8268292682927,
          71.6243902439024,
          71.6243902439024,
          71.5731707317073,
          72.1243902439024,
          71.7243902439025,
          71.7219512195122,
          71.9731707317073,
          72.2731707317073,
          72.1243902439024,
          72.3243902439024,
          72.5243902439024,
          72.7243902439024,
          72.7756097560976,
          73.2243902439024,
          73.1756097560976,
          73.2756097560976,
          73.6756097560976,
          74.0268292682927,
          74.1780487804878,
          74.3780487804878,
          74.7780487804878,
          74.6292682926829,
          74.9292682926829,
          75.280487804878,
          75.3804878048781,
          75.5829268292683,
          75.8804878048781,
          76.0829268292683,
          76.4341463414634,
          76.3853658536585,
          76.8853658536585,
          76.8365853658537,
          77.0878048780488,
          77.2109756097561,
          77.190243902439,
          77.390243902439,
          77.7414634146342,
          77.9926829268293,
          78.1439024390244,
          78.4463414634146,
          78.7463414634146,
          79.0487804878049,
          79.2487804878049,
          79.4487804878049,
          79.6,
          80.0512195121951,
          80.4024390243902,
          80.9512195121951,
          80.9048780487805,
          81.0048780487805,
          81.3048780487805,
          80.9560975609756,
          81.1560975609756,
          81.2560975609756,
          81.2560975609756,
          81.4048780487805,
          80.3512195121951,
          80.7,
          82.0585365853659
         ],
         "xaxis": "x",
         "y": [
          73233967692.1028,
          77741965703.3544,
          81247564156.8246,
          86561961812.3249,
          94407558351.1616,
          101824755078.991,
          108572752102.045,
          113116888210.787,
          107759910067.889,
          116464702803.218,
          130671946244.3,
          148113896325.14,
          169965034965.035,
          192537971582.558,
          206131369798.971,
          241756637168.142,
          232614555256.065,
          263066457352.172,
          335883029721.956,
          438994070309.191,
          564947710899.373,
          540765675241.158,
          515048916841.37,
          489618008185.539,
          461487097632.349,
          489285164271.047,
          601452653180.885,
          745162608269.325,
          910122732123.799,
          926884816753.927,
          1093169389204.55,
          1142797178130.51,
          1179659529659.53,
          1061388722255.55,
          1140489745944.29,
          1344240176739.78,
          1419645865834.63,
          1560911918795.02,
          1653694932096.72,
          1687830448147.55,
          1665534876683.31,
          1649827263567.01,
          1785729916067.15,
          2054422857142.86,
          2421525082387.4,
          2543180000000,
          2708441582336.71,
          3090510204081.63,
          2929411764705.88,
          2412840006231.5,
          2485482596184.71,
          2663805834828.07,
          2707089726614.64,
          2784853502534.29,
          3064708247921.43,
          2927911140916.73,
          2689106566899.61,
          2680148052335.3,
          2871340347581.79,
          2851407164907.81,
          2697806592293.86,
          3141506156618.7,
          3088839763445.02
         ],
         "yaxis": "y"
        }
       ],
       "layout": {
        "legend": {
         "title": {
          "text": "Country Name"
         },
         "tracegroupgap": 0
        },
        "margin": {
         "t": 60
        },
        "template": {
         "data": {
          "bar": [
           {
            "error_x": {
             "color": "#2a3f5f"
            },
            "error_y": {
             "color": "#2a3f5f"
            },
            "marker": {
             "line": {
              "color": "#E5ECF6",
              "width": 0.5
             },
             "pattern": {
              "fillmode": "overlay",
              "size": 10,
              "solidity": 0.2
             }
            },
            "type": "bar"
           }
          ],
          "barpolar": [
           {
            "marker": {
             "line": {
              "color": "#E5ECF6",
              "width": 0.5
             },
             "pattern": {
              "fillmode": "overlay",
              "size": 10,
              "solidity": 0.2
             }
            },
            "type": "barpolar"
           }
          ],
          "carpet": [
           {
            "aaxis": {
             "endlinecolor": "#2a3f5f",
             "gridcolor": "white",
             "linecolor": "white",
             "minorgridcolor": "white",
             "startlinecolor": "#2a3f5f"
            },
            "baxis": {
             "endlinecolor": "#2a3f5f",
             "gridcolor": "white",
             "linecolor": "white",
             "minorgridcolor": "white",
             "startlinecolor": "#2a3f5f"
            },
            "type": "carpet"
           }
          ],
          "choropleth": [
           {
            "colorbar": {
             "outlinewidth": 0,
             "ticks": ""
            },
            "type": "choropleth"
           }
          ],
          "contour": [
           {
            "colorbar": {
             "outlinewidth": 0,
             "ticks": ""
            },
            "colorscale": [
             [
              0,
              "#0d0887"
             ],
             [
              0.1111111111111111,
              "#46039f"
             ],
             [
              0.2222222222222222,
              "#7201a8"
             ],
             [
              0.3333333333333333,
              "#9c179e"
             ],
             [
              0.4444444444444444,
              "#bd3786"
             ],
             [
              0.5555555555555556,
              "#d8576b"
             ],
             [
              0.6666666666666666,
              "#ed7953"
             ],
             [
              0.7777777777777778,
              "#fb9f3a"
             ],
             [
              0.8888888888888888,
              "#fdca26"
             ],
             [
              1,
              "#f0f921"
             ]
            ],
            "type": "contour"
           }
          ],
          "contourcarpet": [
           {
            "colorbar": {
             "outlinewidth": 0,
             "ticks": ""
            },
            "type": "contourcarpet"
           }
          ],
          "heatmap": [
           {
            "colorbar": {
             "outlinewidth": 0,
             "ticks": ""
            },
            "colorscale": [
             [
              0,
              "#0d0887"
             ],
             [
              0.1111111111111111,
              "#46039f"
             ],
             [
              0.2222222222222222,
              "#7201a8"
             ],
             [
              0.3333333333333333,
              "#9c179e"
             ],
             [
              0.4444444444444444,
              "#bd3786"
             ],
             [
              0.5555555555555556,
              "#d8576b"
             ],
             [
              0.6666666666666666,
              "#ed7953"
             ],
             [
              0.7777777777777778,
              "#fb9f3a"
             ],
             [
              0.8888888888888888,
              "#fdca26"
             ],
             [
              1,
              "#f0f921"
             ]
            ],
            "type": "heatmap"
           }
          ],
          "heatmapgl": [
           {
            "colorbar": {
             "outlinewidth": 0,
             "ticks": ""
            },
            "colorscale": [
             [
              0,
              "#0d0887"
             ],
             [
              0.1111111111111111,
              "#46039f"
             ],
             [
              0.2222222222222222,
              "#7201a8"
             ],
             [
              0.3333333333333333,
              "#9c179e"
             ],
             [
              0.4444444444444444,
              "#bd3786"
             ],
             [
              0.5555555555555556,
              "#d8576b"
             ],
             [
              0.6666666666666666,
              "#ed7953"
             ],
             [
              0.7777777777777778,
              "#fb9f3a"
             ],
             [
              0.8888888888888888,
              "#fdca26"
             ],
             [
              1,
              "#f0f921"
             ]
            ],
            "type": "heatmapgl"
           }
          ],
          "histogram": [
           {
            "marker": {
             "pattern": {
              "fillmode": "overlay",
              "size": 10,
              "solidity": 0.2
             }
            },
            "type": "histogram"
           }
          ],
          "histogram2d": [
           {
            "colorbar": {
             "outlinewidth": 0,
             "ticks": ""
            },
            "colorscale": [
             [
              0,
              "#0d0887"
             ],
             [
              0.1111111111111111,
              "#46039f"
             ],
             [
              0.2222222222222222,
              "#7201a8"
             ],
             [
              0.3333333333333333,
              "#9c179e"
             ],
             [
              0.4444444444444444,
              "#bd3786"
             ],
             [
              0.5555555555555556,
              "#d8576b"
             ],
             [
              0.6666666666666666,
              "#ed7953"
             ],
             [
              0.7777777777777778,
              "#fb9f3a"
             ],
             [
              0.8888888888888888,
              "#fdca26"
             ],
             [
              1,
              "#f0f921"
             ]
            ],
            "type": "histogram2d"
           }
          ],
          "histogram2dcontour": [
           {
            "colorbar": {
             "outlinewidth": 0,
             "ticks": ""
            },
            "colorscale": [
             [
              0,
              "#0d0887"
             ],
             [
              0.1111111111111111,
              "#46039f"
             ],
             [
              0.2222222222222222,
              "#7201a8"
             ],
             [
              0.3333333333333333,
              "#9c179e"
             ],
             [
              0.4444444444444444,
              "#bd3786"
             ],
             [
              0.5555555555555556,
              "#d8576b"
             ],
             [
              0.6666666666666666,
              "#ed7953"
             ],
             [
              0.7777777777777778,
              "#fb9f3a"
             ],
             [
              0.8888888888888888,
              "#fdca26"
             ],
             [
              1,
              "#f0f921"
             ]
            ],
            "type": "histogram2dcontour"
           }
          ],
          "mesh3d": [
           {
            "colorbar": {
             "outlinewidth": 0,
             "ticks": ""
            },
            "type": "mesh3d"
           }
          ],
          "parcoords": [
           {
            "line": {
             "colorbar": {
              "outlinewidth": 0,
              "ticks": ""
             }
            },
            "type": "parcoords"
           }
          ],
          "pie": [
           {
            "automargin": true,
            "type": "pie"
           }
          ],
          "scatter": [
           {
            "fillpattern": {
             "fillmode": "overlay",
             "size": 10,
             "solidity": 0.2
            },
            "type": "scatter"
           }
          ],
          "scatter3d": [
           {
            "line": {
             "colorbar": {
              "outlinewidth": 0,
              "ticks": ""
             }
            },
            "marker": {
             "colorbar": {
              "outlinewidth": 0,
              "ticks": ""
             }
            },
            "type": "scatter3d"
           }
          ],
          "scattercarpet": [
           {
            "marker": {
             "colorbar": {
              "outlinewidth": 0,
              "ticks": ""
             }
            },
            "type": "scattercarpet"
           }
          ],
          "scattergeo": [
           {
            "marker": {
             "colorbar": {
              "outlinewidth": 0,
              "ticks": ""
             }
            },
            "type": "scattergeo"
           }
          ],
          "scattergl": [
           {
            "marker": {
             "colorbar": {
              "outlinewidth": 0,
              "ticks": ""
             }
            },
            "type": "scattergl"
           }
          ],
          "scattermapbox": [
           {
            "marker": {
             "colorbar": {
              "outlinewidth": 0,
              "ticks": ""
             }
            },
            "type": "scattermapbox"
           }
          ],
          "scatterpolar": [
           {
            "marker": {
             "colorbar": {
              "outlinewidth": 0,
              "ticks": ""
             }
            },
            "type": "scatterpolar"
           }
          ],
          "scatterpolargl": [
           {
            "marker": {
             "colorbar": {
              "outlinewidth": 0,
              "ticks": ""
             }
            },
            "type": "scatterpolargl"
           }
          ],
          "scatterternary": [
           {
            "marker": {
             "colorbar": {
              "outlinewidth": 0,
              "ticks": ""
             }
            },
            "type": "scatterternary"
           }
          ],
          "surface": [
           {
            "colorbar": {
             "outlinewidth": 0,
             "ticks": ""
            },
            "colorscale": [
             [
              0,
              "#0d0887"
             ],
             [
              0.1111111111111111,
              "#46039f"
             ],
             [
              0.2222222222222222,
              "#7201a8"
             ],
             [
              0.3333333333333333,
              "#9c179e"
             ],
             [
              0.4444444444444444,
              "#bd3786"
             ],
             [
              0.5555555555555556,
              "#d8576b"
             ],
             [
              0.6666666666666666,
              "#ed7953"
             ],
             [
              0.7777777777777778,
              "#fb9f3a"
             ],
             [
              0.8888888888888888,
              "#fdca26"
             ],
             [
              1,
              "#f0f921"
             ]
            ],
            "type": "surface"
           }
          ],
          "table": [
           {
            "cells": {
             "fill": {
              "color": "#EBF0F8"
             },
             "line": {
              "color": "white"
             }
            },
            "header": {
             "fill": {
              "color": "#C8D4E3"
             },
             "line": {
              "color": "white"
             }
            },
            "type": "table"
           }
          ]
         },
         "layout": {
          "annotationdefaults": {
           "arrowcolor": "#2a3f5f",
           "arrowhead": 0,
           "arrowwidth": 1
          },
          "autotypenumbers": "strict",
          "coloraxis": {
           "colorbar": {
            "outlinewidth": 0,
            "ticks": ""
           }
          },
          "colorscale": {
           "diverging": [
            [
             0,
             "#8e0152"
            ],
            [
             0.1,
             "#c51b7d"
            ],
            [
             0.2,
             "#de77ae"
            ],
            [
             0.3,
             "#f1b6da"
            ],
            [
             0.4,
             "#fde0ef"
            ],
            [
             0.5,
             "#f7f7f7"
            ],
            [
             0.6,
             "#e6f5d0"
            ],
            [
             0.7,
             "#b8e186"
            ],
            [
             0.8,
             "#7fbc41"
            ],
            [
             0.9,
             "#4d9221"
            ],
            [
             1,
             "#276419"
            ]
           ],
           "sequential": [
            [
             0,
             "#0d0887"
            ],
            [
             0.1111111111111111,
             "#46039f"
            ],
            [
             0.2222222222222222,
             "#7201a8"
            ],
            [
             0.3333333333333333,
             "#9c179e"
            ],
            [
             0.4444444444444444,
             "#bd3786"
            ],
            [
             0.5555555555555556,
             "#d8576b"
            ],
            [
             0.6666666666666666,
             "#ed7953"
            ],
            [
             0.7777777777777778,
             "#fb9f3a"
            ],
            [
             0.8888888888888888,
             "#fdca26"
            ],
            [
             1,
             "#f0f921"
            ]
           ],
           "sequentialminus": [
            [
             0,
             "#0d0887"
            ],
            [
             0.1111111111111111,
             "#46039f"
            ],
            [
             0.2222222222222222,
             "#7201a8"
            ],
            [
             0.3333333333333333,
             "#9c179e"
            ],
            [
             0.4444444444444444,
             "#bd3786"
            ],
            [
             0.5555555555555556,
             "#d8576b"
            ],
            [
             0.6666666666666666,
             "#ed7953"
            ],
            [
             0.7777777777777778,
             "#fb9f3a"
            ],
            [
             0.8888888888888888,
             "#fdca26"
            ],
            [
             1,
             "#f0f921"
            ]
           ]
          },
          "colorway": [
           "#636efa",
           "#EF553B",
           "#00cc96",
           "#ab63fa",
           "#FFA15A",
           "#19d3f3",
           "#FF6692",
           "#B6E880",
           "#FF97FF",
           "#FECB52"
          ],
          "font": {
           "color": "#2a3f5f"
          },
          "geo": {
           "bgcolor": "white",
           "lakecolor": "white",
           "landcolor": "#E5ECF6",
           "showlakes": true,
           "showland": true,
           "subunitcolor": "white"
          },
          "hoverlabel": {
           "align": "left"
          },
          "hovermode": "closest",
          "mapbox": {
           "style": "light"
          },
          "paper_bgcolor": "white",
          "plot_bgcolor": "#E5ECF6",
          "polar": {
           "angularaxis": {
            "gridcolor": "white",
            "linecolor": "white",
            "ticks": ""
           },
           "bgcolor": "#E5ECF6",
           "radialaxis": {
            "gridcolor": "white",
            "linecolor": "white",
            "ticks": ""
           }
          },
          "scene": {
           "xaxis": {
            "backgroundcolor": "#E5ECF6",
            "gridcolor": "white",
            "gridwidth": 2,
            "linecolor": "white",
            "showbackground": true,
            "ticks": "",
            "zerolinecolor": "white"
           },
           "yaxis": {
            "backgroundcolor": "#E5ECF6",
            "gridcolor": "white",
            "gridwidth": 2,
            "linecolor": "white",
            "showbackground": true,
            "ticks": "",
            "zerolinecolor": "white"
           },
           "zaxis": {
            "backgroundcolor": "#E5ECF6",
            "gridcolor": "white",
            "gridwidth": 2,
            "linecolor": "white",
            "showbackground": true,
            "ticks": "",
            "zerolinecolor": "white"
           }
          },
          "shapedefaults": {
           "line": {
            "color": "#2a3f5f"
           }
          },
          "ternary": {
           "aaxis": {
            "gridcolor": "white",
            "linecolor": "white",
            "ticks": ""
           },
           "baxis": {
            "gridcolor": "white",
            "linecolor": "white",
            "ticks": ""
           },
           "bgcolor": "#E5ECF6",
           "caxis": {
            "gridcolor": "white",
            "linecolor": "white",
            "ticks": ""
           }
          },
          "title": {
           "x": 0.05
          },
          "xaxis": {
           "automargin": true,
           "gridcolor": "white",
           "linecolor": "white",
           "ticks": "",
           "title": {
            "standoff": 15
           },
           "zerolinecolor": "white",
           "zerolinewidth": 2
          },
          "yaxis": {
           "automargin": true,
           "gridcolor": "white",
           "linecolor": "white",
           "ticks": "",
           "title": {
            "standoff": 15
           },
           "zerolinecolor": "white",
           "zerolinewidth": 2
          }
         }
        },
        "xaxis": {
         "anchor": "y",
         "domain": [
          0,
          1
         ],
         "title": {
          "text": "Life Expectancy"
         }
        },
        "yaxis": {
         "anchor": "x",
         "domain": [
          0,
          1
         ],
         "title": {
          "text": "GDP"
         }
        }
       }
      }
     },
     "metadata": {},
     "output_type": "display_data"
    },
    {
     "name": "stdout",
     "output_type": "stream",
     "text": [
      "United Kingdom correlation: 0.9753399701880273\n",
      "United Kingdom pearson corr: 0.9753399701880278\n",
      "United Kingdom pearson pvalue: 9.791927542132303e-42\n"
     ]
    },
    {
     "data": {
      "application/vnd.plotly.v1+json": {
       "config": {
        "plotlyServerURL": "https://plot.ly"
       },
       "data": [
        {
         "hovertemplate": "Country Name=Mexico<br>Life Expectancy=%{x}<br>GDP=%{y}<extra></extra>",
         "legendgroup": "Mexico",
         "marker": {
          "color": "#9467bd",
          "symbol": "circle"
         },
         "mode": "markers",
         "name": "Mexico",
         "orientation": "v",
         "showlegend": true,
         "type": "scatter",
         "x": [
          55.017,
          55.831,
          56.599,
          57.31,
          57.947,
          58.499,
          58.981,
          59.42,
          59.835,
          60.25,
          60.69,
          61.155,
          61.614,
          62.055,
          62.459,
          62.81,
          63.123,
          63.434,
          63.778,
          64.189,
          64.703,
          65.313,
          65.975,
          66.644,
          67.29,
          67.874,
          68.388,
          68.844,
          69.253,
          69.623,
          69.971,
          70.298,
          70.616,
          70.942,
          71.279,
          71.646,
          72.037,
          72.445,
          72.845,
          73.225,
          73.569,
          73.867,
          74.106,
          74.274,
          74.372,
          74.376,
          74.331,
          74.238,
          74.152,
          74.119,
          74.19,
          74.365,
          74.574,
          74.739,
          74.797,
          74.682,
          74.412,
          74.138,
          74.015,
          74.202,
          70.133,
          70.213,
          74.832
         ],
         "xaxis": "x",
         "y": [
          13040000000,
          14160000000,
          15200000000,
          16960000000,
          20080000000,
          21840000000,
          24320000000,
          26560000000,
          29360000000,
          32480000000,
          35520000000,
          39200000000,
          45200000000,
          55280000000,
          72000000000,
          88000000000,
          88875923765.072,
          81912018783.5024,
          102648570299.117,
          134531900898.926,
          205577055465.993,
          263797827860.494,
          184602611609.517,
          156167000432.994,
          184230754105.394,
          195241069482.077,
          134556034672.991,
          147542558208.888,
          181611150496.787,
          221403098266.77,
          261253675692.838,
          313139656145.745,
          363157832923.734,
          530160763983.506,
          553618247900.74,
          380157469866.849,
          432157945024.428,
          523449530464.257,
          557461102630.658,
          631249359702.389,
          742061329643.37,
          796064590656.176,
          810666116505.478,
          765549967703.273,
          819459227375.022,
          917571853529.104,
          1020265057882.01,
          1102355554971.95,
          1161553459715.1,
          943437415024.633,
          1105424238731.09,
          1229013703416.76,
          1255110424817.79,
          1327436290282.67,
          1364507717614.13,
          1213294467716.88,
          1112233497452.7,
          1190721475906,
          1256300182879.73,
          1305211135822.61,
          1120832412468.85,
          1313069763986.6,
          1463323889036.56
         ],
         "yaxis": "y"
        }
       ],
       "layout": {
        "legend": {
         "title": {
          "text": "Country Name"
         },
         "tracegroupgap": 0
        },
        "margin": {
         "t": 60
        },
        "template": {
         "data": {
          "bar": [
           {
            "error_x": {
             "color": "#2a3f5f"
            },
            "error_y": {
             "color": "#2a3f5f"
            },
            "marker": {
             "line": {
              "color": "#E5ECF6",
              "width": 0.5
             },
             "pattern": {
              "fillmode": "overlay",
              "size": 10,
              "solidity": 0.2
             }
            },
            "type": "bar"
           }
          ],
          "barpolar": [
           {
            "marker": {
             "line": {
              "color": "#E5ECF6",
              "width": 0.5
             },
             "pattern": {
              "fillmode": "overlay",
              "size": 10,
              "solidity": 0.2
             }
            },
            "type": "barpolar"
           }
          ],
          "carpet": [
           {
            "aaxis": {
             "endlinecolor": "#2a3f5f",
             "gridcolor": "white",
             "linecolor": "white",
             "minorgridcolor": "white",
             "startlinecolor": "#2a3f5f"
            },
            "baxis": {
             "endlinecolor": "#2a3f5f",
             "gridcolor": "white",
             "linecolor": "white",
             "minorgridcolor": "white",
             "startlinecolor": "#2a3f5f"
            },
            "type": "carpet"
           }
          ],
          "choropleth": [
           {
            "colorbar": {
             "outlinewidth": 0,
             "ticks": ""
            },
            "type": "choropleth"
           }
          ],
          "contour": [
           {
            "colorbar": {
             "outlinewidth": 0,
             "ticks": ""
            },
            "colorscale": [
             [
              0,
              "#0d0887"
             ],
             [
              0.1111111111111111,
              "#46039f"
             ],
             [
              0.2222222222222222,
              "#7201a8"
             ],
             [
              0.3333333333333333,
              "#9c179e"
             ],
             [
              0.4444444444444444,
              "#bd3786"
             ],
             [
              0.5555555555555556,
              "#d8576b"
             ],
             [
              0.6666666666666666,
              "#ed7953"
             ],
             [
              0.7777777777777778,
              "#fb9f3a"
             ],
             [
              0.8888888888888888,
              "#fdca26"
             ],
             [
              1,
              "#f0f921"
             ]
            ],
            "type": "contour"
           }
          ],
          "contourcarpet": [
           {
            "colorbar": {
             "outlinewidth": 0,
             "ticks": ""
            },
            "type": "contourcarpet"
           }
          ],
          "heatmap": [
           {
            "colorbar": {
             "outlinewidth": 0,
             "ticks": ""
            },
            "colorscale": [
             [
              0,
              "#0d0887"
             ],
             [
              0.1111111111111111,
              "#46039f"
             ],
             [
              0.2222222222222222,
              "#7201a8"
             ],
             [
              0.3333333333333333,
              "#9c179e"
             ],
             [
              0.4444444444444444,
              "#bd3786"
             ],
             [
              0.5555555555555556,
              "#d8576b"
             ],
             [
              0.6666666666666666,
              "#ed7953"
             ],
             [
              0.7777777777777778,
              "#fb9f3a"
             ],
             [
              0.8888888888888888,
              "#fdca26"
             ],
             [
              1,
              "#f0f921"
             ]
            ],
            "type": "heatmap"
           }
          ],
          "heatmapgl": [
           {
            "colorbar": {
             "outlinewidth": 0,
             "ticks": ""
            },
            "colorscale": [
             [
              0,
              "#0d0887"
             ],
             [
              0.1111111111111111,
              "#46039f"
             ],
             [
              0.2222222222222222,
              "#7201a8"
             ],
             [
              0.3333333333333333,
              "#9c179e"
             ],
             [
              0.4444444444444444,
              "#bd3786"
             ],
             [
              0.5555555555555556,
              "#d8576b"
             ],
             [
              0.6666666666666666,
              "#ed7953"
             ],
             [
              0.7777777777777778,
              "#fb9f3a"
             ],
             [
              0.8888888888888888,
              "#fdca26"
             ],
             [
              1,
              "#f0f921"
             ]
            ],
            "type": "heatmapgl"
           }
          ],
          "histogram": [
           {
            "marker": {
             "pattern": {
              "fillmode": "overlay",
              "size": 10,
              "solidity": 0.2
             }
            },
            "type": "histogram"
           }
          ],
          "histogram2d": [
           {
            "colorbar": {
             "outlinewidth": 0,
             "ticks": ""
            },
            "colorscale": [
             [
              0,
              "#0d0887"
             ],
             [
              0.1111111111111111,
              "#46039f"
             ],
             [
              0.2222222222222222,
              "#7201a8"
             ],
             [
              0.3333333333333333,
              "#9c179e"
             ],
             [
              0.4444444444444444,
              "#bd3786"
             ],
             [
              0.5555555555555556,
              "#d8576b"
             ],
             [
              0.6666666666666666,
              "#ed7953"
             ],
             [
              0.7777777777777778,
              "#fb9f3a"
             ],
             [
              0.8888888888888888,
              "#fdca26"
             ],
             [
              1,
              "#f0f921"
             ]
            ],
            "type": "histogram2d"
           }
          ],
          "histogram2dcontour": [
           {
            "colorbar": {
             "outlinewidth": 0,
             "ticks": ""
            },
            "colorscale": [
             [
              0,
              "#0d0887"
             ],
             [
              0.1111111111111111,
              "#46039f"
             ],
             [
              0.2222222222222222,
              "#7201a8"
             ],
             [
              0.3333333333333333,
              "#9c179e"
             ],
             [
              0.4444444444444444,
              "#bd3786"
             ],
             [
              0.5555555555555556,
              "#d8576b"
             ],
             [
              0.6666666666666666,
              "#ed7953"
             ],
             [
              0.7777777777777778,
              "#fb9f3a"
             ],
             [
              0.8888888888888888,
              "#fdca26"
             ],
             [
              1,
              "#f0f921"
             ]
            ],
            "type": "histogram2dcontour"
           }
          ],
          "mesh3d": [
           {
            "colorbar": {
             "outlinewidth": 0,
             "ticks": ""
            },
            "type": "mesh3d"
           }
          ],
          "parcoords": [
           {
            "line": {
             "colorbar": {
              "outlinewidth": 0,
              "ticks": ""
             }
            },
            "type": "parcoords"
           }
          ],
          "pie": [
           {
            "automargin": true,
            "type": "pie"
           }
          ],
          "scatter": [
           {
            "fillpattern": {
             "fillmode": "overlay",
             "size": 10,
             "solidity": 0.2
            },
            "type": "scatter"
           }
          ],
          "scatter3d": [
           {
            "line": {
             "colorbar": {
              "outlinewidth": 0,
              "ticks": ""
             }
            },
            "marker": {
             "colorbar": {
              "outlinewidth": 0,
              "ticks": ""
             }
            },
            "type": "scatter3d"
           }
          ],
          "scattercarpet": [
           {
            "marker": {
             "colorbar": {
              "outlinewidth": 0,
              "ticks": ""
             }
            },
            "type": "scattercarpet"
           }
          ],
          "scattergeo": [
           {
            "marker": {
             "colorbar": {
              "outlinewidth": 0,
              "ticks": ""
             }
            },
            "type": "scattergeo"
           }
          ],
          "scattergl": [
           {
            "marker": {
             "colorbar": {
              "outlinewidth": 0,
              "ticks": ""
             }
            },
            "type": "scattergl"
           }
          ],
          "scattermapbox": [
           {
            "marker": {
             "colorbar": {
              "outlinewidth": 0,
              "ticks": ""
             }
            },
            "type": "scattermapbox"
           }
          ],
          "scatterpolar": [
           {
            "marker": {
             "colorbar": {
              "outlinewidth": 0,
              "ticks": ""
             }
            },
            "type": "scatterpolar"
           }
          ],
          "scatterpolargl": [
           {
            "marker": {
             "colorbar": {
              "outlinewidth": 0,
              "ticks": ""
             }
            },
            "type": "scatterpolargl"
           }
          ],
          "scatterternary": [
           {
            "marker": {
             "colorbar": {
              "outlinewidth": 0,
              "ticks": ""
             }
            },
            "type": "scatterternary"
           }
          ],
          "surface": [
           {
            "colorbar": {
             "outlinewidth": 0,
             "ticks": ""
            },
            "colorscale": [
             [
              0,
              "#0d0887"
             ],
             [
              0.1111111111111111,
              "#46039f"
             ],
             [
              0.2222222222222222,
              "#7201a8"
             ],
             [
              0.3333333333333333,
              "#9c179e"
             ],
             [
              0.4444444444444444,
              "#bd3786"
             ],
             [
              0.5555555555555556,
              "#d8576b"
             ],
             [
              0.6666666666666666,
              "#ed7953"
             ],
             [
              0.7777777777777778,
              "#fb9f3a"
             ],
             [
              0.8888888888888888,
              "#fdca26"
             ],
             [
              1,
              "#f0f921"
             ]
            ],
            "type": "surface"
           }
          ],
          "table": [
           {
            "cells": {
             "fill": {
              "color": "#EBF0F8"
             },
             "line": {
              "color": "white"
             }
            },
            "header": {
             "fill": {
              "color": "#C8D4E3"
             },
             "line": {
              "color": "white"
             }
            },
            "type": "table"
           }
          ]
         },
         "layout": {
          "annotationdefaults": {
           "arrowcolor": "#2a3f5f",
           "arrowhead": 0,
           "arrowwidth": 1
          },
          "autotypenumbers": "strict",
          "coloraxis": {
           "colorbar": {
            "outlinewidth": 0,
            "ticks": ""
           }
          },
          "colorscale": {
           "diverging": [
            [
             0,
             "#8e0152"
            ],
            [
             0.1,
             "#c51b7d"
            ],
            [
             0.2,
             "#de77ae"
            ],
            [
             0.3,
             "#f1b6da"
            ],
            [
             0.4,
             "#fde0ef"
            ],
            [
             0.5,
             "#f7f7f7"
            ],
            [
             0.6,
             "#e6f5d0"
            ],
            [
             0.7,
             "#b8e186"
            ],
            [
             0.8,
             "#7fbc41"
            ],
            [
             0.9,
             "#4d9221"
            ],
            [
             1,
             "#276419"
            ]
           ],
           "sequential": [
            [
             0,
             "#0d0887"
            ],
            [
             0.1111111111111111,
             "#46039f"
            ],
            [
             0.2222222222222222,
             "#7201a8"
            ],
            [
             0.3333333333333333,
             "#9c179e"
            ],
            [
             0.4444444444444444,
             "#bd3786"
            ],
            [
             0.5555555555555556,
             "#d8576b"
            ],
            [
             0.6666666666666666,
             "#ed7953"
            ],
            [
             0.7777777777777778,
             "#fb9f3a"
            ],
            [
             0.8888888888888888,
             "#fdca26"
            ],
            [
             1,
             "#f0f921"
            ]
           ],
           "sequentialminus": [
            [
             0,
             "#0d0887"
            ],
            [
             0.1111111111111111,
             "#46039f"
            ],
            [
             0.2222222222222222,
             "#7201a8"
            ],
            [
             0.3333333333333333,
             "#9c179e"
            ],
            [
             0.4444444444444444,
             "#bd3786"
            ],
            [
             0.5555555555555556,
             "#d8576b"
            ],
            [
             0.6666666666666666,
             "#ed7953"
            ],
            [
             0.7777777777777778,
             "#fb9f3a"
            ],
            [
             0.8888888888888888,
             "#fdca26"
            ],
            [
             1,
             "#f0f921"
            ]
           ]
          },
          "colorway": [
           "#636efa",
           "#EF553B",
           "#00cc96",
           "#ab63fa",
           "#FFA15A",
           "#19d3f3",
           "#FF6692",
           "#B6E880",
           "#FF97FF",
           "#FECB52"
          ],
          "font": {
           "color": "#2a3f5f"
          },
          "geo": {
           "bgcolor": "white",
           "lakecolor": "white",
           "landcolor": "#E5ECF6",
           "showlakes": true,
           "showland": true,
           "subunitcolor": "white"
          },
          "hoverlabel": {
           "align": "left"
          },
          "hovermode": "closest",
          "mapbox": {
           "style": "light"
          },
          "paper_bgcolor": "white",
          "plot_bgcolor": "#E5ECF6",
          "polar": {
           "angularaxis": {
            "gridcolor": "white",
            "linecolor": "white",
            "ticks": ""
           },
           "bgcolor": "#E5ECF6",
           "radialaxis": {
            "gridcolor": "white",
            "linecolor": "white",
            "ticks": ""
           }
          },
          "scene": {
           "xaxis": {
            "backgroundcolor": "#E5ECF6",
            "gridcolor": "white",
            "gridwidth": 2,
            "linecolor": "white",
            "showbackground": true,
            "ticks": "",
            "zerolinecolor": "white"
           },
           "yaxis": {
            "backgroundcolor": "#E5ECF6",
            "gridcolor": "white",
            "gridwidth": 2,
            "linecolor": "white",
            "showbackground": true,
            "ticks": "",
            "zerolinecolor": "white"
           },
           "zaxis": {
            "backgroundcolor": "#E5ECF6",
            "gridcolor": "white",
            "gridwidth": 2,
            "linecolor": "white",
            "showbackground": true,
            "ticks": "",
            "zerolinecolor": "white"
           }
          },
          "shapedefaults": {
           "line": {
            "color": "#2a3f5f"
           }
          },
          "ternary": {
           "aaxis": {
            "gridcolor": "white",
            "linecolor": "white",
            "ticks": ""
           },
           "baxis": {
            "gridcolor": "white",
            "linecolor": "white",
            "ticks": ""
           },
           "bgcolor": "#E5ECF6",
           "caxis": {
            "gridcolor": "white",
            "linecolor": "white",
            "ticks": ""
           }
          },
          "title": {
           "x": 0.05
          },
          "xaxis": {
           "automargin": true,
           "gridcolor": "white",
           "linecolor": "white",
           "ticks": "",
           "title": {
            "standoff": 15
           },
           "zerolinecolor": "white",
           "zerolinewidth": 2
          },
          "yaxis": {
           "automargin": true,
           "gridcolor": "white",
           "linecolor": "white",
           "ticks": "",
           "title": {
            "standoff": 15
           },
           "zerolinecolor": "white",
           "zerolinewidth": 2
          }
         }
        },
        "xaxis": {
         "anchor": "y",
         "domain": [
          0,
          1
         ],
         "title": {
          "text": "Life Expectancy"
         }
        },
        "yaxis": {
         "anchor": "x",
         "domain": [
          0,
          1
         ],
         "title": {
          "text": "GDP"
         }
        }
       }
      }
     },
     "metadata": {},
     "output_type": "display_data"
    },
    {
     "name": "stdout",
     "output_type": "stream",
     "text": [
      "Mexico correlation: 0.8360965838843155\n",
      "Mexico pearson corr: 0.8360965838843157\n",
      "Mexico pearson pvalue: 1.4999133539884228e-17\n"
     ]
    },
    {
     "data": {
      "application/vnd.plotly.v1+json": {
       "config": {
        "plotlyServerURL": "https://plot.ly"
       },
       "data": [
        {
         "hovertemplate": "Country Name=Chile<br>Life Expectancy=%{x}<br>GDP=%{y}<extra></extra>",
         "legendgroup": "Chile",
         "marker": {
          "color": "#1f77b4",
          "symbol": "circle"
         },
         "mode": "markers",
         "name": "Chile",
         "orientation": "v",
         "showlegend": true,
         "type": "scatter",
         "x": [
          57.015,
          57.537,
          57.771,
          57.15,
          58.738,
          59.455,
          59.689,
          60.72,
          61.63,
          61.905,
          62.491,
          62.732,
          62.281,
          63.905,
          64.901,
          66.279,
          65.855,
          67.402,
          68.074,
          68.186,
          68.84,
          69.909,
          70.299,
          70.011,
          70.46,
          71.176,
          71.81,
          72.54,
          72.456,
          72.467,
          72.574,
          73.574,
          74.135,
          74.195,
          74.614,
          74.609,
          74.899,
          75.596,
          75.669,
          76.018,
          76.87,
          76.773,
          77.445,
          77.387,
          77.616,
          78.016,
          78.261,
          77.826,
          78.484,
          78.741,
          78.501,
          79.11,
          79.023,
          79.339,
          79.473,
          79.746,
          80.079,
          80.35,
          80.133,
          80.326,
          79.377,
          78.944,
          79.519
         ],
         "xaxis": "x",
         "y": [
          4110000000,
          4829238095.2381,
          5631285444.2344,
          5591307028.36005,
          5964195925.4443,
          6108679125.7523,
          7162633082.31628,
          7057478295.18548,
          7192102966.84119,
          8359596194.01253,
          9144112431.28214,
          10876091407.9777,
          11833904487.641,
          16826390943.8597,
          16209693232.0782,
          7621570062.17598,
          10338624019.4415,
          13965595122.3247,
          15992038535.2046,
          21806136345.5074,
          29036709871.7949,
          34509878043.5897,
          19529291464.7274,
          20362016672.278,
          19671768024.4581,
          17717662227.8036,
          18897110625.5242,
          22250729666.7937,
          26042571615.5987,
          29936735491.4427,
          33137824762.0173,
          37846188228.2702,
          45949608551.8086,
          49287378599.1612,
          56998601183.5492,
          73444831671.0169,
          78584098982.9097,
          85741415285.4035,
          81990010703.843,
          75578685735.5219,
          78339750721.7352,
          71574739561.4329,
          70264045939.1322,
          76492579644.0605,
          99075985773.176,
          122294145162.835,
          153843518171.43,
          172491076033.863,
          179894594475.98,
          171777900623.177,
          217051209240.298,
          251382573885.594,
          267024782480.28,
          277395018837.366,
          259560978231.552,
          242450355827.827,
          249344863933.461,
          276154259987.103,
          295857562991.709,
          278285058719.466,
          254042159309.311,
          315515014838.539,
          302116539409.03
         ],
         "yaxis": "y"
        }
       ],
       "layout": {
        "legend": {
         "title": {
          "text": "Country Name"
         },
         "tracegroupgap": 0
        },
        "margin": {
         "t": 60
        },
        "template": {
         "data": {
          "bar": [
           {
            "error_x": {
             "color": "#2a3f5f"
            },
            "error_y": {
             "color": "#2a3f5f"
            },
            "marker": {
             "line": {
              "color": "#E5ECF6",
              "width": 0.5
             },
             "pattern": {
              "fillmode": "overlay",
              "size": 10,
              "solidity": 0.2
             }
            },
            "type": "bar"
           }
          ],
          "barpolar": [
           {
            "marker": {
             "line": {
              "color": "#E5ECF6",
              "width": 0.5
             },
             "pattern": {
              "fillmode": "overlay",
              "size": 10,
              "solidity": 0.2
             }
            },
            "type": "barpolar"
           }
          ],
          "carpet": [
           {
            "aaxis": {
             "endlinecolor": "#2a3f5f",
             "gridcolor": "white",
             "linecolor": "white",
             "minorgridcolor": "white",
             "startlinecolor": "#2a3f5f"
            },
            "baxis": {
             "endlinecolor": "#2a3f5f",
             "gridcolor": "white",
             "linecolor": "white",
             "minorgridcolor": "white",
             "startlinecolor": "#2a3f5f"
            },
            "type": "carpet"
           }
          ],
          "choropleth": [
           {
            "colorbar": {
             "outlinewidth": 0,
             "ticks": ""
            },
            "type": "choropleth"
           }
          ],
          "contour": [
           {
            "colorbar": {
             "outlinewidth": 0,
             "ticks": ""
            },
            "colorscale": [
             [
              0,
              "#0d0887"
             ],
             [
              0.1111111111111111,
              "#46039f"
             ],
             [
              0.2222222222222222,
              "#7201a8"
             ],
             [
              0.3333333333333333,
              "#9c179e"
             ],
             [
              0.4444444444444444,
              "#bd3786"
             ],
             [
              0.5555555555555556,
              "#d8576b"
             ],
             [
              0.6666666666666666,
              "#ed7953"
             ],
             [
              0.7777777777777778,
              "#fb9f3a"
             ],
             [
              0.8888888888888888,
              "#fdca26"
             ],
             [
              1,
              "#f0f921"
             ]
            ],
            "type": "contour"
           }
          ],
          "contourcarpet": [
           {
            "colorbar": {
             "outlinewidth": 0,
             "ticks": ""
            },
            "type": "contourcarpet"
           }
          ],
          "heatmap": [
           {
            "colorbar": {
             "outlinewidth": 0,
             "ticks": ""
            },
            "colorscale": [
             [
              0,
              "#0d0887"
             ],
             [
              0.1111111111111111,
              "#46039f"
             ],
             [
              0.2222222222222222,
              "#7201a8"
             ],
             [
              0.3333333333333333,
              "#9c179e"
             ],
             [
              0.4444444444444444,
              "#bd3786"
             ],
             [
              0.5555555555555556,
              "#d8576b"
             ],
             [
              0.6666666666666666,
              "#ed7953"
             ],
             [
              0.7777777777777778,
              "#fb9f3a"
             ],
             [
              0.8888888888888888,
              "#fdca26"
             ],
             [
              1,
              "#f0f921"
             ]
            ],
            "type": "heatmap"
           }
          ],
          "heatmapgl": [
           {
            "colorbar": {
             "outlinewidth": 0,
             "ticks": ""
            },
            "colorscale": [
             [
              0,
              "#0d0887"
             ],
             [
              0.1111111111111111,
              "#46039f"
             ],
             [
              0.2222222222222222,
              "#7201a8"
             ],
             [
              0.3333333333333333,
              "#9c179e"
             ],
             [
              0.4444444444444444,
              "#bd3786"
             ],
             [
              0.5555555555555556,
              "#d8576b"
             ],
             [
              0.6666666666666666,
              "#ed7953"
             ],
             [
              0.7777777777777778,
              "#fb9f3a"
             ],
             [
              0.8888888888888888,
              "#fdca26"
             ],
             [
              1,
              "#f0f921"
             ]
            ],
            "type": "heatmapgl"
           }
          ],
          "histogram": [
           {
            "marker": {
             "pattern": {
              "fillmode": "overlay",
              "size": 10,
              "solidity": 0.2
             }
            },
            "type": "histogram"
           }
          ],
          "histogram2d": [
           {
            "colorbar": {
             "outlinewidth": 0,
             "ticks": ""
            },
            "colorscale": [
             [
              0,
              "#0d0887"
             ],
             [
              0.1111111111111111,
              "#46039f"
             ],
             [
              0.2222222222222222,
              "#7201a8"
             ],
             [
              0.3333333333333333,
              "#9c179e"
             ],
             [
              0.4444444444444444,
              "#bd3786"
             ],
             [
              0.5555555555555556,
              "#d8576b"
             ],
             [
              0.6666666666666666,
              "#ed7953"
             ],
             [
              0.7777777777777778,
              "#fb9f3a"
             ],
             [
              0.8888888888888888,
              "#fdca26"
             ],
             [
              1,
              "#f0f921"
             ]
            ],
            "type": "histogram2d"
           }
          ],
          "histogram2dcontour": [
           {
            "colorbar": {
             "outlinewidth": 0,
             "ticks": ""
            },
            "colorscale": [
             [
              0,
              "#0d0887"
             ],
             [
              0.1111111111111111,
              "#46039f"
             ],
             [
              0.2222222222222222,
              "#7201a8"
             ],
             [
              0.3333333333333333,
              "#9c179e"
             ],
             [
              0.4444444444444444,
              "#bd3786"
             ],
             [
              0.5555555555555556,
              "#d8576b"
             ],
             [
              0.6666666666666666,
              "#ed7953"
             ],
             [
              0.7777777777777778,
              "#fb9f3a"
             ],
             [
              0.8888888888888888,
              "#fdca26"
             ],
             [
              1,
              "#f0f921"
             ]
            ],
            "type": "histogram2dcontour"
           }
          ],
          "mesh3d": [
           {
            "colorbar": {
             "outlinewidth": 0,
             "ticks": ""
            },
            "type": "mesh3d"
           }
          ],
          "parcoords": [
           {
            "line": {
             "colorbar": {
              "outlinewidth": 0,
              "ticks": ""
             }
            },
            "type": "parcoords"
           }
          ],
          "pie": [
           {
            "automargin": true,
            "type": "pie"
           }
          ],
          "scatter": [
           {
            "fillpattern": {
             "fillmode": "overlay",
             "size": 10,
             "solidity": 0.2
            },
            "type": "scatter"
           }
          ],
          "scatter3d": [
           {
            "line": {
             "colorbar": {
              "outlinewidth": 0,
              "ticks": ""
             }
            },
            "marker": {
             "colorbar": {
              "outlinewidth": 0,
              "ticks": ""
             }
            },
            "type": "scatter3d"
           }
          ],
          "scattercarpet": [
           {
            "marker": {
             "colorbar": {
              "outlinewidth": 0,
              "ticks": ""
             }
            },
            "type": "scattercarpet"
           }
          ],
          "scattergeo": [
           {
            "marker": {
             "colorbar": {
              "outlinewidth": 0,
              "ticks": ""
             }
            },
            "type": "scattergeo"
           }
          ],
          "scattergl": [
           {
            "marker": {
             "colorbar": {
              "outlinewidth": 0,
              "ticks": ""
             }
            },
            "type": "scattergl"
           }
          ],
          "scattermapbox": [
           {
            "marker": {
             "colorbar": {
              "outlinewidth": 0,
              "ticks": ""
             }
            },
            "type": "scattermapbox"
           }
          ],
          "scatterpolar": [
           {
            "marker": {
             "colorbar": {
              "outlinewidth": 0,
              "ticks": ""
             }
            },
            "type": "scatterpolar"
           }
          ],
          "scatterpolargl": [
           {
            "marker": {
             "colorbar": {
              "outlinewidth": 0,
              "ticks": ""
             }
            },
            "type": "scatterpolargl"
           }
          ],
          "scatterternary": [
           {
            "marker": {
             "colorbar": {
              "outlinewidth": 0,
              "ticks": ""
             }
            },
            "type": "scatterternary"
           }
          ],
          "surface": [
           {
            "colorbar": {
             "outlinewidth": 0,
             "ticks": ""
            },
            "colorscale": [
             [
              0,
              "#0d0887"
             ],
             [
              0.1111111111111111,
              "#46039f"
             ],
             [
              0.2222222222222222,
              "#7201a8"
             ],
             [
              0.3333333333333333,
              "#9c179e"
             ],
             [
              0.4444444444444444,
              "#bd3786"
             ],
             [
              0.5555555555555556,
              "#d8576b"
             ],
             [
              0.6666666666666666,
              "#ed7953"
             ],
             [
              0.7777777777777778,
              "#fb9f3a"
             ],
             [
              0.8888888888888888,
              "#fdca26"
             ],
             [
              1,
              "#f0f921"
             ]
            ],
            "type": "surface"
           }
          ],
          "table": [
           {
            "cells": {
             "fill": {
              "color": "#EBF0F8"
             },
             "line": {
              "color": "white"
             }
            },
            "header": {
             "fill": {
              "color": "#C8D4E3"
             },
             "line": {
              "color": "white"
             }
            },
            "type": "table"
           }
          ]
         },
         "layout": {
          "annotationdefaults": {
           "arrowcolor": "#2a3f5f",
           "arrowhead": 0,
           "arrowwidth": 1
          },
          "autotypenumbers": "strict",
          "coloraxis": {
           "colorbar": {
            "outlinewidth": 0,
            "ticks": ""
           }
          },
          "colorscale": {
           "diverging": [
            [
             0,
             "#8e0152"
            ],
            [
             0.1,
             "#c51b7d"
            ],
            [
             0.2,
             "#de77ae"
            ],
            [
             0.3,
             "#f1b6da"
            ],
            [
             0.4,
             "#fde0ef"
            ],
            [
             0.5,
             "#f7f7f7"
            ],
            [
             0.6,
             "#e6f5d0"
            ],
            [
             0.7,
             "#b8e186"
            ],
            [
             0.8,
             "#7fbc41"
            ],
            [
             0.9,
             "#4d9221"
            ],
            [
             1,
             "#276419"
            ]
           ],
           "sequential": [
            [
             0,
             "#0d0887"
            ],
            [
             0.1111111111111111,
             "#46039f"
            ],
            [
             0.2222222222222222,
             "#7201a8"
            ],
            [
             0.3333333333333333,
             "#9c179e"
            ],
            [
             0.4444444444444444,
             "#bd3786"
            ],
            [
             0.5555555555555556,
             "#d8576b"
            ],
            [
             0.6666666666666666,
             "#ed7953"
            ],
            [
             0.7777777777777778,
             "#fb9f3a"
            ],
            [
             0.8888888888888888,
             "#fdca26"
            ],
            [
             1,
             "#f0f921"
            ]
           ],
           "sequentialminus": [
            [
             0,
             "#0d0887"
            ],
            [
             0.1111111111111111,
             "#46039f"
            ],
            [
             0.2222222222222222,
             "#7201a8"
            ],
            [
             0.3333333333333333,
             "#9c179e"
            ],
            [
             0.4444444444444444,
             "#bd3786"
            ],
            [
             0.5555555555555556,
             "#d8576b"
            ],
            [
             0.6666666666666666,
             "#ed7953"
            ],
            [
             0.7777777777777778,
             "#fb9f3a"
            ],
            [
             0.8888888888888888,
             "#fdca26"
            ],
            [
             1,
             "#f0f921"
            ]
           ]
          },
          "colorway": [
           "#636efa",
           "#EF553B",
           "#00cc96",
           "#ab63fa",
           "#FFA15A",
           "#19d3f3",
           "#FF6692",
           "#B6E880",
           "#FF97FF",
           "#FECB52"
          ],
          "font": {
           "color": "#2a3f5f"
          },
          "geo": {
           "bgcolor": "white",
           "lakecolor": "white",
           "landcolor": "#E5ECF6",
           "showlakes": true,
           "showland": true,
           "subunitcolor": "white"
          },
          "hoverlabel": {
           "align": "left"
          },
          "hovermode": "closest",
          "mapbox": {
           "style": "light"
          },
          "paper_bgcolor": "white",
          "plot_bgcolor": "#E5ECF6",
          "polar": {
           "angularaxis": {
            "gridcolor": "white",
            "linecolor": "white",
            "ticks": ""
           },
           "bgcolor": "#E5ECF6",
           "radialaxis": {
            "gridcolor": "white",
            "linecolor": "white",
            "ticks": ""
           }
          },
          "scene": {
           "xaxis": {
            "backgroundcolor": "#E5ECF6",
            "gridcolor": "white",
            "gridwidth": 2,
            "linecolor": "white",
            "showbackground": true,
            "ticks": "",
            "zerolinecolor": "white"
           },
           "yaxis": {
            "backgroundcolor": "#E5ECF6",
            "gridcolor": "white",
            "gridwidth": 2,
            "linecolor": "white",
            "showbackground": true,
            "ticks": "",
            "zerolinecolor": "white"
           },
           "zaxis": {
            "backgroundcolor": "#E5ECF6",
            "gridcolor": "white",
            "gridwidth": 2,
            "linecolor": "white",
            "showbackground": true,
            "ticks": "",
            "zerolinecolor": "white"
           }
          },
          "shapedefaults": {
           "line": {
            "color": "#2a3f5f"
           }
          },
          "ternary": {
           "aaxis": {
            "gridcolor": "white",
            "linecolor": "white",
            "ticks": ""
           },
           "baxis": {
            "gridcolor": "white",
            "linecolor": "white",
            "ticks": ""
           },
           "bgcolor": "#E5ECF6",
           "caxis": {
            "gridcolor": "white",
            "linecolor": "white",
            "ticks": ""
           }
          },
          "title": {
           "x": 0.05
          },
          "xaxis": {
           "automargin": true,
           "gridcolor": "white",
           "linecolor": "white",
           "ticks": "",
           "title": {
            "standoff": 15
           },
           "zerolinecolor": "white",
           "zerolinewidth": 2
          },
          "yaxis": {
           "automargin": true,
           "gridcolor": "white",
           "linecolor": "white",
           "ticks": "",
           "title": {
            "standoff": 15
           },
           "zerolinecolor": "white",
           "zerolinewidth": 2
          }
         }
        },
        "xaxis": {
         "anchor": "y",
         "domain": [
          0,
          1
         ],
         "title": {
          "text": "Life Expectancy"
         }
        },
        "yaxis": {
         "anchor": "x",
         "domain": [
          0,
          1
         ],
         "title": {
          "text": "GDP"
         }
        }
       }
      }
     },
     "metadata": {},
     "output_type": "display_data"
    },
    {
     "name": "stdout",
     "output_type": "stream",
     "text": [
      "Chile correlation: 0.771631778639865\n",
      "Chile pearson corr: 0.7716317786398649\n",
      "Chile pearson pvalue: 1.346776535237519e-13\n"
     ]
    },
    {
     "data": {
      "application/vnd.plotly.v1+json": {
       "config": {
        "plotlyServerURL": "https://plot.ly"
       },
       "data": [
        {
         "hovertemplate": "Country Name=Peru<br>Life Expectancy=%{x}<br>GDP=%{y}<extra></extra>",
         "legendgroup": "Peru",
         "marker": {
          "color": "#d62728",
          "symbol": "circle"
         },
         "mode": "markers",
         "name": "Peru",
         "orientation": "v",
         "showlegend": true,
         "type": "scatter",
         "x": [
          60.015,
          60.161,
          60.467,
          61.292,
          62.024,
          62.804,
          63.601,
          64.352,
          65.106,
          65.434,
          66.149,
          66.681,
          67.227,
          67.644,
          68.147,
          68.605,
          69.082,
          69.743,
          70.424,
          71.041,
          71.661,
          72.217,
          72.668,
          72.986,
          73.172,
          73.223,
          73.377,
          73.466,
          73.711,
          74.133,
          74.544,
          74.967,
          75.333,
          75.621,
          75.789,
          75.879,
          76.009,
          76.156,
          73.665,
          72.377,
          73.385
         ],
         "xaxis": "x",
         "y": [
          15203143381,
          14124541992.5,
          20339340469.3333,
          15044388198.1818,
          21777475654.2857,
          36533467759.4118,
          15439408447.2,
          22499558526.3682,
          26410386962.8019,
          34341465998.2003,
          35966302303.263,
          34832077220.8537,
          44882079766.8913,
          53312793687.3836,
          55252414130.3019,
          58147522522.5225,
          55501467877.381,
          50187324567.883,
          51744749133.213,
          52030158775.4055,
          54777553515.0809,
          58731030121.8671,
          66768703497.5687,
          76060606060.6061,
          88643193061.748,
          102170981144.136,
          120550599815.441,
          120822986521.479,
          147527631520.729,
          171761737046.585,
          192650021648.583,
          201175543571.392,
          200786250582.943,
          189802976285.619,
          191898104390.379,
          211007984080.911,
          222597009739.235,
          228346006003.648,
          201409694755.934,
          226354278280.885,
          246488757636.211
         ],
         "yaxis": "y"
        }
       ],
       "layout": {
        "legend": {
         "title": {
          "text": "Country Name"
         },
         "tracegroupgap": 0
        },
        "margin": {
         "t": 60
        },
        "template": {
         "data": {
          "bar": [
           {
            "error_x": {
             "color": "#2a3f5f"
            },
            "error_y": {
             "color": "#2a3f5f"
            },
            "marker": {
             "line": {
              "color": "#E5ECF6",
              "width": 0.5
             },
             "pattern": {
              "fillmode": "overlay",
              "size": 10,
              "solidity": 0.2
             }
            },
            "type": "bar"
           }
          ],
          "barpolar": [
           {
            "marker": {
             "line": {
              "color": "#E5ECF6",
              "width": 0.5
             },
             "pattern": {
              "fillmode": "overlay",
              "size": 10,
              "solidity": 0.2
             }
            },
            "type": "barpolar"
           }
          ],
          "carpet": [
           {
            "aaxis": {
             "endlinecolor": "#2a3f5f",
             "gridcolor": "white",
             "linecolor": "white",
             "minorgridcolor": "white",
             "startlinecolor": "#2a3f5f"
            },
            "baxis": {
             "endlinecolor": "#2a3f5f",
             "gridcolor": "white",
             "linecolor": "white",
             "minorgridcolor": "white",
             "startlinecolor": "#2a3f5f"
            },
            "type": "carpet"
           }
          ],
          "choropleth": [
           {
            "colorbar": {
             "outlinewidth": 0,
             "ticks": ""
            },
            "type": "choropleth"
           }
          ],
          "contour": [
           {
            "colorbar": {
             "outlinewidth": 0,
             "ticks": ""
            },
            "colorscale": [
             [
              0,
              "#0d0887"
             ],
             [
              0.1111111111111111,
              "#46039f"
             ],
             [
              0.2222222222222222,
              "#7201a8"
             ],
             [
              0.3333333333333333,
              "#9c179e"
             ],
             [
              0.4444444444444444,
              "#bd3786"
             ],
             [
              0.5555555555555556,
              "#d8576b"
             ],
             [
              0.6666666666666666,
              "#ed7953"
             ],
             [
              0.7777777777777778,
              "#fb9f3a"
             ],
             [
              0.8888888888888888,
              "#fdca26"
             ],
             [
              1,
              "#f0f921"
             ]
            ],
            "type": "contour"
           }
          ],
          "contourcarpet": [
           {
            "colorbar": {
             "outlinewidth": 0,
             "ticks": ""
            },
            "type": "contourcarpet"
           }
          ],
          "heatmap": [
           {
            "colorbar": {
             "outlinewidth": 0,
             "ticks": ""
            },
            "colorscale": [
             [
              0,
              "#0d0887"
             ],
             [
              0.1111111111111111,
              "#46039f"
             ],
             [
              0.2222222222222222,
              "#7201a8"
             ],
             [
              0.3333333333333333,
              "#9c179e"
             ],
             [
              0.4444444444444444,
              "#bd3786"
             ],
             [
              0.5555555555555556,
              "#d8576b"
             ],
             [
              0.6666666666666666,
              "#ed7953"
             ],
             [
              0.7777777777777778,
              "#fb9f3a"
             ],
             [
              0.8888888888888888,
              "#fdca26"
             ],
             [
              1,
              "#f0f921"
             ]
            ],
            "type": "heatmap"
           }
          ],
          "heatmapgl": [
           {
            "colorbar": {
             "outlinewidth": 0,
             "ticks": ""
            },
            "colorscale": [
             [
              0,
              "#0d0887"
             ],
             [
              0.1111111111111111,
              "#46039f"
             ],
             [
              0.2222222222222222,
              "#7201a8"
             ],
             [
              0.3333333333333333,
              "#9c179e"
             ],
             [
              0.4444444444444444,
              "#bd3786"
             ],
             [
              0.5555555555555556,
              "#d8576b"
             ],
             [
              0.6666666666666666,
              "#ed7953"
             ],
             [
              0.7777777777777778,
              "#fb9f3a"
             ],
             [
              0.8888888888888888,
              "#fdca26"
             ],
             [
              1,
              "#f0f921"
             ]
            ],
            "type": "heatmapgl"
           }
          ],
          "histogram": [
           {
            "marker": {
             "pattern": {
              "fillmode": "overlay",
              "size": 10,
              "solidity": 0.2
             }
            },
            "type": "histogram"
           }
          ],
          "histogram2d": [
           {
            "colorbar": {
             "outlinewidth": 0,
             "ticks": ""
            },
            "colorscale": [
             [
              0,
              "#0d0887"
             ],
             [
              0.1111111111111111,
              "#46039f"
             ],
             [
              0.2222222222222222,
              "#7201a8"
             ],
             [
              0.3333333333333333,
              "#9c179e"
             ],
             [
              0.4444444444444444,
              "#bd3786"
             ],
             [
              0.5555555555555556,
              "#d8576b"
             ],
             [
              0.6666666666666666,
              "#ed7953"
             ],
             [
              0.7777777777777778,
              "#fb9f3a"
             ],
             [
              0.8888888888888888,
              "#fdca26"
             ],
             [
              1,
              "#f0f921"
             ]
            ],
            "type": "histogram2d"
           }
          ],
          "histogram2dcontour": [
           {
            "colorbar": {
             "outlinewidth": 0,
             "ticks": ""
            },
            "colorscale": [
             [
              0,
              "#0d0887"
             ],
             [
              0.1111111111111111,
              "#46039f"
             ],
             [
              0.2222222222222222,
              "#7201a8"
             ],
             [
              0.3333333333333333,
              "#9c179e"
             ],
             [
              0.4444444444444444,
              "#bd3786"
             ],
             [
              0.5555555555555556,
              "#d8576b"
             ],
             [
              0.6666666666666666,
              "#ed7953"
             ],
             [
              0.7777777777777778,
              "#fb9f3a"
             ],
             [
              0.8888888888888888,
              "#fdca26"
             ],
             [
              1,
              "#f0f921"
             ]
            ],
            "type": "histogram2dcontour"
           }
          ],
          "mesh3d": [
           {
            "colorbar": {
             "outlinewidth": 0,
             "ticks": ""
            },
            "type": "mesh3d"
           }
          ],
          "parcoords": [
           {
            "line": {
             "colorbar": {
              "outlinewidth": 0,
              "ticks": ""
             }
            },
            "type": "parcoords"
           }
          ],
          "pie": [
           {
            "automargin": true,
            "type": "pie"
           }
          ],
          "scatter": [
           {
            "fillpattern": {
             "fillmode": "overlay",
             "size": 10,
             "solidity": 0.2
            },
            "type": "scatter"
           }
          ],
          "scatter3d": [
           {
            "line": {
             "colorbar": {
              "outlinewidth": 0,
              "ticks": ""
             }
            },
            "marker": {
             "colorbar": {
              "outlinewidth": 0,
              "ticks": ""
             }
            },
            "type": "scatter3d"
           }
          ],
          "scattercarpet": [
           {
            "marker": {
             "colorbar": {
              "outlinewidth": 0,
              "ticks": ""
             }
            },
            "type": "scattercarpet"
           }
          ],
          "scattergeo": [
           {
            "marker": {
             "colorbar": {
              "outlinewidth": 0,
              "ticks": ""
             }
            },
            "type": "scattergeo"
           }
          ],
          "scattergl": [
           {
            "marker": {
             "colorbar": {
              "outlinewidth": 0,
              "ticks": ""
             }
            },
            "type": "scattergl"
           }
          ],
          "scattermapbox": [
           {
            "marker": {
             "colorbar": {
              "outlinewidth": 0,
              "ticks": ""
             }
            },
            "type": "scattermapbox"
           }
          ],
          "scatterpolar": [
           {
            "marker": {
             "colorbar": {
              "outlinewidth": 0,
              "ticks": ""
             }
            },
            "type": "scatterpolar"
           }
          ],
          "scatterpolargl": [
           {
            "marker": {
             "colorbar": {
              "outlinewidth": 0,
              "ticks": ""
             }
            },
            "type": "scatterpolargl"
           }
          ],
          "scatterternary": [
           {
            "marker": {
             "colorbar": {
              "outlinewidth": 0,
              "ticks": ""
             }
            },
            "type": "scatterternary"
           }
          ],
          "surface": [
           {
            "colorbar": {
             "outlinewidth": 0,
             "ticks": ""
            },
            "colorscale": [
             [
              0,
              "#0d0887"
             ],
             [
              0.1111111111111111,
              "#46039f"
             ],
             [
              0.2222222222222222,
              "#7201a8"
             ],
             [
              0.3333333333333333,
              "#9c179e"
             ],
             [
              0.4444444444444444,
              "#bd3786"
             ],
             [
              0.5555555555555556,
              "#d8576b"
             ],
             [
              0.6666666666666666,
              "#ed7953"
             ],
             [
              0.7777777777777778,
              "#fb9f3a"
             ],
             [
              0.8888888888888888,
              "#fdca26"
             ],
             [
              1,
              "#f0f921"
             ]
            ],
            "type": "surface"
           }
          ],
          "table": [
           {
            "cells": {
             "fill": {
              "color": "#EBF0F8"
             },
             "line": {
              "color": "white"
             }
            },
            "header": {
             "fill": {
              "color": "#C8D4E3"
             },
             "line": {
              "color": "white"
             }
            },
            "type": "table"
           }
          ]
         },
         "layout": {
          "annotationdefaults": {
           "arrowcolor": "#2a3f5f",
           "arrowhead": 0,
           "arrowwidth": 1
          },
          "autotypenumbers": "strict",
          "coloraxis": {
           "colorbar": {
            "outlinewidth": 0,
            "ticks": ""
           }
          },
          "colorscale": {
           "diverging": [
            [
             0,
             "#8e0152"
            ],
            [
             0.1,
             "#c51b7d"
            ],
            [
             0.2,
             "#de77ae"
            ],
            [
             0.3,
             "#f1b6da"
            ],
            [
             0.4,
             "#fde0ef"
            ],
            [
             0.5,
             "#f7f7f7"
            ],
            [
             0.6,
             "#e6f5d0"
            ],
            [
             0.7,
             "#b8e186"
            ],
            [
             0.8,
             "#7fbc41"
            ],
            [
             0.9,
             "#4d9221"
            ],
            [
             1,
             "#276419"
            ]
           ],
           "sequential": [
            [
             0,
             "#0d0887"
            ],
            [
             0.1111111111111111,
             "#46039f"
            ],
            [
             0.2222222222222222,
             "#7201a8"
            ],
            [
             0.3333333333333333,
             "#9c179e"
            ],
            [
             0.4444444444444444,
             "#bd3786"
            ],
            [
             0.5555555555555556,
             "#d8576b"
            ],
            [
             0.6666666666666666,
             "#ed7953"
            ],
            [
             0.7777777777777778,
             "#fb9f3a"
            ],
            [
             0.8888888888888888,
             "#fdca26"
            ],
            [
             1,
             "#f0f921"
            ]
           ],
           "sequentialminus": [
            [
             0,
             "#0d0887"
            ],
            [
             0.1111111111111111,
             "#46039f"
            ],
            [
             0.2222222222222222,
             "#7201a8"
            ],
            [
             0.3333333333333333,
             "#9c179e"
            ],
            [
             0.4444444444444444,
             "#bd3786"
            ],
            [
             0.5555555555555556,
             "#d8576b"
            ],
            [
             0.6666666666666666,
             "#ed7953"
            ],
            [
             0.7777777777777778,
             "#fb9f3a"
            ],
            [
             0.8888888888888888,
             "#fdca26"
            ],
            [
             1,
             "#f0f921"
            ]
           ]
          },
          "colorway": [
           "#636efa",
           "#EF553B",
           "#00cc96",
           "#ab63fa",
           "#FFA15A",
           "#19d3f3",
           "#FF6692",
           "#B6E880",
           "#FF97FF",
           "#FECB52"
          ],
          "font": {
           "color": "#2a3f5f"
          },
          "geo": {
           "bgcolor": "white",
           "lakecolor": "white",
           "landcolor": "#E5ECF6",
           "showlakes": true,
           "showland": true,
           "subunitcolor": "white"
          },
          "hoverlabel": {
           "align": "left"
          },
          "hovermode": "closest",
          "mapbox": {
           "style": "light"
          },
          "paper_bgcolor": "white",
          "plot_bgcolor": "#E5ECF6",
          "polar": {
           "angularaxis": {
            "gridcolor": "white",
            "linecolor": "white",
            "ticks": ""
           },
           "bgcolor": "#E5ECF6",
           "radialaxis": {
            "gridcolor": "white",
            "linecolor": "white",
            "ticks": ""
           }
          },
          "scene": {
           "xaxis": {
            "backgroundcolor": "#E5ECF6",
            "gridcolor": "white",
            "gridwidth": 2,
            "linecolor": "white",
            "showbackground": true,
            "ticks": "",
            "zerolinecolor": "white"
           },
           "yaxis": {
            "backgroundcolor": "#E5ECF6",
            "gridcolor": "white",
            "gridwidth": 2,
            "linecolor": "white",
            "showbackground": true,
            "ticks": "",
            "zerolinecolor": "white"
           },
           "zaxis": {
            "backgroundcolor": "#E5ECF6",
            "gridcolor": "white",
            "gridwidth": 2,
            "linecolor": "white",
            "showbackground": true,
            "ticks": "",
            "zerolinecolor": "white"
           }
          },
          "shapedefaults": {
           "line": {
            "color": "#2a3f5f"
           }
          },
          "ternary": {
           "aaxis": {
            "gridcolor": "white",
            "linecolor": "white",
            "ticks": ""
           },
           "baxis": {
            "gridcolor": "white",
            "linecolor": "white",
            "ticks": ""
           },
           "bgcolor": "#E5ECF6",
           "caxis": {
            "gridcolor": "white",
            "linecolor": "white",
            "ticks": ""
           }
          },
          "title": {
           "x": 0.05
          },
          "xaxis": {
           "automargin": true,
           "gridcolor": "white",
           "linecolor": "white",
           "ticks": "",
           "title": {
            "standoff": 15
           },
           "zerolinecolor": "white",
           "zerolinewidth": 2
          },
          "yaxis": {
           "automargin": true,
           "gridcolor": "white",
           "linecolor": "white",
           "ticks": "",
           "title": {
            "standoff": 15
           },
           "zerolinecolor": "white",
           "zerolinewidth": 2
          }
         }
        },
        "xaxis": {
         "anchor": "y",
         "domain": [
          0,
          1
         ],
         "title": {
          "text": "Life Expectancy"
         }
        },
        "yaxis": {
         "anchor": "x",
         "domain": [
          0,
          1
         ],
         "title": {
          "text": "GDP"
         }
        }
       }
      }
     },
     "metadata": {},
     "output_type": "display_data"
    },
    {
     "name": "stdout",
     "output_type": "stream",
     "text": [
      "Peru correlation: 0.8251354907456356\n",
      "Peru pearson corr: 0.8251354907456359\n",
      "Peru pearson pvalue: 3.237415574235191e-11\n"
     ]
    }
   ],
   "source": [
    "country_colors = {\n",
    "    \"Chile\": \"#1f77b4\",\n",
    "    \"China\": \"#ff7f0e\",\n",
    "    \"United Kingdom\": \"#2ca02c\",\n",
    "    \"Mexico\": \"#9467bd\",\n",
    "    \"Peru\": \"#d62728\",\n",
    "    \"United States\": \"#17becf\"\n",
    "}\n",
    "\n",
    "for country in countries:\n",
    "  country_df = df[df[\"Country Name\"] == country].dropna(subset=[\"GDP\", \"Life Expectancy\"])\n",
    "  fig = px.scatter(country_df, x=\"Life Expectancy\", y=\"GDP\", color=\"Country Name\" ,color_discrete_map=country_colors)\n",
    "  fig.show()\n",
    "  correlation = country_df['GDP'].corr(df['Life Expectancy'])\n",
    "  print(f\"{country} correlation: {correlation}\")\n",
    "  corr, pvalue = pearsonr(country_df[\"GDP\"], country_df[\"Life Expectancy\"])\n",
    "  print(f\"{country} pearson corr: {corr}\")\n",
    "  print(f\"{country} pearson pvalue: {pvalue}\")\n"
   ]
  },
  {
   "cell_type": "markdown",
   "metadata": {},
   "source": [
    "#### Is there a correlation between GDP and life expectancy of a country?\n",
    "- As we can see, there is a strong positive correlation between GDP and Life Expectancy for each country.\n",
    "- Higher GDP generally correlates with better healthcare infrastructure, including access to medical facilities, doctors, and medicines. This improves healthcare outcomes and reduces mortality rates, thus increasing life expectancy."
   ]
  }
 ],
 "metadata": {
  "kernelspec": {
   "display_name": "Python 3 (ipykernel)",
   "language": "python",
   "name": "python3"
  },
  "language_info": {
   "codemirror_mode": {
    "name": "ipython",
    "version": 3
   },
   "file_extension": ".py",
   "mimetype": "text/x-python",
   "name": "python",
   "nbconvert_exporter": "python",
   "pygments_lexer": "ipython3",
   "version": "3.12.4"
  }
 },
 "nbformat": 4,
 "nbformat_minor": 4
}
