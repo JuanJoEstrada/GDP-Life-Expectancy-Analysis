{
 "cells": [
  {
   "cell_type": "markdown",
   "metadata": {},
   "source": [
    "# Life Expectancy and GDP Merge"
   ]
  },
  {
   "cell_type": "markdown",
   "metadata": {},
   "source": [
    "The goal of this project is to investigate the relation between the life expectancy of its citizens and the economic output of a country (GDP).\n",
    "For that we need to join specific data from *World Bank Group*.\n"
   ]
  },
  {
   "cell_type": "markdown",
   "metadata": {},
   "source": [
    "**Data sources**\n",
    "\n",
    "- GDP Source: [World Bank Group](https://data.worldbank.org/indicator/NY.GDP.MKTP.CD)\n",
    "\n",
    "- Life expectancy Data Source: [World Bank Group](https://data.worldbank.org/indicator/SP.DYN.LE00.IN)\n"
   ]
  },
  {
   "cell_type": "markdown",
   "metadata": {},
   "source": [
    "### Choose your own countries\n",
    "\n",
    "If would like to analyze other countries. Just pick your countries and put them in `countries`."
   ]
  },
  {
   "cell_type": "markdown",
   "metadata": {},
   "source": [
    "## Import libraries"
   ]
  },
  {
   "cell_type": "code",
   "execution_count": 15,
   "metadata": {},
   "outputs": [],
   "source": [
    "import pandas as pd\n",
    "\n",
    "pd.options.mode.chained_assignment = None"
   ]
  },
  {
   "cell_type": "markdown",
   "metadata": {},
   "source": [
    "## Load csv"
   ]
  },
  {
   "cell_type": "code",
   "execution_count": 16,
   "metadata": {},
   "outputs": [],
   "source": [
    "all_gdp = pd.read_csv(\"world_gdp.csv\")\n",
    "all_life_expectancy = pd.read_csv(\"world_life_expectancy.csv\")"
   ]
  },
  {
   "cell_type": "markdown",
   "metadata": {},
   "source": [
    "## Prepare the data"
   ]
  },
  {
   "cell_type": "markdown",
   "metadata": {},
   "source": [
    "The data from `world_gdp` and `world_life_expectancy` are in a \"wide\" format, with each year as a separate column. This can be challenging for many graphing tools. Let us convert them from \"wide\" format to \"long\" format. This would create a structure like: **Country Name | Country Code | Indicator Name | Year | Value**. We can get rid of **Indicator Code**."
   ]
  },
  {
   "cell_type": "code",
   "execution_count": 17,
   "metadata": {},
   "outputs": [],
   "source": [
    "def melt_dataframe(df, id_vars, value_name):\n",
    "  years_colums = [column for column in df.columns if column.isdigit()]\n",
    "  return df.melt(id_vars=id_vars, value_vars=years_colums, var_name=\"Year\", value_name=value_name)"
   ]
  },
  {
   "cell_type": "code",
   "execution_count": 18,
   "metadata": {},
   "outputs": [],
   "source": [
    "id_vars = [\"Country Name\", \"Country Code\", \"Indicator Name\"]\n",
    "all_gdp_melted = melt_dataframe(df=all_gdp, id_vars=id_vars, value_name=\"GDP\")\n",
    "all_life_expectancy_melted = melt_dataframe(df=all_life_expectancy, id_vars=id_vars, value_name=\"Life Expectancy\")"
   ]
  },
  {
   "cell_type": "markdown",
   "metadata": {},
   "source": [
    "## Merge dataframes"
   ]
  },
  {
   "cell_type": "markdown",
   "metadata": {},
   "source": [
    "Merges the two melted dataframes based on country and year."
   ]
  },
  {
   "cell_type": "code",
   "execution_count": 19,
   "metadata": {},
   "outputs": [],
   "source": [
    "merged_df = pd.merge(all_gdp_melted, all_life_expectancy_melted, on=['Country Name', 'Country Code', 'Year'], suffixes=(' GDP', ' LifeExp'))"
   ]
  },
  {
   "cell_type": "markdown",
   "metadata": {},
   "source": [
    "## Select countries"
   ]
  },
  {
   "cell_type": "code",
   "execution_count": 20,
   "metadata": {},
   "outputs": [],
   "source": [
    "countries = [\"Peru\", \"Chile\", \"Mexico\", \"United Kingdom\", \"China\", \"United States\"]\n",
    "filtered_df = merged_df[merged_df[\"Country Name\"].isin(countries)]\n",
    "filtered_df[\"Year\"] = pd.to_numeric(filtered_df[\"Year\"], errors=\"coerce\")\n",
    "filtered_df.to_csv(\"filtered_gdp_lifeExp.csv\", index=False)"
   ]
  }
 ],
 "metadata": {
  "kernelspec": {
   "display_name": "Python 3",
   "language": "python",
   "name": "python3"
  },
  "language_info": {
   "codemirror_mode": {
    "name": "ipython",
    "version": 3
   },
   "file_extension": ".py",
   "mimetype": "text/x-python",
   "name": "python",
   "nbconvert_exporter": "python",
   "pygments_lexer": "ipython3",
   "version": "3.12.4"
  }
 },
 "nbformat": 4,
 "nbformat_minor": 4
}
